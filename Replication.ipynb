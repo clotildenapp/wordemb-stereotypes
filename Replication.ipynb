{
 "cells": [
  {
   "cell_type": "code",
   "execution_count": 1,
   "id": "bd550d8f",
   "metadata": {},
   "outputs": [
    {
     "name": "stdout",
     "output_type": "stream",
     "text": [
      "/Users/Napp/Documents/bias_embedding\n"
     ]
    }
   ],
   "source": [
    "cd /Users/Napp/Documents/bias_embedding"
   ]
  },
  {
   "cell_type": "code",
   "execution_count": 2,
   "id": "eaffffc8",
   "metadata": {},
   "outputs": [],
   "source": [
    "from pathlib import Path\n",
    "import fasttext\n",
    "import numpy as np"
   ]
  },
  {
   "cell_type": "code",
   "execution_count": 3,
   "id": "7157bfd3",
   "metadata": {
    "scrolled": true
   },
   "outputs": [],
   "source": [
    "path_to_fasttext_models = Path(\"/Users/Napp/Desktop/Vectors/\")"
   ]
  },
  {
   "cell_type": "markdown",
   "id": "4bfa0d2e",
   "metadata": {},
   "source": [
    "## Functions"
   ]
  },
  {
   "cell_type": "code",
   "execution_count": 4,
   "id": "c458893c",
   "metadata": {},
   "outputs": [],
   "source": [
    "def similarity(x, y):\n",
    "    sim = np.dot(x, y)/(np.sqrt(np.dot(x, x))*np.sqrt(np.dot(y, y)))\n",
    "    return sim\n",
    "\n",
    "def score(attribute, target_set, model):\n",
    "    sim = [similarity(model.get_word_vector(attribute), model[target]) for target in target_set]\n",
    "    avg_sim = np.mean(sim)\n",
    "    return avg_sim\n",
    "\n",
    "def association(w, X, Y, model):\n",
    "    return score(w, X, model) - score(w, Y, model)\n",
    "\n",
    "def weat_score(X, Y, A, B, model):\n",
    "    ass_x = [association(w, X, Y, model) for w in A]\n",
    "    ass_y = [association(w, X, Y, model) for w in B]\n",
    "    weat_x = np.mean(ass_x)\n",
    "    weat_y = np.mean(ass_y)\n",
    "    weat = np.mean(ass_x) - np.mean(ass_y)\n",
    "    weat_es = weat / np.std(ass_x + ass_y)\n",
    "    \n",
    "    return weat_x, weat_y, weat, weat_es\n",
    "\n",
    "def load_model(model_name):\n",
    "    model_path = path_to_fasttext_models / model_name\n",
    "    assert Path(model_path).is_file(), f\"{model_path} does not exist\"\n",
    "    print(\"Loading model from \", model_path)\n",
    "    ft = fasttext.load_model(str(model_path))\n",
    "    return ft"
   ]
  },
  {
   "cell_type": "markdown",
   "id": "2af070a9",
   "metadata": {},
   "source": [
    "## Afrikaans, af"
   ]
  },
  {
   "cell_type": "code",
   "execution_count": 186,
   "id": "704e4c8d",
   "metadata": {},
   "outputs": [
    {
     "name": "stdout",
     "output_type": "stream",
     "text": [
      "CPU times: user 3 µs, sys: 1e+03 ns, total: 4 µs\n",
      "Wall time: 5.96 µs\n",
      "Loading model from  /Users/Napp/Desktop/Vectors/wiki.af.bin\n"
     ]
    },
    {
     "name": "stderr",
     "output_type": "stream",
     "text": [
      "Warning : `load_model` does not return WordVectorModel or SupervisedModel any more, but a `FastText` object which is very similar.\n"
     ]
    }
   ],
   "source": [
    "%time\n",
    "lang = \"af\"\n",
    "model_name = f\"wiki.{lang}.bin\" # the model file (should be the same, ending by '.bin')\n",
    "model = load_model(model_name)"
   ]
  },
  {
   "cell_type": "code",
   "execution_count": 187,
   "id": "815d1fe7",
   "metadata": {},
   "outputs": [
    {
     "data": {
      "text/plain": [
       "(-0.086061046, -0.13882867, 0.05276762, 0.6326235)"
      ]
     },
     "execution_count": 187,
     "metadata": {},
     "output_type": "execute_result"
    }
   ],
   "source": [
    "#Google\n",
    "A = [\"man\", \"man\", \"seun\", \"broer\", \"hy\", \"hom\", \"sy\", \"seun\"]\n",
    "B = [\"vrou\", \"vrou\", \"meisie\", \"suster\", \"sy\", \"haar\", \"hare\", \"dogter\"]\n",
    "X = [\"uitvoerend\", \"bestuur\", \"professioneel\", \"korporasie\", \"salaris\", \"kantoor\", \"besigheid\", \"loopbaan\"]\n",
    "Y = [\"huis\", \"ouers\", \"kinders\", \"familie\", \"neefs\", \"huwelik\", \"troue\", \"familielede\"]\n",
    "\n",
    "\n",
    "weat_x, weat_y, weat, weat_es = weat_score(X, Y, A, B, model)\n",
    "weat_x, weat_y, weat, weat_es"
   ]
  },
  {
   "cell_type": "code",
   "execution_count": 188,
   "id": "f0cdd10a",
   "metadata": {},
   "outputs": [
    {
     "data": {
      "text/plain": [
       "(-0.044920743, -0.06509284, 0.020172097, 0.61443055)"
      ]
     },
     "execution_count": 188,
     "metadata": {},
     "output_type": "execute_result"
    }
   ],
   "source": [
    "#Google\n",
    "A = [\"man\", \"man\", \"seun\", \"broer\", \"hy\", \"hom\", \"sy\", \"seun\"]\n",
    "B = [\"vrou\", \"vrou\", \"meisie\", \"suster\", \"sy\", \"haar\", \"hare\", \"dogter\"]\n",
    "X = [\"wiskunde\", \"algebra\", \"meetkunde\", \"calculus\", \"vergelykings\", \"berekening\", \"getalle\", \"optelling\"]\n",
    "Y = [\"poësie\", \"kuns\", \"dans\", \"literatuur\", \"roman\", \"simfonie\", \"drama\", \"beeldhouwerk\"]\n",
    "\n",
    "\n",
    "\n",
    "weat_x, weat_y, weat, weat_es = weat_score(X, Y, A, B, model)\n",
    "weat_x, weat_y, weat, weat_es"
   ]
  },
  {
   "cell_type": "code",
   "execution_count": 189,
   "id": "d5556752",
   "metadata": {},
   "outputs": [
    {
     "data": {
      "text/plain": [
       "(-0.050910603, -0.07027653, 0.019365925, 0.680057)"
      ]
     },
     "execution_count": 189,
     "metadata": {},
     "output_type": "execute_result"
    }
   ],
   "source": [
    "#Google\n",
    "A = [\"man\", \"man\", \"seun\", \"broer\", \"hy\", \"hom\", \"sy\", \"seun\"]\n",
    "B = [\"vrou\", \"vrou\", \"meisie\", \"suster\", \"sy\", \"haar\", \"hare\", \"dogter\"]\n",
    "X = [\"wetenskap\", \"tegnologie\", \"fisika\", \"chemie\", \"Einstein\", \"NASA\", \"eksperiment\", \"astronomie\"]\n",
    "Y = [\"poësie\", \"kuns\", \"Shakespeare\", \"dans\", \"literatuur\", \"roman\", \"simfonie\", \"drama\"]\n",
    "\n",
    "\n",
    "weat_x, weat_y, weat, weat_es = weat_score(X, Y, A, B, model)\n",
    "weat_x, weat_y, weat, weat_es"
   ]
  },
  {
   "cell_type": "markdown",
   "id": "8fb1547e",
   "metadata": {},
   "source": [
    "## Albanian, sq"
   ]
  },
  {
   "cell_type": "code",
   "execution_count": 170,
   "id": "9e391460",
   "metadata": {},
   "outputs": [
    {
     "name": "stdout",
     "output_type": "stream",
     "text": [
      "CPU times: user 3 µs, sys: 12 µs, total: 15 µs\n",
      "Wall time: 31.9 µs\n",
      "Loading model from  /Users/Napp/Desktop/Vectors/wiki.sq.bin\n"
     ]
    },
    {
     "name": "stderr",
     "output_type": "stream",
     "text": [
      "Warning : `load_model` does not return WordVectorModel or SupervisedModel any more, but a `FastText` object which is very similar.\n"
     ]
    }
   ],
   "source": [
    "%time\n",
    "lang = \"sq\"\n",
    "model_name = f\"wiki.{lang}.bin\" # the model file (should be the same, ending by '.bin')\n",
    "model = load_model(model_name)"
   ]
  },
  {
   "cell_type": "code",
   "execution_count": 171,
   "id": "58f4ae92",
   "metadata": {},
   "outputs": [
    {
     "data": {
      "text/plain": [
       "(-0.08899544, -0.12197031, 0.03297487, 0.3078337)"
      ]
     },
     "execution_count": 171,
     "metadata": {},
     "output_type": "execute_result"
    }
   ],
   "source": [
    "#Google\n",
    "A = [\"mashkull\", \"burrë\", \"djalë\", \"vëlla\", \"ai\", \"ai\", \"i tij\", \"djali\"]\n",
    "B = [\"femër\", \"grua\", \"vajzë\", \"motër\", \"ajo\", \"e saj\", \"e saj\", \"vajza\"]\n",
    "X = [\"ekzekutiv\", \"menaxhimi\", \"profesionist\", \"korporatë\", \"rroga\", \"zyre\", \"biznes\", \"karriera\"]\n",
    "Y = [\"shtëpi\", \"prindër\", \"fëmijë\", \"familje\", \"kushërinj\", \"martesë\", \"martesë\", \"të afërm\"]\n",
    "\n",
    "\n",
    "weat_x, weat_y, weat, weat_es = weat_score(X, Y, A, B, model)\n",
    "weat_x, weat_y, weat, weat_es"
   ]
  },
  {
   "cell_type": "code",
   "execution_count": 172,
   "id": "944b4547",
   "metadata": {},
   "outputs": [
    {
     "data": {
      "text/plain": [
       "(-0.021593971, -0.03190984, 0.010315867, 0.34124112)"
      ]
     },
     "execution_count": 172,
     "metadata": {},
     "output_type": "execute_result"
    }
   ],
   "source": [
    "#Google\n",
    "A = [\"mashkull\", \"burrë\", \"djalë\", \"vëlla\", \"ai\", \"ai\", \"i tij\", \"djali\"]\n",
    "B = [\"femër\", \"grua\", \"vajzë\", \"motër\", \"ajo\", \"e saj\", \"e saj\", \"vajza\"]\n",
    "X = [\"matematikë\", \"algjebër\", \"gjeometri\", \"llogaritje\", \"ekuacione\", \"llogaritje\", \"numra\", \"mbledhje\"]\n",
    "Y = [\"poezi\", \"art\", \"valle\", \"letërsi\", \"roman\", \"simfoni\", \"dramë\", \"skulpturë\"]\n",
    "\n",
    "\n",
    "\n",
    "weat_x, weat_y, weat, weat_es = weat_score(X, Y, A, B, model)\n",
    "weat_x, weat_y, weat, weat_es"
   ]
  },
  {
   "cell_type": "code",
   "execution_count": 173,
   "id": "9782c2ec",
   "metadata": {},
   "outputs": [
    {
     "data": {
      "text/plain": [
       "(-0.039985675, -0.037937865, -0.0020478107, -0.052320678)"
      ]
     },
     "execution_count": 173,
     "metadata": {},
     "output_type": "execute_result"
    }
   ],
   "source": [
    "#Google\n",
    "A = [\"mashkull\", \"burrë\", \"djalë\", \"vëlla\", \"ai\", \"ai\", \"i tij\", \"djali\"]\n",
    "B = [\"femër\", \"grua\", \"vajzë\", \"motër\", \"ajo\", \"e saj\", \"e saj\", \"vajza\"]\n",
    "X = [\"shkencë\", \"teknologji\", \"fizikë\", \"kimi\", \"Ajnshtajni\", \"NASA\", \"eksperiment\", \"astronomi\"]\n",
    "Y = [\"poezi\", \"art\", \"Shakespeare\", \"valle\", \"letërsi\", \"roman\", \"simfoni\", \"dramë\"]\n",
    "\n",
    "\n",
    "weat_x, weat_y, weat, weat_es = weat_score(X, Y, A, B, model)\n",
    "weat_x, weat_y, weat, weat_es"
   ]
  },
  {
   "cell_type": "markdown",
   "id": "5c467bd5",
   "metadata": {},
   "source": [
    "## Amharic, am"
   ]
  },
  {
   "cell_type": "code",
   "execution_count": 258,
   "id": "2dc7f104",
   "metadata": {},
   "outputs": [
    {
     "name": "stdout",
     "output_type": "stream",
     "text": [
      "CPU times: user 2 µs, sys: 0 ns, total: 2 µs\n",
      "Wall time: 4.77 µs\n",
      "Loading model from  /Users/Napp/Desktop/Vectors/wiki.am.bin\n"
     ]
    },
    {
     "name": "stderr",
     "output_type": "stream",
     "text": [
      "Warning : `load_model` does not return WordVectorModel or SupervisedModel any more, but a `FastText` object which is very similar.\n"
     ]
    }
   ],
   "source": [
    "%time\n",
    "lang = \"am\"\n",
    "model_name = f\"wiki.{lang}.bin\" # the model file (should be the same, ending by '.bin')\n",
    "model = load_model(model_name)"
   ]
  },
  {
   "cell_type": "code",
   "execution_count": 259,
   "id": "e1246c72",
   "metadata": {},
   "outputs": [
    {
     "data": {
      "text/plain": [
       "(-0.062747166, -0.030744899, -0.032002266, -0.43235618)"
      ]
     },
     "execution_count": 259,
     "metadata": {},
     "output_type": "execute_result"
    }
   ],
   "source": [
    "#Google\n",
    "A = [\"ወንድ\", \"ወንድ\", \"ወንድ\", \"ወንድም\", \"እሱ\",  \"የሱ\",  \"ልጅ\"]\n",
    "B = [\"ሴት\", \"ሴት\", \"ሴት ልጅ\", \"እህት\", \"እሷ\",  \"እሷ\",  \"የሷ\",  \"ሴት ልጅ\"]\n",
    "X = [\"አስፈፃሚ\",  \"ማኔጅመንት\",  \"ሙያዊ\",  \"ኮርፖሬሽን\",  \"ደመወዝ\",  \"ቢሮ\",  \"ቢዝነስ\",  \"ሙያ\"]\n",
    "Y = [\"ቤት\", \"ወላጆች\", \"ልጆች\", \"ቤተሰብ\", \"የአክስት ልጆች\", \"ጋብቻ\", \"ሠርግ\", \"ዘመዶች\"]\n",
    "\n",
    "\n",
    "\n",
    "weat_x, weat_y, weat, weat_es = weat_score(X, Y, A, B, model)\n",
    "weat_x, weat_y, weat, weat_es"
   ]
  },
  {
   "cell_type": "code",
   "execution_count": 260,
   "id": "4b4ea0a4",
   "metadata": {},
   "outputs": [
    {
     "data": {
      "text/plain": [
       "(-0.021379804, -0.034729168, 0.013349364, 0.28573585)"
      ]
     },
     "execution_count": 260,
     "metadata": {},
     "output_type": "execute_result"
    }
   ],
   "source": [
    "#Google\n",
    "A = [\"ወንድ\", \"ወንድ\", \"ወንድ\", \"ወንድም\", \"እሱ\",  \"የሱ\",  \"ልጅ\"]\n",
    "B = [\"ሴት\", \"ሴት\", \"ሴት ልጅ\", \"እህት\", \"እሷ\",  \"እሷ\",  \"የሷ\",  \"ሴት ልጅ\"]\n",
    "X = [\"ሒሳብ\",  \"አልጀብራ\",  \"ጂኦሜትሪ\",  \"ካልኩለስ\",  \"እኩልታዎች\",  \"ስሌት\",  \"ቁጥሮች\",  \"መደመር\"]\n",
    "Y = [\"ግጥም\",  \"ጥበብ\",  \"ዳንስ\",  \"ሥነ ጽሑፍ\",  \"ልቦለድ\",  \"ሲምፎኒ\",  \"ድራማ\",  \"ቅርጻቅርጽ\"]\n",
    "\n",
    "\n",
    "weat_x, weat_y, weat, weat_es = weat_score(X, Y, A, B, model)\n",
    "weat_x, weat_y, weat, weat_es"
   ]
  },
  {
   "cell_type": "code",
   "execution_count": 261,
   "id": "ffd526bd",
   "metadata": {},
   "outputs": [
    {
     "data": {
      "text/plain": [
       "(-0.07248795, -0.086900175, 0.014412224, 0.31283975)"
      ]
     },
     "execution_count": 261,
     "metadata": {},
     "output_type": "execute_result"
    }
   ],
   "source": [
    "#Google\n",
    "A = [\"ወንድ\", \"ወንድ\", \"ወንድ\", \"ወንድም\", \"እሱ\",  \"የሱ\",  \"ልጅ\"]\n",
    "B = [\"ሴት\", \"ሴት\", \"ሴት ልጅ\", \"እህት\",  \"እሷ\",  \"እሷ\",  \"የሷ\",  \"ሴት ልጅ\"]\n",
    "X = [\"ሳይንስ\", \"ቴክኖሎጂ\", \"ፊዚክስ\", \"ኬሚስትሪ\", \"አንስታይን\", \"ናሳ\", \"ሙከራ\", \"ሥነ ፈለክ\"]\n",
    "Y = [\"ግጥም\",  \"ጥበብ\",  \"ሼክስፒር\",  \"ዳንስ\",  \"ሥነ ጽሑፍ\",  \"ልቦለድ\",  \"ሲምፎኒ\",  \"ድራማ\"]\n",
    "\n",
    "\n",
    "\n",
    "weat_x, weat_y, weat, weat_es = weat_score(X, Y, A, B, model)\n",
    "weat_x, weat_y, weat, weat_es"
   ]
  },
  {
   "cell_type": "markdown",
   "id": "38a271a5",
   "metadata": {},
   "source": [
    "## Arabic, ar"
   ]
  },
  {
   "cell_type": "code",
   "execution_count": 5,
   "id": "07dca1ad",
   "metadata": {
    "scrolled": true
   },
   "outputs": [
    {
     "name": "stdout",
     "output_type": "stream",
     "text": [
      "CPU times: user 1 µs, sys: 1 µs, total: 2 µs\n",
      "Wall time: 4.05 µs\n",
      "Loading model from  /Users/Napp/Desktop/Vectors/wiki.ar.bin\n"
     ]
    },
    {
     "name": "stderr",
     "output_type": "stream",
     "text": [
      "Warning : `load_model` does not return WordVectorModel or SupervisedModel any more, but a `FastText` object which is very similar.\n"
     ]
    }
   ],
   "source": [
    "%time\n",
    "lang = \"ar\"\n",
    "model_name = f\"wiki.{lang}.bin\" # the model file (should be the same, ending by '.bin')\n",
    "model = load_model(model_name)"
   ]
  },
  {
   "cell_type": "code",
   "execution_count": 6,
   "id": "868d1ba4",
   "metadata": {},
   "outputs": [
    {
     "data": {
      "text/plain": [
       "(-0.021108072, -0.056183897, 0.035075825, 0.6725535)"
      ]
     },
     "execution_count": 6,
     "metadata": {},
     "output_type": "execute_result"
    }
   ],
   "source": [
    "#Google\n",
    "A = [\"ذكر\" ,  \"رجل\" ,  \"ولد\" ,  \"أخ\" ,  \"هو\" ,  \"هو\"  , \"له\" , \"ابن\"]\n",
    "B = [\"أنثى\" ,  \"امرأة\" ,  \"فتاة\" ,  \"أخت\" ,  \"هي\" ,  \"هي\" ,  \"لها\" ,  \"ابنتها\"]\n",
    "X = [\"تنفيذي\" ,  \"إدارة\" ,  \"مهنية\" ,  \"شركة\" ,  \"راتب\" ,  \"مكتب\" ,  \"عمل\" ,  \"مهنة\"]\n",
    "Y = [\"المنزل\" ,  \"الآباء\" ,  \"الأطفال\" ,  \"العائلة\" ,  \"أبناء العم\" ,  \"الزواج\" ,  \"الزفاف\" ,  \"الأقارب\"]\n",
    "\n",
    "\n",
    "weat_x, weat_y, weat, weat_es = weat_score(X, Y, A, B, model)\n",
    "weat_x, weat_y, weat, weat_es"
   ]
  },
  {
   "cell_type": "code",
   "execution_count": 7,
   "id": "131066d9",
   "metadata": {},
   "outputs": [
    {
     "data": {
      "text/plain": [
       "(-0.011337069, -0.025747586, 0.014410517, 0.3110765)"
      ]
     },
     "execution_count": 7,
     "metadata": {},
     "output_type": "execute_result"
    }
   ],
   "source": [
    "#Google\n",
    "A = [\"ذكر\"  ,  \"رجل\"  ,  \"ولد\"  ,  \"أخ\"  ,  \"هو\"  ,  \"هو\"  ,  \"له\"  ,  \"ابن\"]\n",
    "B = [\"أنثى\"  ,  \"امرأة\"  ,  \"فتاة\"  ,  \"أخت\"  ,  \"هي\"  ,  \"هي\"  ,  \"لها\"  ,  \"ابنتها\"]\n",
    "X = [\"الرياضيات\"  ,  \"الجبر\"  ,  \"الهندسة\"  ,  \"حساب التفاضل والتكامل\"  ,  \"المعادلات\"  ,  \"الحساب\"  ,  \"الأرقام\"  ,  \"الإضافة\"]\n",
    "Y = [\"الشعر\"  ,  \"الفن\"  ,  \"الرقص\"  ,  \"الأدب\"  ,  \"الرواية\"  ,  \"السمفونية\"  ,  \"الدراما\"  ,  \"النحت\"]\n",
    "\n",
    "\n",
    "\n",
    "weat_x, weat_y, weat, weat_es = weat_score(X, Y, A, B, model)\n",
    "weat_x, weat_y, weat, weat_es"
   ]
  },
  {
   "cell_type": "code",
   "execution_count": 8,
   "id": "733c3515",
   "metadata": {},
   "outputs": [
    {
     "data": {
      "text/plain": [
       "(-0.0013426524, -0.01478411, 0.013441457, 0.45914966)"
      ]
     },
     "execution_count": 8,
     "metadata": {},
     "output_type": "execute_result"
    }
   ],
   "source": [
    "#Google\n",
    "A = [\"ذكر\" ,  \"رجل\" ,  \"ولد\" ,  \"أخ\" ,  \"هو\" ,  \"هو\"  , \"له\" , \"ابن\"]\n",
    "B = [\"أنثى\" ,  \"امرأة\" ,  \"فتاة\" ,  \"أخت\" ,  \"هي\" ,  \"هي\" ,  \"لها\" ,  \"ابنتها\"]\n",
    "X = [\"علم\" ,  \"تكنولوجيا\" ,  \"فيزياء\" ,  \"كيمياء\" ,  \"أينشتاين\" ,  \"ناسا\" ,  \"تجربة\" ,  \"علم الفلك\"]\n",
    "Y = [\"الشعر\" ,  \"الفن\" ,  \"شكسبير\" ,  \"الرقص\" ,  \"الأدب\" ,  \"الرواية\" ,  \"السيمفونية\" ,  \"الدراما\"]\n",
    "\n",
    "\n",
    "\n",
    "weat_x, weat_y, weat, weat_es = weat_score(X, Y, A, B, model)\n",
    "weat_x, weat_y, weat, weat_es"
   ]
  },
  {
   "cell_type": "markdown",
   "id": "a995c16e",
   "metadata": {},
   "source": [
    "## Armenian, hy"
   ]
  },
  {
   "cell_type": "code",
   "execution_count": 230,
   "id": "9b4b84c6",
   "metadata": {},
   "outputs": [
    {
     "name": "stdout",
     "output_type": "stream",
     "text": [
      "CPU times: user 3 µs, sys: 1e+03 ns, total: 4 µs\n",
      "Wall time: 5.25 µs\n",
      "Loading model from  /Users/Napp/Desktop/Vectors/wiki.hy.bin\n"
     ]
    },
    {
     "name": "stderr",
     "output_type": "stream",
     "text": [
      "Warning : `load_model` does not return WordVectorModel or SupervisedModel any more, but a `FastText` object which is very similar.\n"
     ]
    }
   ],
   "source": [
    "%time\n",
    "lang = \"hy\"\n",
    "model_name = f\"wiki.{lang}.bin\" # the model file (should be the same, ending by '.bin')\n",
    "model = load_model(model_name)"
   ]
  },
  {
   "cell_type": "code",
   "execution_count": 231,
   "id": "9a684e85",
   "metadata": {},
   "outputs": [
    {
     "data": {
      "text/plain": [
       "(-0.06764338, -0.06412896, -0.003514424, -0.04810889)"
      ]
     },
     "execution_count": 231,
     "metadata": {},
     "output_type": "execute_result"
    }
   ],
   "source": [
    "#Google\n",
    "\n",
    "A = [\"արական\", \"տղամարդ\", \"տղա\", \"եղբայր\", \"նա\", \"նա\", \"նրա\", \"որդի\"]\n",
    "B = [\"իգական\", \"կին\", \"աղջիկ\", \"քույր\", \"նա\", \"նրա\", \"նրա\", \"դուստր\"]\n",
    "X = [\"գործադիր\", \"կառավարում\", \"մասնագիտական\", \"կորպորացիա\", \"աշխատավարձ\", \"գրասենյակ\", \"բիզնես\", \"կարիերա\"]\n",
    "Y = [\"տուն\", \"ծնողներ\", \"երեխաներ\", \"ընտանիք\", \"զարմիկներ\", \"ամուսնություն\", \"հարսանիք\", \"հարազատներ\"]\n",
    "\n",
    "weat_x, weat_y, weat, weat_es = weat_score(X, Y, A, B, model)\n",
    "weat_x, weat_y, weat, weat_es"
   ]
  },
  {
   "cell_type": "code",
   "execution_count": 232,
   "id": "b337b44c",
   "metadata": {},
   "outputs": [
    {
     "data": {
      "text/plain": [
       "(0.0072507616, 0.0057650274, 0.0014857342, 0.08907238)"
      ]
     },
     "execution_count": 232,
     "metadata": {},
     "output_type": "execute_result"
    }
   ],
   "source": [
    "#Google\n",
    "\n",
    "A = [\"արական\", \"տղամարդ\", \"տղա\", \"եղբայր\", \"նա\", \"նա\", \"նրա\", \"որդի\"]\n",
    "B = [\"իգական\", \"կին\", \"աղջիկ\", \"քույր\", \"նա\", \"նրա\", \"նրա\", \"դուստր\"]\n",
    "X = [\"մաթեմատիկա\", \"հանրահաշիվ\", \"երկրաչափություն\", \"հաշվարկ\", \"հավասարումներ\", \"հաշվարկ\", \"թվեր\", \"ավելացում\"]\n",
    "Y = [\"պոեզիա\", \"արվեստ\", \"պար\", \"գրականություն\", \"վեպ\", \"սիմֆոնիա\", \"դրամա\", \"քանդակ\"]\n",
    "\n",
    "weat_x, weat_y, weat, weat_es = weat_score(X, Y, A, B, model)\n",
    "weat_x, weat_y, weat, weat_es"
   ]
  },
  {
   "cell_type": "code",
   "execution_count": 233,
   "id": "d4419b5c",
   "metadata": {},
   "outputs": [
    {
     "data": {
      "text/plain": [
       "(-0.0169328, -0.011611848, -0.0053209523, -0.33271384)"
      ]
     },
     "execution_count": 233,
     "metadata": {},
     "output_type": "execute_result"
    }
   ],
   "source": [
    "#Google\n",
    "\n",
    "A = [\"արական\", \"տղամարդ\", \"տղա\", \"եղբայր\", \"նա\", \"նա\", \"նրա\", \"որդի\"]\n",
    "B = [\"իգական\", \"կին\", \"աղջիկ\", \"քույր\", \"նա\", \"նրա\", \"նրա\", \"դուստր\"]\n",
    "X = [\"գիտություն\", \"տեխնոլոգիա\", \"ֆիզիկա\", \"քիմիա\", \"Էյնշտեյն\", \"NASA\", \"փորձ\", \"աստղագիտություն\"]\n",
    "Y = [\"պոեզիա\", \"արվեստ\", \"Շեքսպիր\", \"պար\", \"գրականություն\", \"վեպ\", \"սիմֆոնիա\", \"դրամա\"]\n",
    "\n",
    "\n",
    "weat_x, weat_y, weat, weat_es = weat_score(X, Y, A, B, model)\n",
    "weat_x, weat_y, weat, weat_es"
   ]
  },
  {
   "cell_type": "markdown",
   "id": "d86f554f",
   "metadata": {},
   "source": [
    "## Azerbaijani, az"
   ]
  },
  {
   "cell_type": "code",
   "execution_count": 242,
   "id": "8396a5b5",
   "metadata": {},
   "outputs": [
    {
     "name": "stdout",
     "output_type": "stream",
     "text": [
      "CPU times: user 4 µs, sys: 6 µs, total: 10 µs\n",
      "Wall time: 31.9 µs\n",
      "Loading model from  /Users/Napp/Desktop/Vectors/wiki.az.bin\n"
     ]
    },
    {
     "name": "stderr",
     "output_type": "stream",
     "text": [
      "Warning : `load_model` does not return WordVectorModel or SupervisedModel any more, but a `FastText` object which is very similar.\n"
     ]
    }
   ],
   "source": [
    "%time\n",
    "lang = \"az\"\n",
    "model_name = f\"wiki.{lang}.bin\" # the model file (should be the same, ending by '.bin')\n",
    "model = load_model(model_name)"
   ]
  },
  {
   "cell_type": "code",
   "execution_count": 243,
   "id": "108f1483",
   "metadata": {},
   "outputs": [
    {
     "data": {
      "text/plain": [
       "(-0.07536313, -0.072769314, -0.0025938153, -0.045484044)"
      ]
     },
     "execution_count": 243,
     "metadata": {},
     "output_type": "execute_result"
    }
   ],
   "source": [
    "#Google\n",
    "A = [\"kişi\", \"kişi\", \"oğlan\", \"qardaş\", \"o\", \"onun\", \"onun\", \"oğlu\"]\n",
    "B = [\"qadın\", \"qadın\", \"qız\", \"bacı\", \"o\", \"onun\", \"onun\", \"qızı\"]\n",
    "X = [\"idarə\", \"idarəetmə\", \"peşəkar\", \"korporasiya\", \"maaş\", \"ofis\", \"biznes\", \"karyera\"]\n",
    "Y = [\"ev\", \"valideynlər\", \"uşaqlar\", \"ailə\", \"əmioğlular\", \"nikah\", \"toy\", \"qohumlar\"]\n",
    "\n",
    "\n",
    "\n",
    "\n",
    "weat_x, weat_y, weat, weat_es = weat_score(X, Y, A, B, model)\n",
    "weat_x, weat_y, weat, weat_es"
   ]
  },
  {
   "cell_type": "code",
   "execution_count": 244,
   "id": "0964517a",
   "metadata": {},
   "outputs": [
    {
     "data": {
      "text/plain": [
       "(-0.0143099, -0.021051876, 0.0067419764, 0.191827)"
      ]
     },
     "execution_count": 244,
     "metadata": {},
     "output_type": "execute_result"
    }
   ],
   "source": [
    "#Google\n",
    "A = [\"kişi\", \"kişi\", \"oğlan\", \"qardaş\", \"o\", \"onun\", \"onun\", \"oğlu\"]\n",
    "B = [\"qadın\", \"qadın\", \"qız\", \"bacı\", \"o\", \"onun\", \"onun\", \"qızı\"]\n",
    "X = [\"riyaziyyat\", \"cəbr\", \"həndəsə\", \"hesablama\", \"tənliklər\", \"hesablama\", \"ədədlər\", \"əlavə\"]\n",
    "Y = [\"poeziya\", \"incəsənət\", \"rəqs\", \"ədəbiyyat\", \"roman\", \"simfoniya\", \"dram\", \"heykəltəraşlıq\"]\n",
    "\n",
    "\n",
    "\n",
    "weat_x, weat_y, weat, weat_es = weat_score(X, Y, A, B, model)\n",
    "weat_x, weat_y, weat, weat_es"
   ]
  },
  {
   "cell_type": "code",
   "execution_count": 245,
   "id": "fba429b5",
   "metadata": {},
   "outputs": [
    {
     "data": {
      "text/plain": [
       "(-0.019606866, -0.024867525, 0.0052606594, 0.16262479)"
      ]
     },
     "execution_count": 245,
     "metadata": {},
     "output_type": "execute_result"
    }
   ],
   "source": [
    "#Google\n",
    "A = [\"kişi\", \"kişi\", \"oğlan\", \"qardaş\", \"o\", \"onun\", \"onun\", \"oğlu\"]\n",
    "B = [\"qadın\", \"qadın\", \"qız\", \"bacı\", \"o\", \"onun\", \"onun\", \"qızı\"]\n",
    "X = [\"elm\", \"texnologiya\", \"fizika\", \"kimya\", \"Eynşteyn\", \"NASA\", \"təcrübə\", \"astronomiya\"]\n",
    "Y = [\"şeir\", \"incəsənət\", \"Şekspir\", \"rəqs\", \"ədəbiyyat\", \"roman\", \"simfoniya\", \"dram\"]\n",
    "\n",
    "\n",
    "\n",
    "weat_x, weat_y, weat, weat_es = weat_score(X, Y, A, B, model)\n",
    "weat_x, weat_y, weat, weat_es"
   ]
  },
  {
   "cell_type": "markdown",
   "id": "a0a7ea35",
   "metadata": {},
   "source": [
    "## Belarusian, be"
   ]
  },
  {
   "cell_type": "code",
   "execution_count": 194,
   "id": "701e04f0",
   "metadata": {},
   "outputs": [
    {
     "name": "stdout",
     "output_type": "stream",
     "text": [
      "CPU times: user 2 µs, sys: 1e+03 ns, total: 3 µs\n",
      "Wall time: 6.2 µs\n",
      "Loading model from  /Users/Napp/Desktop/Vectors/wiki.be.bin\n"
     ]
    },
    {
     "name": "stderr",
     "output_type": "stream",
     "text": [
      "Warning : `load_model` does not return WordVectorModel or SupervisedModel any more, but a `FastText` object which is very similar.\n"
     ]
    }
   ],
   "source": [
    "%time\n",
    "lang = \"be\"\n",
    "model_name = f\"wiki.{lang}.bin\" # the model file (should be the same, ending by '.bin')\n",
    "model = load_model(model_name)"
   ]
  },
  {
   "cell_type": "code",
   "execution_count": 195,
   "id": "37b0a116",
   "metadata": {},
   "outputs": [
    {
     "data": {
      "text/plain": [
       "(-0.08446233, -0.061524063, -0.022938266, -0.4058292)"
      ]
     },
     "execution_count": 195,
     "metadata": {},
     "output_type": "execute_result"
    }
   ],
   "source": [
    "#Google\n",
    "A = [\"мужчына\", \"мужчына\", \"хлопчык\", \"брат\", \"ён\", \"ён\", \"яго\", \"сын\"]\n",
    "B = [\"жанчына\", \"жанчына\", \"дзяўчына\", \"сястра\", \"яна\", \"яе\", \"яе\", \"дачка\"]\n",
    "X = [\"выканаўчы\", \"кіраўніцкі\", \"прафесійны\", \"карпарацыя\", \"зарплата\", \"офіс\", \"бізнэс\", \"кар'ера\"]\n",
    "Y = [\"дом\", \"бацькі\", \"дзеці\", \"сям'я\", \"кузены\", \"шлюб\", \"вяселле\", \"сваякі\"]\n",
    "\n",
    "\n",
    "weat_x, weat_y, weat, weat_es = weat_score(X, Y, A, B, model)\n",
    "weat_x, weat_y, weat, weat_es"
   ]
  },
  {
   "cell_type": "code",
   "execution_count": 196,
   "id": "51fa8777",
   "metadata": {},
   "outputs": [
    {
     "data": {
      "text/plain": [
       "(-0.029452765, -0.056688298, 0.027235532, 0.53845006)"
      ]
     },
     "execution_count": 196,
     "metadata": {},
     "output_type": "execute_result"
    }
   ],
   "source": [
    "#Google\n",
    "A = [\"мужчына\", \"мужчына\", \"хлопчык\", \"брат\", \"ён\", \"ён\", \"яго\", \"сын\"]\n",
    "B = [\"жанчына\", \"жанчына\", \"дзяўчына\", \"сястра\", \"яна\", \"яе\", \"яе\", \"дачка\"]\n",
    "X = [\"матэматыка\", \"алгебра\", \"геаметрыя\", \"вылічэнне\", \"ураўненні\", \"разлік\", \"лічбы\", \"складанне\"]\n",
    "Y = [\"паэзія\", \"мастацтва\", \"танец\", \"літаратура\", \"раман\", \"сімфонія\", \"драма\", \"скульптура\"]\n",
    "\n",
    "\n",
    "\n",
    "weat_x, weat_y, weat, weat_es = weat_score(X, Y, A, B, model)\n",
    "weat_x, weat_y, weat, weat_es"
   ]
  },
  {
   "cell_type": "code",
   "execution_count": 197,
   "id": "02fce8ce",
   "metadata": {},
   "outputs": [
    {
     "data": {
      "text/plain": [
       "(-0.053408, -0.057450496, 0.004042495, 0.123654135)"
      ]
     },
     "execution_count": 197,
     "metadata": {},
     "output_type": "execute_result"
    }
   ],
   "source": [
    "#Google\n",
    "A = [\"мужчына\", \"мужчына\", \"хлопчык\", \"брат\", \"ён\", \"ён\", \"яго\", \"сын\"]\n",
    "B = [\"жанчына\", \"жанчына\", \"дзяўчына\", \"сястра\", \"яна\", \"яе\", \"яе\", \"дачка\"]\n",
    "X = [\"навука\", \"тэхналогія\", \"фізіка\", \"хімія\", \"Эйнштэйн\", \"НАСА\", \"эксперымент\", \"астраномія\"]\n",
    "Y = [\"паэзія\", \"мастацтва\", \"Шэкспір\", \"танец\", \"літаратура\", \"раман\", \"сімфонія\", \"драма\"]\n",
    "\n",
    "\n",
    "weat_x, weat_y, weat, weat_es = weat_score(X, Y, A, B, model)\n",
    "weat_x, weat_y, weat, weat_es"
   ]
  },
  {
   "cell_type": "markdown",
   "id": "9d9db3a8",
   "metadata": {},
   "source": [
    "## Bengali, bn\n"
   ]
  },
  {
   "cell_type": "code",
   "execution_count": 150,
   "id": "f37f3488",
   "metadata": {},
   "outputs": [
    {
     "name": "stdout",
     "output_type": "stream",
     "text": [
      "CPU times: user 4 µs, sys: 7 µs, total: 11 µs\n",
      "Wall time: 27.9 µs\n",
      "Loading model from  /Users/Napp/Desktop/Vectors/wiki.bn.bin\n"
     ]
    },
    {
     "name": "stderr",
     "output_type": "stream",
     "text": [
      "Warning : `load_model` does not return WordVectorModel or SupervisedModel any more, but a `FastText` object which is very similar.\n"
     ]
    }
   ],
   "source": [
    "%time\n",
    "lang = \"bn\"\n",
    "model_name = f\"wiki.{lang}.bin\" # the model file (should be the same, ending by '.bin')\n",
    "model = load_model(model_name)"
   ]
  },
  {
   "cell_type": "code",
   "execution_count": 151,
   "id": "37035a1f",
   "metadata": {},
   "outputs": [
    {
     "data": {
      "text/plain": [
       "(-0.0752303, -0.08931755, 0.014087252, 0.18744116)"
      ]
     },
     "execution_count": 151,
     "metadata": {},
     "output_type": "execute_result"
    }
   ],
   "source": [
    "#Google\n",
    "\n",
    "A = [\"পুরুষ\", \"মানুষ\", \"ছেলে\", \"ভাই\", \"সে\", \"তার\", \"তার\", \"ছেলে\"]\n",
    "B = [\"মহিলা\", \"নারী\", \"মেয়ে\", \"বোন\", \"সে\", \"তার\", \"তার\", \"মেয়ে\"]\n",
    "X = [\"এক্সিকিউটিভ\", \"ম্যানেজমেন্ট\", \"পেশাদার\", \"কর্পোরেশন\", \"বেতন\", \"অফিস\", \"ব্যবসা\", \"ক্যারিয়ার\"]\n",
    "Y = [\"বাড়ি\", \"পিতামাতা\", \"সন্তান\", \"পরিবার\", \"কাজিন\", \"বিবাহ\", \"বিবাহ\", \"আত্মীয়\"]\n",
    "\n",
    "weat_x, weat_y, weat, weat_es = weat_score(X, Y, A, B, model)\n",
    "weat_x, weat_y, weat, weat_es"
   ]
  },
  {
   "cell_type": "code",
   "execution_count": 152,
   "id": "b4935b02",
   "metadata": {},
   "outputs": [
    {
     "data": {
      "text/plain": [
       "(-0.03199952, -0.05856917, 0.02656965, 0.91448164)"
      ]
     },
     "execution_count": 152,
     "metadata": {},
     "output_type": "execute_result"
    }
   ],
   "source": [
    "#Google\n",
    "\n",
    "A = [\"পুরুষ\", \"মানুষ\", \"ছেলে\", \"ভাই\", \"সে\", \"তার\", \"তার\", \"ছেলে\"]\n",
    "B = [\"মহিলা\", \"নারী\", \"মেয়ে\", \"বোন\", \"সে\", \"তার\", \"তার\", \"মেয়ে\"]\n",
    "X = [\"গণিত\", \"বীজগণিত\", \"জ্যামিতি\", \"ক্যালকুলাস\", \"সমীকরণ\", \"গণনা\", \"সংখ্যা\", \"সংযোজন\"]\n",
    "Y = [\"কবিতা\", \"শিল্প\", \"নৃত্য\", \"সাহিত্য\", \"উপন্যাস\", \"সিম্ফনি\", \"নাটক\", \"ভাস্কর্য\"]\n",
    "\n",
    "\n",
    "weat_x, weat_y, weat, weat_es = weat_score(X, Y, A, B, model)\n",
    "weat_x, weat_y, weat, weat_es"
   ]
  },
  {
   "cell_type": "code",
   "execution_count": 153,
   "id": "6d9f91f9",
   "metadata": {},
   "outputs": [
    {
     "data": {
      "text/plain": [
       "(-0.015196992, -0.033657365, 0.018460372, 0.6604209)"
      ]
     },
     "execution_count": 153,
     "metadata": {},
     "output_type": "execute_result"
    }
   ],
   "source": [
    "#Google\n",
    "\n",
    "A = [\"পুরুষ\", \"মানুষ\", \"ছেলে\", \"ভাই\", \"সে\", \"তার\", \"তার\", \"ছেলে\"]\n",
    "B = [\"মহিলা\", \"নারী\", \"মেয়ে\", \"বোন\", \"সে\", \"তার\", \"তার\", \"মেয়ে\"]\n",
    "X = [\"বিজ্ঞান\", \"প্রযুক্তি\", \"পদার্থবিদ্যা\", \"রসায়ন\", \"আইনস্টাইন\", \"নাসা\", \"পরীক্ষা\", \"জ্যোতির্বিদ্যা\"]\n",
    "Y = [\"কবিতা\", \"শিল্প\", \"শেক্সপিয়র\", \"নৃত্য\", \"সাহিত্য\", \"উপন্যাস\", \"সিম্ফনি\", \"নাটক\"]\n",
    "\n",
    "weat_x, weat_y, weat, weat_es = weat_score(X, Y, A, B, model)\n",
    "weat_x, weat_y, weat, weat_es"
   ]
  },
  {
   "cell_type": "markdown",
   "id": "7400a3b2",
   "metadata": {},
   "source": [
    "## Bosnian, bs"
   ]
  },
  {
   "cell_type": "code",
   "execution_count": 174,
   "id": "7cda8127",
   "metadata": {},
   "outputs": [
    {
     "name": "stdout",
     "output_type": "stream",
     "text": [
      "CPU times: user 2 µs, sys: 1e+03 ns, total: 3 µs\n",
      "Wall time: 5.25 µs\n",
      "Loading model from  /Users/Napp/Desktop/Vectors/wiki.bs.bin\n"
     ]
    },
    {
     "name": "stderr",
     "output_type": "stream",
     "text": [
      "Warning : `load_model` does not return WordVectorModel or SupervisedModel any more, but a `FastText` object which is very similar.\n"
     ]
    }
   ],
   "source": [
    "%time\n",
    "lang = \"bs\"\n",
    "model_name = f\"wiki.{lang}.bin\" # the model file (should be the same, ending by '.bin')\n",
    "model = load_model(model_name)"
   ]
  },
  {
   "cell_type": "code",
   "execution_count": 175,
   "id": "e7062a91",
   "metadata": {},
   "outputs": [
    {
     "data": {
      "text/plain": [
       "(-0.053832825, -0.06080371, 0.006970886, 0.102227286)"
      ]
     },
     "execution_count": 175,
     "metadata": {},
     "output_type": "execute_result"
    }
   ],
   "source": [
    "#Google\n",
    "\n",
    "A = [\"muško\", \"muškarac\", \"dečak\", \"brat\", \"on\", \"on\", \"njegov\", \"sin\"]\n",
    "B = [\"žensko\", \"žena\", \"djevojka\", \"sestra\", \"ona\", \"ona\", \"njena\", \"ćerka\"]\n",
    "X = [\"izvršni\", \"menadžment\", \"profesionalac\", \"korporacija\", \"plata\", \"kancelarija\", \"posao\", \"karijera\"]\n",
    "Y = [\"dom\", \"roditelji\", \"djeca\", \"porodica\", \"rođaci\", \"brak\", \"vjenčanje\", \"rođaci\"]\n",
    "\n",
    "weat_x, weat_y, weat, weat_es = weat_score(X, Y, A, B, model)\n",
    "weat_x, weat_y, weat, weat_es"
   ]
  },
  {
   "cell_type": "code",
   "execution_count": 176,
   "id": "62ea853e",
   "metadata": {},
   "outputs": [
    {
     "data": {
      "text/plain": [
       "(-0.0122486055, -0.041689277, 0.029440671, 0.7357328)"
      ]
     },
     "execution_count": 176,
     "metadata": {},
     "output_type": "execute_result"
    }
   ],
   "source": [
    "#Google\n",
    "\n",
    "A = [\"muško\", \"muškarac\", \"dečak\", \"brat\", \"on\", \"on\", \"njegov\", \"sin\"]\n",
    "B = [\"žensko\", \"žena\", \"djevojka\", \"sestra\", \"ona\", \"ona\", \"njena\", \"ćerka\"]\n",
    "X = [\"matematika\", \"algebra\", \"geometrija\", \"račun\", \"jednadžbe\", \"računanje\", \"brojevi\", \"sabiranje\"]\n",
    "Y = [\"poezija\", \"umjetnost\", \"ples\", \"književnost\", \"roman\", \"simfonija\", \"drama\", \"skulptura\"]\n",
    "\n",
    "\n",
    "weat_x, weat_y, weat, weat_es = weat_score(X, Y, A, B, model)\n",
    "weat_x, weat_y, weat, weat_es"
   ]
  },
  {
   "cell_type": "code",
   "execution_count": 177,
   "id": "1a8115dd",
   "metadata": {},
   "outputs": [
    {
     "data": {
      "text/plain": [
       "(-0.02496369, -0.017347453, -0.007616237, -0.18762484)"
      ]
     },
     "execution_count": 177,
     "metadata": {},
     "output_type": "execute_result"
    }
   ],
   "source": [
    "#Google\n",
    "\n",
    "A = [\"muško\", \"muškarac\", \"dečak\", \"brat\", \"on\", \"on\", \"njegov\", \"sin\"]\n",
    "B = [\"žensko\", \"žena\", \"djevojka\", \"sestra\", \"ona\", \"ona\", \"njena\", \"ćerka\"]\n",
    "X = [\"nauka\", \"tehnologija\", \"fizika\", \"hemija\", \"Ajnštajn\", \"NASA\", \"eksperiment\", \"astronomija\"]\n",
    "Y = [\"poezija\", \"umjetnost\", \"Shakespeare\", \"ples\", \"književnost\", \"roman\", \"simfonija\", \"drama\"]\n",
    "\n",
    "weat_x, weat_y, weat, weat_es = weat_score(X, Y, A, B, model)\n",
    "weat_x, weat_y, weat, weat_es"
   ]
  },
  {
   "cell_type": "markdown",
   "id": "40d809c6",
   "metadata": {},
   "source": [
    "## Bulgarian, bg"
   ]
  },
  {
   "cell_type": "code",
   "execution_count": 234,
   "id": "5ebdaaf9",
   "metadata": {},
   "outputs": [
    {
     "name": "stdout",
     "output_type": "stream",
     "text": [
      "CPU times: user 3 µs, sys: 6 µs, total: 9 µs\n",
      "Wall time: 27.2 µs\n",
      "Loading model from  /Users/Napp/Desktop/Vectors/wiki.bg.bin\n"
     ]
    },
    {
     "name": "stderr",
     "output_type": "stream",
     "text": [
      "Warning : `load_model` does not return WordVectorModel or SupervisedModel any more, but a `FastText` object which is very similar.\n"
     ]
    }
   ],
   "source": [
    "%time\n",
    "lang = \"bg\"\n",
    "model_name = f\"wiki.{lang}.bin\" # the model file (should be the same, ending by '.bin')\n",
    "model = load_model(model_name)"
   ]
  },
  {
   "cell_type": "code",
   "execution_count": 235,
   "id": "1462c783",
   "metadata": {},
   "outputs": [
    {
     "data": {
      "text/plain": [
       "(-0.08281237, -0.13375099, 0.05093862, 0.7470688)"
      ]
     },
     "execution_count": 235,
     "metadata": {},
     "output_type": "execute_result"
    }
   ],
   "source": [
    "#Google\n",
    "\n",
    "A = [\"мъж\", \"мъж\", \"момче\", \"брат\", \"той\", \"той\", \"негов\", \"син\"]\n",
    "B = [\"жена\", \"жена\", \"момиче\", \"сестра\", \"тя\", \"нея\", \"нейна\", \"дъщеря\"]\n",
    "X = [\"изпълнителен\", \"мениджмънт\", \"професионален\", \"корпорация\", \"заплата\", \"офис\", \"бизнес\", \"кариера\"]\n",
    "Y = [\"дом\", \"родители\", \"деца\", \"семейство\", \"братовчеди\", \"брак\", \"сватба\", \"роднини\"]\n",
    "\n",
    "weat_x, weat_y, weat, weat_es = weat_score(X, Y, A, B, model)\n",
    "weat_x, weat_y, weat, weat_es"
   ]
  },
  {
   "cell_type": "code",
   "execution_count": 236,
   "id": "5d671688",
   "metadata": {},
   "outputs": [
    {
     "data": {
      "text/plain": [
       "(-0.038271647, -0.01839313, -0.019878518, -0.6332215)"
      ]
     },
     "execution_count": 236,
     "metadata": {},
     "output_type": "execute_result"
    }
   ],
   "source": [
    "#Google\n",
    "\n",
    "A = [\"мъж\", \"мъж\", \"момче\", \"брат\", \"той\", \"той\", \"негов\", \"син\"]\n",
    "B = [\"жена\", \"жена\", \"момиче\", \"сестра\", \"тя\", \"нея\", \"нейна\", \"дъщеря\"]\n",
    "X = [\"математика\", \"алгебра\", \"геометрия\", \"изчисление\", \"уравнения\", \"изчисление\", \"числа\", \"събиране\"]\n",
    "Y = [\"поезия\", \"изкуство\", \"танц\", \"литература\", \"роман\", \"симфония\", \"драма\", \"скулптура\"]\n",
    "\n",
    "\n",
    "weat_x, weat_y, weat, weat_es = weat_score(X, Y, A, B, model)\n",
    "weat_x, weat_y, weat, weat_es"
   ]
  },
  {
   "cell_type": "code",
   "execution_count": 237,
   "id": "da043117",
   "metadata": {},
   "outputs": [
    {
     "data": {
      "text/plain": [
       "(-0.043323677, -0.02815888, -0.015164796, -0.38328654)"
      ]
     },
     "execution_count": 237,
     "metadata": {},
     "output_type": "execute_result"
    }
   ],
   "source": [
    "#Google\n",
    "\n",
    "A = [\"мъж\", \"мъж\", \"момче\", \"брат\", \"той\", \"той\", \"негов\", \"син\"]\n",
    "B = [\"жена\", \"жена\", \"момиче\", \"сестра\", \"тя\", \"нея\", \"нейна\", \"дъщеря\"]\n",
    "X = [\"наука\", \"технология\", \"физика\", \"химия\", \"Айнщайн\", \"НАСА\", \"експеримент\", \"астрономия\"]\n",
    "Y = [\"поезия\", \"изкуство\", \"Шекспир\", \"танц\", \"литература\", \"роман\", \"симфония\", \"драма\"]\n",
    "\n",
    "weat_x, weat_y, weat, weat_es = weat_score(X, Y, A, B, model)\n",
    "weat_x, weat_y, weat, weat_es"
   ]
  },
  {
   "cell_type": "markdown",
   "id": "1eaa13e8",
   "metadata": {},
   "source": [
    "## Burmese, my"
   ]
  },
  {
   "cell_type": "code",
   "execution_count": 202,
   "id": "46f427b9",
   "metadata": {},
   "outputs": [
    {
     "name": "stdout",
     "output_type": "stream",
     "text": [
      "CPU times: user 2 µs, sys: 1e+03 ns, total: 3 µs\n",
      "Wall time: 5.01 µs\n",
      "Loading model from  /Users/Napp/Desktop/Vectors/wiki.my.bin\n"
     ]
    },
    {
     "name": "stderr",
     "output_type": "stream",
     "text": [
      "Warning : `load_model` does not return WordVectorModel or SupervisedModel any more, but a `FastText` object which is very similar.\n"
     ]
    }
   ],
   "source": [
    "%time\n",
    "lang = \"my\"\n",
    "model_name = f\"wiki.{lang}.bin\" # the model file (should be the same, ending by '.bin')\n",
    "model = load_model(model_name)"
   ]
  },
  {
   "cell_type": "code",
   "execution_count": 203,
   "id": "5ed7cdd0",
   "metadata": {},
   "outputs": [
    {
     "data": {
      "text/plain": [
       "(-0.090107605, -0.12944074, 0.039333135, 0.5995799)"
      ]
     },
     "execution_count": 203,
     "metadata": {},
     "output_type": "execute_result"
    }
   ],
   "source": [
    "#Google\n",
    "A = [\"ယောက်ျား\", \"ယောက်ျား\", \"ကောင်လေး\", \"အစ်ကို\", \"သူ\", \"သူ\", \"သူ့\", \"သား\"]\n",
    "B = [\"အမျိုးသမီး\", \"မိန်းမ\", \"မိန်းကလေး\", \"ညီမ\", \"သူမ\", \"သူမ\", \"သူမ\", \"သမီး\"]\n",
    "X = [\"အမှုဆောင်\", \"စီမံခန့်ခွဲမှု\", \"ကျွမ်းကျင်\", \"ကော်ပိုရေးရှင်း\", \"လစာ\", \"ရုံး\", \"စီးပွားရေး\", \"အသက်မွေးဝမ်းကျောင်း\"]\n",
    "Y = [\"အိမ်\", \"မိဘ\", \"သားသမီး\", \"မိသားစု\", \"ဝမ်းကွဲ\", \"လက်ထပ်\", \"မင်္ဂလာ\", \"ဆွေမျိုး\"]\n",
    "\n",
    "\n",
    "weat_x, weat_y, weat, weat_es = weat_score(X, Y, A, B, model)\n",
    "weat_x, weat_y, weat, weat_es"
   ]
  },
  {
   "cell_type": "code",
   "execution_count": 204,
   "id": "f2bf7f7b",
   "metadata": {},
   "outputs": [
    {
     "data": {
      "text/plain": [
       "(-0.0644927, -0.09183196, 0.027339257, 0.68238246)"
      ]
     },
     "execution_count": 204,
     "metadata": {},
     "output_type": "execute_result"
    }
   ],
   "source": [
    "#Google\n",
    "A = [\"ယောက်ျား\", \"ယောက်ျား\", \"ကောင်လေး\", \"အစ်ကို\", \"သူ\", \"သူ\", \"သူ့\", \"သား\"]\n",
    "B = [\"အမျိုးသမီး\", \"မိန်းမ\", \"မိန်းကလေး\", \"ညီမ\", \"သူမ\", \"သူမ\", \"သူမ\", \"သမီး\"]\n",
    "X = [\"သင်္ချာ\", \"အက္ခရာသင်္ချာ\", \"ဂျီသြမေတြီ\", \"ကုလ\", \"ညီမျှ\", \"တွက်ချက်\", \"ဂဏန်းများ\", \"ထပ်ပေါင်း\"]\n",
    "Y = [\"ကဗျာ\", \"အနုပညာ\", \"အက\", \"စာပေ\", \"ဝတ္ထု\", \"စီဖိုနီ\", \"ဒရာမာ\", \"ပန်းပု\"]\n",
    "\n",
    "\n",
    "\n",
    "weat_x, weat_y, weat, weat_es = weat_score(X, Y, A, B, model)\n",
    "weat_x, weat_y, weat, weat_es"
   ]
  },
  {
   "cell_type": "code",
   "execution_count": 205,
   "id": "42e4360b",
   "metadata": {},
   "outputs": [
    {
     "data": {
      "text/plain": [
       "(-0.080624044, -0.09925798, 0.01863394, 0.6209089)"
      ]
     },
     "execution_count": 205,
     "metadata": {},
     "output_type": "execute_result"
    }
   ],
   "source": [
    "#Google\n",
    "A = [\"ယောက်ျား\", \"ယောက်ျား\", \"ကောင်လေး\", \"အစ်ကို\", \"သူ\", \"သူ\", \"သူ့\", \"သား\"]\n",
    "B = [\"အမျိုးသမီး\", \"မိန်းမ\", \"မိန်းကလေး\", \"ညီမ\", \"သူမ\", \"သူမ\", \"သူမ\", \"သမီး\"]\n",
    "X = [\"သိပ္ပံ\", \"နည်းပညာ\", \"ရူပဗေဒ\", \"ဓာတုဗေဒ\", \"အိုင်းစတိုင်း\", \"နာဆာ\", \"စမ်းသပ်မှု\", \"နက္ခတ္တဗေဒ\"]\n",
    "Y = [\"ကဗျာ\", \"အနုပညာ\", \"ရှိတ်စပီးယား\", \"အက\", \"စာပေ\", \"ဝတ္ထု\", \"စီဖိုနီ\", \"ဒရာမာ\"]\n",
    "\n",
    "\n",
    "\n",
    "weat_x, weat_y, weat, weat_es = weat_score(X, Y, A, B, model)\n",
    "weat_x, weat_y, weat, weat_es"
   ]
  },
  {
   "cell_type": "markdown",
   "id": "67514ffb",
   "metadata": {},
   "source": [
    "## Cantonese, zh_yue"
   ]
  },
  {
   "cell_type": "code",
   "execution_count": 294,
   "id": "825de306",
   "metadata": {},
   "outputs": [
    {
     "name": "stdout",
     "output_type": "stream",
     "text": [
      "CPU times: user 3 µs, sys: 0 ns, total: 3 µs\n",
      "Wall time: 5.01 µs\n",
      "Loading model from  /Users/Napp/Desktop/Vectors/wiki.zh_yue.bin\n"
     ]
    },
    {
     "name": "stderr",
     "output_type": "stream",
     "text": [
      "Warning : `load_model` does not return WordVectorModel or SupervisedModel any more, but a `FastText` object which is very similar.\n"
     ]
    }
   ],
   "source": [
    "%time\n",
    "lang = \"zh_yue\"\n",
    "model_name = f\"wiki.{lang}.bin\" # the model file (should be the same, ending by '.bin')\n",
    "model = load_model(model_name)"
   ]
  },
  {
   "cell_type": "code",
   "execution_count": 295,
   "id": "012ea565",
   "metadata": {},
   "outputs": [
    {
     "data": {
      "text/plain": [
       "(0.010306073, -0.0041660517, 0.014472125, 0.31885672)"
      ]
     },
     "execution_count": 295,
     "metadata": {},
     "output_type": "execute_result"
    }
   ],
   "source": [
    "#ChatGPT\n",
    "A = [\"男\", \"男人\", \"男孩\", \"兄弟\", \"他\", \"他\", \"他的\", \"儿子\"] \n",
    "B = [\"女\", \"女人\", \"女孩\", \"姐妹\", \"她\", \"她\", \"她的\", \"女儿\"] \n",
    "X = [\"执行\", \"管理\", \"专业人员\", \"公司\", \"薪水\", \"办公室\", \"商务\", \"职业生涯\"] \n",
    "Y = [\"家\", \"父母\", \"儿童\", \"家庭\", \"堂兄弟姐妹\", \"婚姻\", \"婚礼\", \"亲戚\"]\n",
    "\n",
    "weat_x, weat_y, weat, weat_es = weat_score(X, Y, A, B, model)\n",
    "weat_x, weat_y, weat, weat_es"
   ]
  },
  {
   "cell_type": "code",
   "execution_count": 296,
   "id": "60c88f5f",
   "metadata": {},
   "outputs": [
    {
     "data": {
      "text/plain": [
       "(-0.03417448, -0.054385655, 0.020211175, 0.387248)"
      ]
     },
     "execution_count": 296,
     "metadata": {},
     "output_type": "execute_result"
    }
   ],
   "source": [
    "#ChatGPT\n",
    "A = [\"男\", \"男人\", \"男孩\", \"兄弟\", \"他\", \"他\", \"他的\", \"儿子\"] \n",
    "B = [\"女\", \"女人\", \"女孩\", \"姐妹\", \"她\", \"她\", \"她的\", \"女儿\"] \n",
    "X = [\"數學\", \"代數\", \"幾何\", \"微積分\", \"方程式\", \"運算\", \"數字\", \"加法\"] \n",
    "Y = [\"詩歌\", \"藝術\", \"舞蹈\", \"文學\", \"小說\", \"交響曲\", \"戲劇\", \"雕塑\"]\n",
    "\n",
    "\n",
    "weat_x, weat_y, weat, weat_es = weat_score(X, Y, A, B, model)\n",
    "weat_x, weat_y, weat, weat_es"
   ]
  },
  {
   "cell_type": "code",
   "execution_count": 297,
   "id": "5b9a2452",
   "metadata": {},
   "outputs": [
    {
     "data": {
      "text/plain": [
       "(0.07292404, 0.1101872, -0.037263162, -0.63349617)"
      ]
     },
     "execution_count": 297,
     "metadata": {},
     "output_type": "execute_result"
    }
   ],
   "source": [
    "#ChatGPT\n",
    "A = [\"男性\", \"男人\", \"男孩\", \"兄弟\", \"他\", \"他\", \"他的\", \"儿子\"] \n",
    "B = [\"女性\", \"女人\", \"女孩\", \"姐妹\", \"她\", \"她\", \"她的\", \"女儿\"] \n",
    "X = [\"科学\", \"技术\", \"物理学\", \"化学\", \"爱因斯坦\", \"美国宇航局\", \"实验\", \"天文学\"] \n",
    "Y = [\"诗歌\", \"艺术\", \"莎士比亚\", \"舞蹈\", \"文学\", \"小说\", \"交响乐\", \"戏剧\"]\n",
    "\n",
    "\n",
    "\n",
    "\n",
    "weat_x, weat_y, weat, weat_es = weat_score(X, Y, A, B, model)\n",
    "weat_x, weat_y, weat, weat_es"
   ]
  },
  {
   "cell_type": "markdown",
   "id": "0675dd85",
   "metadata": {},
   "source": [
    "## Chinese, zh"
   ]
  },
  {
   "cell_type": "code",
   "execution_count": 9,
   "id": "3b49e38c",
   "metadata": {},
   "outputs": [
    {
     "name": "stdout",
     "output_type": "stream",
     "text": [
      "CPU times: user 4 µs, sys: 7 µs, total: 11 µs\n",
      "Wall time: 31 µs\n",
      "Loading model from  /Users/Napp/Desktop/Vectors/wiki.zh.bin\n"
     ]
    },
    {
     "name": "stderr",
     "output_type": "stream",
     "text": [
      "Warning : `load_model` does not return WordVectorModel or SupervisedModel any more, but a `FastText` object which is very similar.\n"
     ]
    }
   ],
   "source": [
    "%time\n",
    "lang = \"zh\"\n",
    "model_name = f\"wiki.{lang}.bin\" # the model file (should be the same, ending by '.bin')\n",
    "model = load_model(model_name)"
   ]
  },
  {
   "cell_type": "code",
   "execution_count": 10,
   "id": "aafd945f",
   "metadata": {},
   "outputs": [
    {
     "data": {
      "text/plain": [
       "(-0.03241828, -0.036387235, 0.003968954, 0.34154448)"
      ]
     },
     "execution_count": 10,
     "metadata": {},
     "output_type": "execute_result"
    }
   ],
   "source": [
    "#Google \n",
    "A = [\"男性\", \"男人\", \"男孩\", \"兄弟\", \"他\", \"他\", \"他的\", \"儿子\"]\n",
    "B = [\"女性\", \"女人\", \"女孩\", \"姐姐\", \"她\", \"她\", \"她的\", \"女儿\"]\n",
    "X = [\"行政\", \"管理\", \"专业\", \"公司\", \"薪水\", \"办公室\", \"业务\", \"职业\"]\n",
    "Y = [\"家\", \"父母\", \"子女\", \"家庭\", \"堂兄弟\", \"婚姻\", \"婚礼\", \"亲戚\"]\n",
    "\n",
    "\n",
    "weat_x, weat_y, weat, weat_es = weat_score(X, Y, A, B, model)\n",
    "weat_x, weat_y, weat, weat_es"
   ]
  },
  {
   "cell_type": "code",
   "execution_count": 11,
   "id": "e67fd4cc",
   "metadata": {},
   "outputs": [
    {
     "data": {
      "text/plain": [
       "(0.09206796, 0.085158646, 0.006909311, 1.1047677)"
      ]
     },
     "execution_count": 11,
     "metadata": {},
     "output_type": "execute_result"
    }
   ],
   "source": [
    "#Google \n",
    "A = [\"男性\", \"男人\", \"男孩\", \"兄弟\", \"他\", \"他\", \"他的\", \"儿子\"]\n",
    "B = [\"女性\", \"女人\", \"女孩\", \"姐姐\", \"她\", \"她\", \"她的\", \"女儿\"]\n",
    "X = [\"数学\", \"代数\", \"几何\", \"微积分\", \"方程\", \"计算\", \"数字\", \"加法\"]\n",
    "Y = [\"诗歌\", \"艺术\", \"舞蹈\", \"文学\", \"小说\", \"交响乐\", \"戏剧\", \"雕塑\"]\n",
    "\n",
    "weat_x, weat_y, weat, weat_es = weat_score(X, Y, A, B, model)\n",
    "weat_x, weat_y, weat, weat_es"
   ]
  },
  {
   "cell_type": "code",
   "execution_count": 12,
   "id": "401ec368",
   "metadata": {},
   "outputs": [
    {
     "data": {
      "text/plain": [
       "(-0.13210279, -0.1375353, 0.0054325163, 0.8678512)"
      ]
     },
     "execution_count": 12,
     "metadata": {},
     "output_type": "execute_result"
    }
   ],
   "source": [
    "#Google \n",
    "A = [\"男性\", \"男人\", \"男孩\", \"兄弟\", \"他\", \"他\", \"他的\", \"儿子\"]\n",
    "B = [\"女性\", \"女人\", \"女孩\", \"姐姐\", \"她\", \"她\", \"她的\", \"女儿\"]\n",
    "X = [\"科学\" , \"技术\" , \"物理学\" , \"化学\" , \"爱因斯坦\" , \"NASA\" , \"实验\" , \"天文学\"]\n",
    "Y = [\"诗歌\" , \"艺术\" , \"莎士比亚\" , \"舞蹈\" , \"文学\" , \"小说\" , \"交响乐\" , \"戏剧\"]\n",
    "\n",
    "weat_x, weat_y, weat, weat_es = weat_score(X, Y, A, B, model)\n",
    "weat_x, weat_y, weat, weat_es"
   ]
  },
  {
   "cell_type": "markdown",
   "id": "c4a83d79",
   "metadata": {},
   "source": [
    "## Croatian, hr"
   ]
  },
  {
   "cell_type": "code",
   "execution_count": 73,
   "id": "80ade54b",
   "metadata": {},
   "outputs": [
    {
     "name": "stdout",
     "output_type": "stream",
     "text": [
      "CPU times: user 3 µs, sys: 8 µs, total: 11 µs\n",
      "Wall time: 30 µs\n",
      "Loading model from  /Users/Napp/Desktop/Vectors/wiki.hr.bin\n"
     ]
    },
    {
     "name": "stderr",
     "output_type": "stream",
     "text": [
      "Warning : `load_model` does not return WordVectorModel or SupervisedModel any more, but a `FastText` object which is very similar.\n"
     ]
    }
   ],
   "source": [
    "%time\n",
    "lang = \"hr\"\n",
    "model_name = f\"wiki.{lang}.bin\" # the model file (should be the same, ending by '.bin')\n",
    "model = load_model(model_name)"
   ]
  },
  {
   "cell_type": "code",
   "execution_count": 74,
   "id": "f3f9b6b1",
   "metadata": {},
   "outputs": [
    {
     "data": {
      "text/plain": [
       "(-0.07382265, -0.090493664, 0.016671017, 0.2810587)"
      ]
     },
     "execution_count": 74,
     "metadata": {},
     "output_type": "execute_result"
    }
   ],
   "source": [
    "#Google\n",
    "A = [\"muškarac\", \"muškarac\", \"dječak\", \"brat\", \"on\", \"on\", \"njegov\", \"sin\"]\n",
    "B = [\"žensko\", \"žena\", \"djevojka\", \"sestra\", \"ona\", \"njena\", \"njezina\", \"kći\"]\n",
    "X = [\"izvršni\", \"uprava\", \"profesionalac\", \"korporacija\", \"plaća\", \"ured\", \"posao\", \"karijera\"]\n",
    "Y = [\"dom\", \"roditelji\", \"djeca\", \"obitelj\", \"rođaci\", \"brak\", \"vjenčanje\", \"rodbina\"]\n",
    "\n",
    "\n",
    "weat_x, weat_y, weat, weat_es = weat_score(X, Y, A, B, model)\n",
    "weat_x, weat_y, weat, weat_es"
   ]
  },
  {
   "cell_type": "code",
   "execution_count": 75,
   "id": "b6ec721d",
   "metadata": {},
   "outputs": [
    {
     "data": {
      "text/plain": [
       "(-0.019231195, -0.033640426, 0.014409231, 0.40394244)"
      ]
     },
     "execution_count": 75,
     "metadata": {},
     "output_type": "execute_result"
    }
   ],
   "source": [
    "#Google\n",
    "A = [\"muškarac\", \"muškarac\", \"dječak\", \"brat\", \"on\", \"on\", \"njegov\", \"sin\"]\n",
    "B = [\"žensko\", \"žena\", \"djevojka\", \"sestra\", \"ona\", \"njena\", \"njezina\", \"kći\"]\n",
    "X = [\"matematika\", \"algebra\", \"geometrija\", \"račun\", \"jednadžbe\", \"računanje\", \"brojevi\", \"zbrajanje\"]\n",
    "Y = [\"poezija\", \"umjetnost\", \"ples\", \"književnost\", \"roman\", \"simfonija\", \"drama\", \"skulptura\"]\n",
    "\n",
    "\n",
    "weat_x, weat_y, weat, weat_es = weat_score(X, Y, A, B, model)\n",
    "weat_x, weat_y, weat, weat_es"
   ]
  },
  {
   "cell_type": "code",
   "execution_count": 76,
   "id": "45b69c5b",
   "metadata": {},
   "outputs": [
    {
     "data": {
      "text/plain": [
       "(-0.025723953, -0.03518551, 0.009461556, 0.422656)"
      ]
     },
     "execution_count": 76,
     "metadata": {},
     "output_type": "execute_result"
    }
   ],
   "source": [
    "#Google\n",
    "A = [\"muškarac\", \"muškarac\", \"dječak\", \"brat\", \"on\", \"on\", \"njegov\", \"sin\"]\n",
    "B = [\"žensko\", \"žena\", \"djevojka\", \"sestra\", \"ona\", \"njena\", \"njezina\", \"kći\"]\n",
    "X = [\"znanost\", \"tehnologija\", \"fizika\", \"kemija\", \"Einstein\", \"NASA\", \"eksperiment\", \"astronomija\"]\n",
    "Y = [\"poezija\", \"umjetnost\", \"Shakespeare\", \"ples\", \"književnost\", \"roman\", \"simfonija\", \"drama\"]\n",
    "\n",
    "\n",
    "weat_x, weat_y, weat, weat_es = weat_score(X, Y, A, B, model)\n",
    "weat_x, weat_y, weat, weat_es"
   ]
  },
  {
   "cell_type": "markdown",
   "id": "07b682e4",
   "metadata": {},
   "source": [
    "## Czech, cs"
   ]
  },
  {
   "cell_type": "code",
   "execution_count": 94,
   "id": "939bd55a",
   "metadata": {},
   "outputs": [
    {
     "name": "stdout",
     "output_type": "stream",
     "text": [
      "CPU times: user 3 µs, sys: 6 µs, total: 9 µs\n",
      "Wall time: 29.8 µs\n",
      "Loading model from  /Users/Napp/Desktop/Vectors/wiki.cs.bin\n"
     ]
    },
    {
     "name": "stderr",
     "output_type": "stream",
     "text": [
      "Warning : `load_model` does not return WordVectorModel or SupervisedModel any more, but a `FastText` object which is very similar.\n"
     ]
    }
   ],
   "source": [
    "%time\n",
    "lang = \"cs\"\n",
    "model_name = f\"wiki.{lang}.bin\" # the model file (should be the same, ending by '.bin')\n",
    "model = load_model(model_name)"
   ]
  },
  {
   "cell_type": "code",
   "execution_count": 95,
   "id": "5ad82787",
   "metadata": {},
   "outputs": [
    {
     "data": {
      "text/plain": [
       "(-0.08894046, -0.15497456, 0.06603411, 0.8980476)"
      ]
     },
     "execution_count": 95,
     "metadata": {},
     "output_type": "execute_result"
    }
   ],
   "source": [
    "#Google\n",
    "A = [\"muž\", \"muž\", \"chlapec\", \"bratr\", \"on\", \"on\", \"jeho\", \"syn\"]\n",
    "B = [\"žena\", \"žena\", \"dívka\", \"sestra\", \"ona\", \"její\", \"její\", \"dcera\"]\n",
    "X = [\"výkonný pracovník\", \"management\", \"profesionál\", \"korporace\", \"plat\", \"kancelář\", \"obchod\", \"kariéra\"]\n",
    "Y = [\"domov\", \"rodiče\", \"děti\", \"rodina\", \"sestřenice\", \"manželství\", \"svatba\", \"příbuzní\"]\n",
    "\n",
    "\n",
    "weat_x, weat_y, weat, weat_es = weat_score(X, Y, A, B, model)\n",
    "weat_x, weat_y, weat, weat_es"
   ]
  },
  {
   "cell_type": "code",
   "execution_count": 96,
   "id": "602ffa15",
   "metadata": {},
   "outputs": [
    {
     "data": {
      "text/plain": [
       "(-0.05990366, -0.07599367, 0.016090013, 0.35552782)"
      ]
     },
     "execution_count": 96,
     "metadata": {},
     "output_type": "execute_result"
    }
   ],
   "source": [
    "#Google\n",
    "A = [\"muž\", \"muž\", \"chlapec\", \"bratr\", \"on\", \"on\", \"jeho\", \"syn\"]\n",
    "B = [\"žena\", \"žena\", \"dívka\", \"sestra\", \"ona\", \"její\", \"její\", \"dcera\"]\n",
    "X = [\"matematika\", \"algebra\", \"geometrie\", \"počet\", \"rovnice\", \"výpočet\", \"čísla\", \"sčítání\"]\n",
    "Y = [\"poezie\", \"umění\", \"tanec\", \"literatura\", \"román\", \"symfonie\", \"drama\", \"socha\"]\n",
    "\n",
    "\n",
    "weat_x, weat_y, weat, weat_es = weat_score(X, Y, A, B, model)\n",
    "weat_x, weat_y, weat, weat_es"
   ]
  },
  {
   "cell_type": "code",
   "execution_count": 97,
   "id": "31f171b8",
   "metadata": {},
   "outputs": [
    {
     "data": {
      "text/plain": [
       "(-0.05321583, -0.08245616, 0.029240325, 0.76799035)"
      ]
     },
     "execution_count": 97,
     "metadata": {},
     "output_type": "execute_result"
    }
   ],
   "source": [
    "#Google\n",
    "A = [\"muž\", \"muž\", \"chlapec\", \"bratr\", \"on\", \"on\", \"jeho\", \"syn\"]\n",
    "B = [\"žena\", \"žena\", \"dívka\", \"sestra\", \"ona\", \"její\", \"její\", \"dcera\"]\n",
    "X = [\"věda\", \"technologie\", \"fyzika\", \"chemie\", \"Einstein\", \"NASA\", \"experiment\", \"astronomie\"]\n",
    "Y = [\"poezie\", \"umění\", \"Shakespeare\", \"tanec\", \"literatura\", \"román\", \"symfonie\", \"drama\"]\n",
    "\n",
    "\n",
    "weat_x, weat_y, weat, weat_es = weat_score(X, Y, A, B, model)\n",
    "weat_x, weat_y, weat, weat_es"
   ]
  },
  {
   "cell_type": "markdown",
   "id": "1d1d17e8",
   "metadata": {},
   "source": [
    "## Danish, da"
   ]
  },
  {
   "cell_type": "code",
   "execution_count": 98,
   "id": "ccf2368f",
   "metadata": {},
   "outputs": [
    {
     "name": "stdout",
     "output_type": "stream",
     "text": [
      "CPU times: user 2 µs, sys: 1e+03 ns, total: 3 µs\n",
      "Wall time: 5.01 µs\n",
      "Loading model from  /Users/Napp/Desktop/Vectors/wiki.da.bin\n"
     ]
    },
    {
     "name": "stderr",
     "output_type": "stream",
     "text": [
      "Warning : `load_model` does not return WordVectorModel or SupervisedModel any more, but a `FastText` object which is very similar.\n"
     ]
    }
   ],
   "source": [
    "%time\n",
    "lang = \"da\"\n",
    "model_name = f\"wiki.{lang}.bin\" # the model file (should be the same, ending by '.bin')\n",
    "model = load_model(model_name)"
   ]
  },
  {
   "cell_type": "code",
   "execution_count": 99,
   "id": "4153e2dc",
   "metadata": {},
   "outputs": [
    {
     "data": {
      "text/plain": [
       "(-0.099755436, -0.1579791, 0.058223665, 0.83673364)"
      ]
     },
     "execution_count": 99,
     "metadata": {},
     "output_type": "execute_result"
    }
   ],
   "source": [
    "#Google\n",
    "A = [\"mand\", \"mand\", \"dreng\", \"bror\", \"han\", \"ham\", \"hans\", \"søn\"]\n",
    "B = [\"kvinde\", \"kvinde\", \"pige\", \"søster\", \"hun\", \"hende\", \"hendes\", \"datter\"]\n",
    "X = [\"direktør\", \"ledelse\", \"professionel\", \"virksomhed\", \"løn\", \"kontor\", \"virksomhed\", \"karriere\"]\n",
    "Y = [\"hjem\", \"forældre\", \"børn\", \"familie\", \"fætre\", \"ægteskab\", \"bryllup\", \"slægtninge\"]\n",
    "\n",
    "\n",
    "weat_x, weat_y, weat, weat_es = weat_score(X, Y, A, B, model)\n",
    "weat_x, weat_y, weat, weat_es"
   ]
  },
  {
   "cell_type": "code",
   "execution_count": 100,
   "id": "d5c2e4c2",
   "metadata": {},
   "outputs": [
    {
     "data": {
      "text/plain": [
       "(-0.04919365, -0.09963536, 0.050441712, 1.2053347)"
      ]
     },
     "execution_count": 100,
     "metadata": {},
     "output_type": "execute_result"
    }
   ],
   "source": [
    "#Google\n",
    "A = [\"mand\", \"mand\", \"dreng\", \"bror\", \"han\", \"ham\", \"hans\", \"søn\"]\n",
    "B = [\"kvinde\", \"kvinde\", \"pige\", \"søster\", \"hun\", \"hende\", \"hendes\", \"datter\"]\n",
    "X = [\"matematik\", \"algebra\", \"geometri\", \"calculus\", \"ligninger\", \"beregning\", \"tal\", \"addition\"]\n",
    "Y = [\"poesi\", \"kunst\", \"dans\", \"litteratur\", \"roman\", \"symfoni\", \"drama\", \"skulptur\"]\n",
    "\n",
    "\n",
    "weat_x, weat_y, weat, weat_es = weat_score(X, Y, A, B, model)\n",
    "weat_x, weat_y, weat, weat_es"
   ]
  },
  {
   "cell_type": "code",
   "execution_count": 101,
   "id": "c9550d86",
   "metadata": {},
   "outputs": [
    {
     "data": {
      "text/plain": [
       "(-0.040156394, -0.07083112, 0.030674726, 1.3337101)"
      ]
     },
     "execution_count": 101,
     "metadata": {},
     "output_type": "execute_result"
    }
   ],
   "source": [
    "#Google\n",
    "A = [\"mand\", \"mand\", \"dreng\", \"bror\", \"han\", \"ham\", \"hans\", \"søn\"]\n",
    "B = [\"kvinde\", \"kvinde\", \"pige\", \"søster\", \"hun\", \"hende\", \"hendes\", \"datter\"]\n",
    "X = [\"videnskab\", \"teknologi\", \"fysik\", \"kemi\", \"Einstein\", \"NASA\", \"eksperiment\", \"astronomi\"]\n",
    "Y = [\"poesi\", \"kunst\", \"Shakespeare\", \"dans\", \"litteratur\", \"roman\", \"symfoni\", \"drama\"]\n",
    "\n",
    "\n",
    "weat_x, weat_y, weat, weat_es = weat_score(X, Y, A, B, model)\n",
    "weat_x, weat_y, weat, weat_es"
   ]
  },
  {
   "cell_type": "markdown",
   "id": "1b35e9bc",
   "metadata": {},
   "source": [
    "## Dutch, nl"
   ]
  },
  {
   "cell_type": "code",
   "execution_count": 110,
   "id": "0a533178",
   "metadata": {},
   "outputs": [
    {
     "name": "stdout",
     "output_type": "stream",
     "text": [
      "CPU times: user 4 µs, sys: 6 µs, total: 10 µs\n",
      "Wall time: 26.2 µs\n",
      "Loading model from  /Users/Napp/Desktop/Vectors/wiki.nl.bin\n"
     ]
    },
    {
     "name": "stderr",
     "output_type": "stream",
     "text": [
      "Warning : `load_model` does not return WordVectorModel or SupervisedModel any more, but a `FastText` object which is very similar.\n"
     ]
    }
   ],
   "source": [
    "%time\n",
    "lang = \"nl\"\n",
    "model_name = f\"wiki.{lang}.bin\" # the model file (should be the same, ending by '.bin')\n",
    "model = load_model(model_name)"
   ]
  },
  {
   "cell_type": "code",
   "execution_count": 111,
   "id": "3a810741",
   "metadata": {},
   "outputs": [
    {
     "data": {
      "text/plain": [
       "(-0.10797201, -0.17978969, 0.07181768, 0.7914686)"
      ]
     },
     "execution_count": 111,
     "metadata": {},
     "output_type": "execute_result"
    }
   ],
   "source": [
    "#Google\n",
    "A = [\"man\", \"man\", \"jongen\", \"broer\", \"hij\", \"hem\", \"zijn\", \"zoon\"]\n",
    "B = [\"vrouw\", \"vrouw\", \"meisje\", \"zus\", \"zij\", \"haar\", \"haar\", \"dochter\"]\n",
    "X = [\"executive\", \"management\", \"professioneel\", \"bedrijf\", \"salaris\", \"kantoor\", \"zakelijk\", \"carrière\"]\n",
    "Y = [\"thuis\", \"ouders\", \"kinderen\", \"familie\", \"neven\", \"huwelijk\", \"huwelijk\", \"familieleden\"]\n",
    "\n",
    "\n",
    "\n",
    "weat_x, weat_y, weat, weat_es = weat_score(X, Y, A, B, model)\n",
    "weat_x, weat_y, weat, weat_es"
   ]
  },
  {
   "cell_type": "code",
   "execution_count": 112,
   "id": "218d026f",
   "metadata": {},
   "outputs": [
    {
     "data": {
      "text/plain": [
       "(-0.027846038, -0.07831836, 0.05047232, 1.3547162)"
      ]
     },
     "execution_count": 112,
     "metadata": {},
     "output_type": "execute_result"
    }
   ],
   "source": [
    "#Google\n",
    "A = [\"man\", \"man\", \"jongen\", \"broer\", \"hij\", \"hem\", \"zijn\", \"zoon\"]\n",
    "B = [\"vrouw\", \"vrouw\", \"meisje\", \"zus\", \"zij\", \"haar\", \"haar\", \"dochter\"]\n",
    "X = [\"wiskunde\", \"algebra\", \"meetkunde\", \"calculus\", \"vergelijkingen\", \"berekening\", \"getallen\", \"optellen\"]\n",
    "Y = [\"poëzie\", \"kunst\", \"dans\", \"literatuur\", \"roman\", \"symfonie\", \"drama\", \"beeldhouwkunst\"]\n",
    "\n",
    "\n",
    "\n",
    "\n",
    "weat_x, weat_y, weat, weat_es = weat_score(X, Y, A, B, model)\n",
    "weat_x, weat_y, weat, weat_es"
   ]
  },
  {
   "cell_type": "code",
   "execution_count": 113,
   "id": "92b6cec8",
   "metadata": {},
   "outputs": [
    {
     "data": {
      "text/plain": [
       "(-0.048822388, -0.06809147, 0.019269079, 0.7025738)"
      ]
     },
     "execution_count": 113,
     "metadata": {},
     "output_type": "execute_result"
    }
   ],
   "source": [
    "#Google\n",
    "A = [\"man\", \"man\", \"jongen\", \"broer\", \"hij\", \"hem\", \"zijn\", \"zoon\"]\n",
    "B = [\"vrouw\", \"vrouw\", \"meisje\", \"zus\", \"zij\", \"haar\", \"haar\", \"dochter\"]\n",
    "X = [\"wetenschap\", \"technologie\", \"natuurkunde\", \"chemie\", \"Einstein\", \"NASA\", \"experiment\", \"astronomie\"]\n",
    "Y = [\"poëzie\", \"kunst\", \"Shakespeare\", \"dans\", \"literatuur\", \"roman\", \"symfonie\", \"drama\"]\n",
    "\n",
    "\n",
    "\n",
    "weat_x, weat_y, weat, weat_es = weat_score(X, Y, A, B, model)\n",
    "weat_x, weat_y, weat, weat_es"
   ]
  },
  {
   "cell_type": "markdown",
   "id": "30a8a209",
   "metadata": {},
   "source": [
    "## Egyptian Arabic, arz"
   ]
  },
  {
   "cell_type": "code",
   "execution_count": 278,
   "id": "2e0d066e",
   "metadata": {},
   "outputs": [
    {
     "name": "stdout",
     "output_type": "stream",
     "text": [
      "CPU times: user 2 µs, sys: 0 ns, total: 2 µs\n",
      "Wall time: 6.2 µs\n",
      "Loading model from  /Users/Napp/Desktop/Vectors/wiki.arz.bin\n"
     ]
    },
    {
     "name": "stderr",
     "output_type": "stream",
     "text": [
      "Warning : `load_model` does not return WordVectorModel or SupervisedModel any more, but a `FastText` object which is very similar.\n"
     ]
    }
   ],
   "source": [
    "%time\n",
    "lang = \"arz\"\n",
    "model_name = f\"wiki.{lang}.bin\" # the model file (should be the same, ending by '.bin')\n",
    "model = load_model(model_name)"
   ]
  },
  {
   "cell_type": "code",
   "execution_count": 279,
   "id": "c4f5ebba",
   "metadata": {},
   "outputs": [
    {
     "data": {
      "text/plain": [
       "(-0.021805849, -0.054346994, 0.032541145, 0.70678455)"
      ]
     },
     "execution_count": 279,
     "metadata": {},
     "output_type": "execute_result"
    }
   ],
   "source": [
    "#ChatGPT\n",
    "A = [\"رجل\" , \"رجل\" , \"ولد\" , \"أخ\" , \"هو\" , \"له\" , \"له\" , \"ابن\"] \n",
    "B = [\"امرأة\" , \"نساء\" , \"بنت\" , \"أخت\" , \"هي\" , \"لها\" , \"لها\" , \"بنت\"] \n",
    "X = [\"نائب\" , \"إدارة\" , \"محترف\" , \"شركة\" , \"راتب\" , \"مكتب\" , \"أعمال\" , \"مهنة\"] \n",
    "Y = [\"منزل\" , \"الآباء\" , \"الأطفال\" , \"عائلة\" , \"عموم\" , \"زواج\" , \"زفاف\" , \"أقارب\"]\n",
    "\n",
    "weat_x, weat_y, weat, weat_es = weat_score(X, Y, A, B, model)\n",
    "weat_x, weat_y, weat, weat_es"
   ]
  },
  {
   "cell_type": "code",
   "execution_count": 280,
   "id": "4e7ae3f7",
   "metadata": {},
   "outputs": [
    {
     "data": {
      "text/plain": [
       "(-0.03550439, -0.03875338, 0.0032489896, 0.07164006)"
      ]
     },
     "execution_count": 280,
     "metadata": {},
     "output_type": "execute_result"
    }
   ],
   "source": [
    "#ChatGPT\n",
    "A = [\"رجل\" , \"رجل\" , \"ولد\" , \"أخ\" , \"هو\" , \"له\" , \"له\" , \"ابن\"] \n",
    "B = [\"امرأة\" , \"نساء\" , \"بنت\" , \"أخت\" , \"هي\" , \"لها\" , \"لها\" , \"بنت\"] \n",
    "X = [\"رياضيات\", \"الجبر\", \"هندسة\", \"حساب الدالية\", \"معادلات\", \"حساب\", \"أرقام\", \"جمع\"] \n",
    "Y = [\"شعر\", \"فن\", \"رقص\", \"أدب\", \"رواية\", \"سمفونية\", \"دراما\", \"نحت\"]\n",
    "\n",
    "\n",
    "weat_x, weat_y, weat, weat_es = weat_score(X, Y, A, B, model)\n",
    "weat_x, weat_y, weat, weat_es"
   ]
  },
  {
   "cell_type": "code",
   "execution_count": 281,
   "id": "bdbd34d9",
   "metadata": {},
   "outputs": [
    {
     "data": {
      "text/plain": [
       "(-0.021805849, -0.054346994, 0.032541145, 0.70678455)"
      ]
     },
     "execution_count": 281,
     "metadata": {},
     "output_type": "execute_result"
    }
   ],
   "source": [
    "#ChatGPT\n",
    "A = [\"رجل\" , \"رجل\" , \"ولد\" , \"أخ\" , \"هو\" , \"له\" , \"له\" , \"ابن\"] \n",
    "B = [\"امرأة\" , \"نساء\" , \"بنت\" , \"أخت\" , \"هي\" , \"لها\" , \"لها\" , \"بنت\"] \n",
    "X = [\"نائب\" , \"إدارة\" , \"محترف\" , \"شركة\" , \"راتب\" , \"مكتب\" , \"أعمال\" , \"مهنة\"] \n",
    "Y = [\"منزل\" , \"الآباء\" , \"الأطفال\" , \"عائلة\" , \"عموم\" , \"زواج\" , \"زفاف\" , \"أقارب\"]\n",
    "\n",
    "weat_x, weat_y, weat, weat_es = weat_score(X, Y, A, B, model)\n",
    "weat_x, weat_y, weat, weat_es"
   ]
  },
  {
   "cell_type": "markdown",
   "id": "93b3aa16",
   "metadata": {},
   "source": [
    "## English, en"
   ]
  },
  {
   "cell_type": "code",
   "execution_count": 134,
   "id": "df13b114",
   "metadata": {},
   "outputs": [
    {
     "name": "stdout",
     "output_type": "stream",
     "text": [
      "CPU times: user 10 µs, sys: 20 µs, total: 30 µs\n",
      "Wall time: 40.1 µs\n",
      "Loading model from  /Users/Napp/Desktop/Vectors/wiki.en.bin\n"
     ]
    },
    {
     "name": "stderr",
     "output_type": "stream",
     "text": [
      "Warning : `load_model` does not return WordVectorModel or SupervisedModel any more, but a `FastText` object which is very similar.\n"
     ]
    }
   ],
   "source": [
    "%time\n",
    "lang = \"en\"\n",
    "model_name = f\"wiki.{lang}.bin\" # the model file (should be the same, ending by '.bin')\n",
    "model = load_model(model_name)"
   ]
  },
  {
   "cell_type": "code",
   "execution_count": 135,
   "id": "091253ed",
   "metadata": {},
   "outputs": [
    {
     "data": {
      "text/plain": [
       "(-0.10602237, -0.16856885, 0.06254648, 0.6525918)"
      ]
     },
     "execution_count": 135,
     "metadata": {},
     "output_type": "execute_result"
    }
   ],
   "source": [
    "A=[\"male\", \"man\", \"boy\", \"brother\", \"he\", \"him\", \"his\", \"son\"]\n",
    "B=[\"female\", \"woman\", \"girl\", \"sister\", \"she\", \"her\", \"hers\", \"daughter\"]\n",
    "X=[\"executive\", \"management\", \"professional\", \"corporation\", \"salary\", \"office\", \"business\", \"career\"]\n",
    "Y=[\"home\", \"parents\", \"children\", \"family\", \"cousins\", \"marriage\", \"wedding\", \"relatives\"]\n",
    "\n",
    "\n",
    "weat_x, weat_y, weat, weat_es = weat_score(X, Y, A, B, model)\n",
    "weat_x, weat_y, weat, weat_es"
   ]
  },
  {
   "cell_type": "code",
   "execution_count": 136,
   "id": "5b6c7a53",
   "metadata": {},
   "outputs": [
    {
     "data": {
      "text/plain": [
       "(-0.080095425, -0.11259818, 0.032502756, 1.1559823)"
      ]
     },
     "execution_count": 136,
     "metadata": {},
     "output_type": "execute_result"
    }
   ],
   "source": [
    "A = [\"male\", \"man\", \"boy\", \"brother\", \"he\", \"him\", \"his\", \"son\"]\n",
    "B = [\"female\", \"woman\", \"girl\", \"sister\", \"she\", \"her\", \"hers\", \"daughter\"]\n",
    "X = [\"math\", \"algebra\", \"geometry\", \"calculus\", \"equations\", \"computation\", \"numbers\", \"addition\"]\n",
    "Y = [\"poetry\", \"art\", \"dance\", \"literature\", \"novel\", \"symphony\", \"drama\", \"sculpture\"]\n",
    "\n",
    "\n",
    "weat_x, weat_y, weat, weat_es = weat_score(X, Y, A, B, model)\n",
    "weat_x, weat_y, weat, weat_es"
   ]
  },
  {
   "cell_type": "code",
   "execution_count": 137,
   "id": "4d19709d",
   "metadata": {},
   "outputs": [
    {
     "data": {
      "text/plain": [
       "(-0.054400083, -0.07490673, 0.020506646, 0.7960882)"
      ]
     },
     "execution_count": 137,
     "metadata": {},
     "output_type": "execute_result"
    }
   ],
   "source": [
    "A = [\"male\", \"man\", \"boy\", \"brother\", \"he\", \"him\", \"his\", \"son\"]\n",
    "B = [\"female\", \"woman\", \"girl\", \"sister\", \"she\", \"her\", \"hers\", \"daughter\"]\n",
    "X = [\"science\", \"technology\", \"physics\", \"chemistry\", \"Einstein\", \"NASA\", \"experiment\", \"astronomy\"]\n",
    "Y = [\"poetry\", \"art\", \"Shakespeare\", \"dance\", \"literature\", \"novel\", \"symphony\", \"drama\"]\n",
    "\n",
    "\n",
    "\n",
    "\n",
    "weat_x, weat_y, weat, weat_es = weat_score(X, Y, A, B, model)\n",
    "weat_x, weat_y, weat, weat_es"
   ]
  },
  {
   "cell_type": "markdown",
   "id": "3b4f21db",
   "metadata": {},
   "source": [
    "## Estonian, et"
   ]
  },
  {
   "cell_type": "code",
   "execution_count": 13,
   "id": "f02c5cc9",
   "metadata": {},
   "outputs": [
    {
     "name": "stdout",
     "output_type": "stream",
     "text": [
      "CPU times: user 3 µs, sys: 6 µs, total: 9 µs\n",
      "Wall time: 22.2 µs\n",
      "Loading model from  /Users/Napp/Desktop/Vectors/wiki.et.bin\n"
     ]
    },
    {
     "name": "stderr",
     "output_type": "stream",
     "text": [
      "Warning : `load_model` does not return WordVectorModel or SupervisedModel any more, but a `FastText` object which is very similar.\n"
     ]
    }
   ],
   "source": [
    "%time\n",
    "lang = \"et\"\n",
    "model_name = f\"wiki.{lang}.bin\" # the model file (should be the same, ending by '.bin')\n",
    "model = load_model(model_name)"
   ]
  },
  {
   "cell_type": "code",
   "execution_count": 14,
   "id": "91a4ed8e",
   "metadata": {},
   "outputs": [
    {
     "data": {
      "text/plain": [
       "(-0.081643954, -0.116582245, 0.03493829, 0.6692821)"
      ]
     },
     "execution_count": 14,
     "metadata": {},
     "output_type": "execute_result"
    }
   ],
   "source": [
    "#Google\n",
    "\n",
    "A = [\"mees\", \"mees\", \"poiss\", \"vend\", \"tema\", \"tema\", \"tema\", \"poeg\"]\n",
    "B = [\"naine\", \"naine\", \"tüdruk\", \"õde\", \"ta\", \"tema\", \"tema\", \"tütar\"]\n",
    "X = [\"juht\", \"juhtimine\", \"professionaal\", \"ettevõte\", \"palk\", \"kontor\", \"äri\", \"karjäär\"]\n",
    "Y = [\"kodu\", \"vanemad\", \"lapsed\", \"perekond\", \"nõod\", \"abielu\", \"pulm\", \"sugulased\"]\n",
    "\n",
    "weat_x, weat_y, weat, weat_es = weat_score(X, Y, A, B, model)\n",
    "weat_x, weat_y, weat, weat_es"
   ]
  },
  {
   "cell_type": "code",
   "execution_count": 15,
   "id": "9d9c70a7",
   "metadata": {},
   "outputs": [
    {
     "data": {
      "text/plain": [
       "(-0.02340955, -0.040486243, 0.017076693, 0.50443244)"
      ]
     },
     "execution_count": 15,
     "metadata": {},
     "output_type": "execute_result"
    }
   ],
   "source": [
    "#Google\n",
    "\n",
    "A = [\"mees\", \"mees\", \"poiss\", \"vend\", \"tema\", \"tema\", \"tema\", \"poeg\"]\n",
    "B = [\"naine\", \"naine\", \"tüdruk\", \"õde\", \"ta\", \"tema\", \"tema\", \"tütar\"]\n",
    "X = [\"matemaatika\", \"algebra\", \"geomeetria\", \"arvutus\", \"võrrandid\", \"arvutamine\", \"arvud\", \"liitmine\"]\n",
    "Y = [\"luule\", \"kunst\", \"tants\", \"kirjandus\", \"romaan\", \"sümfoonia\", \"draama\", \"skulptuur\"]\n",
    "\n",
    "\n",
    "weat_x, weat_y, weat, weat_es = weat_score(X, Y, A, B, model)\n",
    "weat_x, weat_y, weat, weat_es"
   ]
  },
  {
   "cell_type": "code",
   "execution_count": 16,
   "id": "b90de299",
   "metadata": {},
   "outputs": [
    {
     "data": {
      "text/plain": [
       "(-0.046440996, -0.055700324, 0.009259328, 0.38826713)"
      ]
     },
     "execution_count": 16,
     "metadata": {},
     "output_type": "execute_result"
    }
   ],
   "source": [
    "#Google\n",
    "\n",
    "A = [\"mees\", \"mees\", \"poiss\", \"vend\", \"tema\", \"tema\", \"tema\", \"poeg\"]\n",
    "B = [\"naine\", \"naine\", \"tüdruk\", \"õde\", \"ta\", \"tema\", \"tema\", \"tütar\"]\n",
    "X = [\"teadus\", \"tehnoloogia\", \"füüsika\", \"keemia\", \"Einstein\", \"NASA\", \"eksperiment\", \"astronoomia\"]\n",
    "Y = [\"luule\", \"kunst\", \"Shakespeare\", \"tants\", \"kirjandus\", \"romaan\", \"sümfoonia\", \"draama\"]\n",
    "\n",
    "weat_x, weat_y, weat, weat_es = weat_score(X, Y, A, B, model)\n",
    "weat_x, weat_y, weat, weat_es"
   ]
  },
  {
   "cell_type": "markdown",
   "id": "a0e96f82",
   "metadata": {},
   "source": [
    "## Farsi, fa"
   ]
  },
  {
   "cell_type": "code",
   "execution_count": 17,
   "id": "898b51cd",
   "metadata": {
    "scrolled": true
   },
   "outputs": [
    {
     "name": "stdout",
     "output_type": "stream",
     "text": [
      "CPU times: user 2 µs, sys: 0 ns, total: 2 µs\n",
      "Wall time: 5.01 µs\n",
      "Loading model from  /Users/Napp/Desktop/Vectors/wiki.fa.bin\n"
     ]
    },
    {
     "name": "stderr",
     "output_type": "stream",
     "text": [
      "Warning : `load_model` does not return WordVectorModel or SupervisedModel any more, but a `FastText` object which is very similar.\n"
     ]
    }
   ],
   "source": [
    "%time\n",
    "lang = \"fa\"\n",
    "model_name = f\"wiki.{lang}.bin\" # the model file (should be the same, ending by '.bin')\n",
    "model = load_model(model_name)"
   ]
  },
  {
   "cell_type": "code",
   "execution_count": 18,
   "id": "0f7c51ec",
   "metadata": {},
   "outputs": [
    {
     "data": {
      "text/plain": [
       "(-0.119565666, -0.14356542, 0.02399975, 0.3091743)"
      ]
     },
     "execution_count": 18,
     "metadata": {},
     "output_type": "execute_result"
    }
   ],
   "source": [
    "#Google\n",
    "\n",
    "A = [\"مرد\",  \"مرد\",  \"پسر\",  \"برادر\",  \"او\",  \"او\",  \"او\",  \"پسر\"]\n",
    "B = [\"مونث\",  \"زن\",  \"دختر\",  \"خواهر\",  \"او\",  \"او\",  \"او\",  \"دختر\"]\n",
    "X = [\"مدیریت\",  \"مدیریت\",  \"حرفه ای\",  \"شرکت\",  \"حقوق\",  \"دفتر\",  \"تجارت\",  \"شغل\"]\n",
    "Y = [\"خانه\",  \"والدین\",  \"فرزندان\",  \"خانواده\",  \"پسرخاله\",  \"ازدواج\",  \"عروسی\",  \"بستگان\"]\n",
    "\n",
    "weat_x, weat_y, weat, weat_es = weat_score(X, Y, A, B, model)\n",
    "weat_x, weat_y, weat, weat_es"
   ]
  },
  {
   "cell_type": "code",
   "execution_count": 19,
   "id": "2dfa6cbc",
   "metadata": {},
   "outputs": [
    {
     "data": {
      "text/plain": [
       "(-0.057092983, -0.06781732, 0.01072434, 0.51947325)"
      ]
     },
     "execution_count": 19,
     "metadata": {},
     "output_type": "execute_result"
    }
   ],
   "source": [
    "#Google\n",
    "\n",
    "A = [\"مرد\" ,  \"مرد\" ,  \"پسر\" ,  \"برادر\" ,  \"او\" ,  \"او\" ,  \"او\" ,  \"پسر\"]\n",
    "B = [\"مونث\" ,  \"زن\" ,  \"دختر\" ,  \"خواهر\" ,  \"او\" ,  \"او\" ,  \"او\" ,  \"دختر\"]\n",
    "X = [\"ریاضی\" ,  \"جبر\" ,  \"هندسه\" ,  \"حساب\" ,  \"معادلات\" ,  \"محاسبات\" ,  \"اعداد\" ,  \"جمع\"]\n",
    "Y = [\"شعر\" ,  \"هنر\" ,  \"رقص\" ,  \"ادبیات\" ,  \"رمان\" ,  \"سمفونی\" ,  \"درام\" ,  \"مجسمه\"]\n",
    "\n",
    "\n",
    "weat_x, weat_y, weat, weat_es = weat_score(X, Y, A, B, model)\n",
    "weat_x, weat_y, weat, weat_es"
   ]
  },
  {
   "cell_type": "code",
   "execution_count": 20,
   "id": "60f9628a",
   "metadata": {},
   "outputs": [
    {
     "data": {
      "text/plain": [
       "(-0.059070945, -0.0671611, 0.008090153, 0.7408732)"
      ]
     },
     "execution_count": 20,
     "metadata": {},
     "output_type": "execute_result"
    }
   ],
   "source": [
    "#Google\n",
    "\n",
    "A = [\"مرد\",  \"مرد\",  \"پسر\",  \"برادر\",  \"او\",  \"او\",  \"او\",  \"پسر\"]\n",
    "B = [\"مونث\",  \"زن\",  \"دختر\",  \"خواهر\",  \"او\",  \"او\",  \"او\",  \"دختر\"]\n",
    "X = [\"علم\",  \"تکنولوژی\",  \"فیزیک\",  \"شیمی\",  \"انیشتین\",  \"ناسا\",  \"آزمایش\",  \"نجوم\"]\n",
    "Y = [\"شعر\",  \"هنر\",  \"شکسپیر\",  \"رقص\",  \"ادبیات\",  \"رمان\",  \"سمفونی\",  \"درام\"]\n",
    "\n",
    "\n",
    "weat_x, weat_y, weat, weat_es = weat_score(X, Y, A, B, model)\n",
    "weat_x, weat_y, weat, weat_es"
   ]
  },
  {
   "cell_type": "markdown",
   "id": "1246214e",
   "metadata": {},
   "source": [
    "## Filipino, tl"
   ]
  },
  {
   "cell_type": "code",
   "execution_count": 122,
   "id": "da522433",
   "metadata": {},
   "outputs": [
    {
     "name": "stdout",
     "output_type": "stream",
     "text": [
      "CPU times: user 4 µs, sys: 7 µs, total: 11 µs\n",
      "Wall time: 52.2 µs\n",
      "Loading model from  /Users/Napp/Desktop/Vectors/wiki.tl.bin\n"
     ]
    },
    {
     "name": "stderr",
     "output_type": "stream",
     "text": [
      "Warning : `load_model` does not return WordVectorModel or SupervisedModel any more, but a `FastText` object which is very similar.\n"
     ]
    }
   ],
   "source": [
    "%time\n",
    "lang = \"tl\"\n",
    "model_name = f\"wiki.{lang}.bin\" # the model file (should be the same, ending by '.bin')\n",
    "model = load_model(model_name)"
   ]
  },
  {
   "cell_type": "code",
   "execution_count": 123,
   "id": "1ade6783",
   "metadata": {},
   "outputs": [
    {
     "data": {
      "text/plain": [
       "(-0.12975161, -0.11405199, -0.015699618, -0.1919402)"
      ]
     },
     "execution_count": 123,
     "metadata": {},
     "output_type": "execute_result"
    }
   ],
   "source": [
    "#Google\n",
    "A = [\"lalaki\", \"lalaki\", \"lalaki\", \"kapatid na lalaki\", \"siya\", \"siya\", \"kaniya\", \"anak\"]\n",
    "B = [\"babae\", \"babae\", \"babae\", \"kapatid na babae\", \"siya\", \"kaniya\", \"kanya\", \"anak na babae\"]\n",
    "X = [\"ehekutibo\", \"pamamahala\", \"propesyonal\", \"korporasyon\", \"suweldo\", \"opisina\", \"negosyo\", \"karera\"]\n",
    "Y = [\"tahanan\", \"mga magulang\", \"mga anak\", \"pamilya\", \"pinsan\", \"kasal\", \"kasal\", \"kamag-anak\"]\n",
    "\n",
    "\n",
    "weat_x, weat_y, weat, weat_es = weat_score(X, Y, A, B, model)\n",
    "weat_x, weat_y, weat, weat_es"
   ]
  },
  {
   "cell_type": "code",
   "execution_count": 124,
   "id": "7cb2a4e1",
   "metadata": {},
   "outputs": [
    {
     "data": {
      "text/plain": [
       "(-0.07716155, -0.07028048, -0.006881073, -0.58809566)"
      ]
     },
     "execution_count": 124,
     "metadata": {},
     "output_type": "execute_result"
    }
   ],
   "source": [
    "#Google\n",
    "A = [\"lalaki\", \"lalaki\", \"lalaki\", \"kapatid na lalaki\", \"siya\", \"siya\", \"kaniya\", \"anak\"]\n",
    "B = [\"babae\", \"babae\", \"babae\", \"kapatid na babae\", \"siya\", \"kaniya\", \"kanya\", \"anak na babae\"]\n",
    "X = [\"math\", \"algebra\", \"geometry\", \"calculus\", \"equation\", \"computation\", \"numbers\", \"addition\"]\n",
    "Y = [\"tula\", \"sining\", \"sayaw\", \"panitikan\", \"nobela\", \"symphony\", \"drama\", \"eskultura\"]\n",
    "\n",
    "\n",
    "\n",
    "weat_x, weat_y, weat, weat_es = weat_score(X, Y, A, B, model)\n",
    "weat_x, weat_y, weat, weat_es"
   ]
  },
  {
   "cell_type": "code",
   "execution_count": 125,
   "id": "d63f8a5f",
   "metadata": {},
   "outputs": [
    {
     "data": {
      "text/plain": [
       "(-0.068175286, -0.07763432, 0.009459034, 0.5946864)"
      ]
     },
     "execution_count": 125,
     "metadata": {},
     "output_type": "execute_result"
    }
   ],
   "source": [
    "#Google\n",
    "A = [\"lalaki\", \"lalaki\", \"lalaki\", \"kapatid na lalaki\", \"siya\", \"siya\", \"kaniya\", \"anak\"]\n",
    "B = [\"babae\", \"babae\", \"babae\", \"kapatid na babae\", \"siya\", \"kaniya\", \"kanya\", \"anak na babae\"]\n",
    "X = [\"science\", \"technology\", \"physics\", \"chemistry\", \"Einstein\", \"NASA\", \"experiment\", \"astronomy\"]\n",
    "Y = [\"tula\", \"sining\", \"Shakespeare\", \"sayaw\", \"panitikan\", \"nobela\", \"simponya\", \"drama\"]\n",
    "\n",
    "weat_x, weat_y, weat, weat_es = weat_score(X, Y, A, B, model)\n",
    "weat_x, weat_y, weat, weat_es"
   ]
  },
  {
   "cell_type": "markdown",
   "id": "5856fd2a",
   "metadata": {},
   "source": [
    "## Finnish, fi"
   ]
  },
  {
   "cell_type": "code",
   "execution_count": 69,
   "id": "7ad1a8b9",
   "metadata": {},
   "outputs": [
    {
     "name": "stdout",
     "output_type": "stream",
     "text": [
      "CPU times: user 1e+03 ns, sys: 1e+03 ns, total: 2 µs\n",
      "Wall time: 4.05 µs\n",
      "Loading model from  /Users/Napp/Desktop/Vectors/wiki.fi.bin\n"
     ]
    },
    {
     "name": "stderr",
     "output_type": "stream",
     "text": [
      "Warning : `load_model` does not return WordVectorModel or SupervisedModel any more, but a `FastText` object which is very similar.\n"
     ]
    }
   ],
   "source": [
    "%time\n",
    "lang = \"fi\"\n",
    "model_name = f\"wiki.{lang}.bin\" # the model file (should be the same, ending by '.bin')\n",
    "model = load_model(model_name)"
   ]
  },
  {
   "cell_type": "code",
   "execution_count": 70,
   "id": "5168ad6c",
   "metadata": {},
   "outputs": [
    {
     "data": {
      "text/plain": [
       "(-0.07053679, -0.10619528, 0.035658486, 0.35995206)"
      ]
     },
     "execution_count": 70,
     "metadata": {},
     "output_type": "execute_result"
    }
   ],
   "source": [
    "#Google\n",
    "\n",
    "A = [\"mies\", \"mies\", \"poika\", \"veli\", \"hän\", \"hän\", \"hänen\", \"poika\"]\n",
    "B = [\"nainen\", \"nainen\", \"tyttö\", \"sisko\", \"hän\", \"hänen\", \"hänen\", \"tytär\"]\n",
    "X = [\"johto\", \"johto\", \"ammattilainen\", \"yritys\", \"palkka\", \"toimisto\", \"liiketoiminta\", \"ura\"]\n",
    "Y = [\"koti\", \"vanhemmat\", \"lapset\", \"perhe\", \"serkut\", \"avioliitto\", \"häät\", \"sukulaiset\"]\n",
    "\n",
    "\n",
    "weat_x, weat_y, weat, weat_es = weat_score(X, Y, A, B, model)\n",
    "weat_x, weat_y, weat, weat_es"
   ]
  },
  {
   "cell_type": "code",
   "execution_count": 71,
   "id": "3da91c02",
   "metadata": {},
   "outputs": [
    {
     "data": {
      "text/plain": [
       "(-0.042083986, -0.08490924, 0.04282525, 0.8865387)"
      ]
     },
     "execution_count": 71,
     "metadata": {},
     "output_type": "execute_result"
    }
   ],
   "source": [
    "#Google\n",
    "\n",
    "A = [\"mies\", \"mies\", \"poika\", \"veli\", \"hän\", \"hän\", \"hänen\", \"poika\"]\n",
    "B = [\"nainen\", \"nainen\", \"tyttö\", \"sisko\", \"hän\", \"hänen\", \"hänen\", \"tytär\"]\n",
    "X = [\"matematiikka\", \"algebra\", \"geometria\", \"laskenta\", \"yhtälöt\", \"laskenta\", \"luvut\", \"lisäys\"]\n",
    "Y = [\"runous\", \"taide\", \"tanssi\", \"kirjallisuus\", \"romaani\", \"sinfonia\", \"draama\", \"veistos\"]\n",
    "\n",
    "\n",
    "\n",
    "weat_x, weat_y, weat, weat_es = weat_score(X, Y, A, B, model)\n",
    "weat_x, weat_y, weat, weat_es"
   ]
  },
  {
   "cell_type": "code",
   "execution_count": 72,
   "id": "3df76c77",
   "metadata": {},
   "outputs": [
    {
     "data": {
      "text/plain": [
       "(-0.048258014, -0.0773097, 0.029051684, 0.93781275)"
      ]
     },
     "execution_count": 72,
     "metadata": {},
     "output_type": "execute_result"
    }
   ],
   "source": [
    "#Google\n",
    "\n",
    "A = [\"mies\", \"mies\", \"poika\", \"veli\", \"hän\", \"hän\", \"hänen\", \"poika\"]\n",
    "B = [\"nainen\", \"nainen\", \"tyttö\", \"sisko\", \"hän\", \"hänen\", \"hänen\", \"tytär\"]\n",
    "X = [\"tiede\", \"teknologia\", \"fysiikka\", \"kemia\", \"Einstein\", \"NASA\", \"koe\", \"tähtitiede\"]\n",
    "Y = [\"runous\", \"taide\", \"Shakespeare\", \"tanssi\", \"kirjallisuus\", \"romaani\", \"sinfonia\", \"draama\"]\n",
    "\n",
    "\n",
    "weat_x, weat_y, weat, weat_es = weat_score(X, Y, A, B, model)\n",
    "weat_x, weat_y, weat, weat_es"
   ]
  },
  {
   "cell_type": "markdown",
   "id": "8b052891",
   "metadata": {},
   "source": [
    "## French, fr"
   ]
  },
  {
   "cell_type": "code",
   "execution_count": 126,
   "id": "910f4b8f",
   "metadata": {
    "scrolled": false
   },
   "outputs": [
    {
     "name": "stdout",
     "output_type": "stream",
     "text": [
      "CPU times: user 2 µs, sys: 0 ns, total: 2 µs\n",
      "Wall time: 5.25 µs\n",
      "Loading model from  /Users/Napp/Desktop/Vectors/wiki.fr.bin\n"
     ]
    },
    {
     "name": "stderr",
     "output_type": "stream",
     "text": [
      "Warning : `load_model` does not return WordVectorModel or SupervisedModel any more, but a `FastText` object which is very similar.\n"
     ]
    }
   ],
   "source": [
    "%time\n",
    "lang = \"fr\"\n",
    "model_name = f\"wiki.{lang}.bin\" # the model file (should be the same, ending by '.bin')\n",
    "model = load_model(model_name)"
   ]
  },
  {
   "cell_type": "code",
   "execution_count": 127,
   "id": "d51780a7",
   "metadata": {},
   "outputs": [
    {
     "data": {
      "text/plain": [
       "(-0.12412422, -0.17467193, 0.05054771, 0.37670785)"
      ]
     },
     "execution_count": 127,
     "metadata": {},
     "output_type": "execute_result"
    }
   ],
   "source": [
    "#Google\n",
    "A = [\"homme\", \"homme\", \"garçon\", \"frère\", \"il\", \"lui\", \"son\", \"fils\"]\n",
    "B = [\"femme\", \"femme\", \"fille\", \"sœur\", \"elle\", \"elle\", \"sienne\", \"fille\"]\n",
    "X = [\"cadre\", \"gestion\", \"professionnel\", \"société\", \"salaire\", \"bureau\", \"entreprise\", \"carrière\"]\n",
    "Y = [\"maison\", \"parents\", \"enfants\", \"famille\", \"cousins\", \"mariage\", \"mariage\", \"parents\"]\n",
    "\n",
    "\n",
    "weat_x, weat_y, weat, weat_es = weat_score(X, Y, A, B, model)\n",
    "weat_x, weat_y, weat, weat_es"
   ]
  },
  {
   "cell_type": "code",
   "execution_count": 128,
   "id": "77a0a6b9",
   "metadata": {},
   "outputs": [
    {
     "data": {
      "text/plain": [
       "(-0.040027376, -0.07474336, 0.034715984, 0.8883136)"
      ]
     },
     "execution_count": 128,
     "metadata": {},
     "output_type": "execute_result"
    }
   ],
   "source": [
    "#Google\n",
    "A = [\"homme\", \"homme\", \"garçon\", \"frère\", \"il\", \"lui\", \"son\", \"fils\"]\n",
    "B = [\"femme\", \"femme\", \"fille\", \"sœur\", \"elle\", \"elle\", \"sienne\", \"fille\"]\n",
    "X = [\"maths\", \"algèbre\", \"géométrie\", \"calcul\", \"équations\", \"calcul\", \"nombres\", \"addition\"]\n",
    "Y = [\"poésie\", \"art\", \"danse\", \"littérature\", \"roman\", \"symphonie\", \"drame\", \"sculpture\"]\n",
    "\n",
    "\n",
    "\n",
    "weat_x, weat_y, weat, weat_es = weat_score(X, Y, A, B, model)\n",
    "weat_x, weat_y, weat, weat_es"
   ]
  },
  {
   "cell_type": "code",
   "execution_count": 129,
   "id": "aee156ff",
   "metadata": {},
   "outputs": [
    {
     "data": {
      "text/plain": [
       "(-0.022701368, -0.046566837, 0.023865469, 0.84853435)"
      ]
     },
     "execution_count": 129,
     "metadata": {},
     "output_type": "execute_result"
    }
   ],
   "source": [
    "#Google\n",
    "A = [\"homme\", \"homme\", \"garçon\", \"frère\", \"il\", \"lui\", \"son\", \"fils\"]\n",
    "B = [\"femme\", \"femme\", \"fille\", \"sœur\", \"elle\", \"elle\", \"sienne\", \"fille\"]\n",
    "X = [\"science\", \"technologie\", \"physique\", \"chimie\", \"Einstein\", \"NASA\", \"expérience\", \"astronomie\"]\n",
    "Y = [\"poésie\", \"art\", \"Shakespeare\", \"danse\", \"littérature\", \"roman\", \"symphonie\", \"drame\"]\n",
    "\n",
    "\n",
    "weat_x, weat_y, weat, weat_es = weat_score(X, Y, A, B, model)\n",
    "weat_x, weat_y, weat, weat_es"
   ]
  },
  {
   "cell_type": "markdown",
   "id": "ce1672d5",
   "metadata": {},
   "source": [
    "## Frisian, fy"
   ]
  },
  {
   "cell_type": "code",
   "execution_count": 5,
   "id": "a0fa1791",
   "metadata": {},
   "outputs": [
    {
     "name": "stdout",
     "output_type": "stream",
     "text": [
      "CPU times: user 2 µs, sys: 1e+03 ns, total: 3 µs\n",
      "Wall time: 4.77 µs\n",
      "Loading model from  /Users/Napp/Desktop/Vectors/wiki.fy.bin\n"
     ]
    },
    {
     "name": "stderr",
     "output_type": "stream",
     "text": [
      "Warning : `load_model` does not return WordVectorModel or SupervisedModel any more, but a `FastText` object which is very similar.\n"
     ]
    }
   ],
   "source": [
    "%time\n",
    "lang = \"fy\"\n",
    "model_name = f\"wiki.{lang}.bin\" # the model file (should be the same, ending by '.bin')\n",
    "model = load_model(model_name)"
   ]
  },
  {
   "cell_type": "code",
   "execution_count": 6,
   "id": "238063c1",
   "metadata": {},
   "outputs": [
    {
     "data": {
      "text/plain": [
       "(-0.0495769, -0.11446545, 0.06488855, 1.162083)"
      ]
     },
     "execution_count": 6,
     "metadata": {},
     "output_type": "execute_result"
    }
   ],
   "source": [
    "#Google\n",
    "A = [\"man\", \"man\", \"jonge\", \"broer\", \"hy\", \"him\", \"syn\", \"soan\"]\n",
    "B = [\"frou\", \"frou\", \"famke\", \"suster\", \"sy\", \"har\", \"hars\", \"dochter\"]\n",
    "X = [\"bestjoer\", \"behear\", \"profesjoneel\", \"korporaasje\", \"salaris\", \"kantoar\", \"bedriuw\", \"karriêre\"]\n",
    "Y = [\"thús\", \"âlders\", \"bern\", \"famylje\", \"neven\", \"houlik\", \"trou\", \"sibben\"]\n",
    "\n",
    "\n",
    "\n",
    "\n",
    "weat_x, weat_y, weat, weat_es = weat_score(X, Y, A, B, model)\n",
    "weat_x, weat_y, weat, weat_es"
   ]
  },
  {
   "cell_type": "code",
   "execution_count": 7,
   "id": "99f58b13",
   "metadata": {},
   "outputs": [
    {
     "data": {
      "text/plain": [
       "(0.006967862, -0.015859414, 0.022827275, 0.75178593)"
      ]
     },
     "execution_count": 7,
     "metadata": {},
     "output_type": "execute_result"
    }
   ],
   "source": [
    "#Google\n",
    "A = [\"man\", \"man\", \"jonge\", \"broer\", \"hy\", \"him\", \"syn\", \"soan\"]\n",
    "B = [\"frou\", \"frou\", \"famke\", \"suster\", \"sy\", \"har\", \"hars\", \"dochter\"]\n",
    "\n",
    "X = [\"wiskunde\", \"algebra\", \"geometry\", \"berekkening\", \"fergelikingen\", \"berekkening\", \"nûmers\", \"tafoeging\"]\n",
    "Y = [\"poëzij\", \"keunst\", \"dûns\", \"literatuer\", \"roman\", \"symfony\", \"drama\", \"skulptuer\"]\n",
    "\n",
    "\n",
    "\n",
    "\n",
    "weat_x, weat_y, weat, weat_es = weat_score(X, Y, A, B, model)\n",
    "weat_x, weat_y, weat, weat_es"
   ]
  },
  {
   "cell_type": "code",
   "execution_count": 8,
   "id": "07a332fe",
   "metadata": {},
   "outputs": [
    {
     "data": {
      "text/plain": [
       "(-0.057760008, -0.073205136, 0.015445128, 0.844296)"
      ]
     },
     "execution_count": 8,
     "metadata": {},
     "output_type": "execute_result"
    }
   ],
   "source": [
    "#Google\n",
    "A = [\"man\", \"man\", \"jonge\", \"broer\", \"hy\", \"him\", \"syn\", \"soan\"]\n",
    "B = [\"frou\", \"frou\", \"famke\", \"suster\", \"sy\", \"har\", \"hars\", \"dochter\"]\n",
    "\n",
    "X = [\"wittenskip\", \"technology\", \"fysika\", \"chemie\", \"Einstein\", \"NASA\", \"eksperimint\", \"astronomy\"]\n",
    "Y = [\"poëzij\", \"keunst\", \"Shakespeare\", \"dûns\", \"literatuer\", \"roman\", \"symfony\", \"drama\"]\n",
    "\n",
    "\n",
    "weat_x, weat_y, weat, weat_es = weat_score(X, Y, A, B, model)\n",
    "weat_x, weat_y, weat, weat_es"
   ]
  },
  {
   "cell_type": "markdown",
   "id": "f77460e5",
   "metadata": {},
   "source": [
    "## Georgian, ka"
   ]
  },
  {
   "cell_type": "code",
   "execution_count": 162,
   "id": "4aa4cb5a",
   "metadata": {},
   "outputs": [
    {
     "name": "stdout",
     "output_type": "stream",
     "text": [
      "CPU times: user 2 µs, sys: 1e+03 ns, total: 3 µs\n",
      "Wall time: 6.2 µs\n",
      "Loading model from  /Users/Napp/Desktop/Vectors/wiki.ka.bin\n"
     ]
    },
    {
     "name": "stderr",
     "output_type": "stream",
     "text": [
      "Warning : `load_model` does not return WordVectorModel or SupervisedModel any more, but a `FastText` object which is very similar.\n"
     ]
    }
   ],
   "source": [
    "%time\n",
    "lang = \"ka\"\n",
    "model_name = f\"wiki.{lang}.bin\" # the model file (should be the same, ending by '.bin')\n",
    "model = load_model(model_name)"
   ]
  },
  {
   "cell_type": "code",
   "execution_count": 163,
   "id": "7a6e7230",
   "metadata": {},
   "outputs": [
    {
     "data": {
      "text/plain": [
       "(-0.05617726, -0.062358815, 0.0061815567, 0.06591571)"
      ]
     },
     "execution_count": 163,
     "metadata": {},
     "output_type": "execute_result"
    }
   ],
   "source": [
    "#Google\n",
    "A = [\"მამაკაცი\", \"კაცი\", \"ბიჭი\", \"ძმა\", \"ის\", \"ის\", \"მისი\", \"შვილი\"]\n",
    "B = [\"ქალი\", \"ქალი\", \"გოგო\", \"და\", \"ის\", \"მისი\", \"მისი\", \"ქალიშვილი\"]\n",
    "X = [\"აღმასრულებელი\", \"მენეჯმენტი\", \"პროფესიონალი\", \"კორპორაცია\", \"ხელფასი\", \"ოფისი\", \"ბიზნესი\", \"კარიერა\"]\n",
    "Y = [\"სახლი\", \"მშობლები\", \"შვილები\", \"ოჯახი\", \"ბიძაშვილები\", \"ქორწინება\", \"ქორწილი\", \"ნათესავები\"]\n",
    "\n",
    "\n",
    "weat_x, weat_y, weat, weat_es = weat_score(X, Y, A, B, model)\n",
    "weat_x, weat_y, weat, weat_es"
   ]
  },
  {
   "cell_type": "code",
   "execution_count": 164,
   "id": "cb9ee876",
   "metadata": {},
   "outputs": [
    {
     "data": {
      "text/plain": [
       "(-0.009826548, -0.029314943, 0.019488394, 0.5538753)"
      ]
     },
     "execution_count": 164,
     "metadata": {},
     "output_type": "execute_result"
    }
   ],
   "source": [
    "#Google\n",
    "A = [\"მამაკაცი\", \"კაცი\", \"ბიჭი\", \"ძმა\", \"ის\", \"ის\", \"მისი\", \"შვილი\"]\n",
    "B = [\"ქალი\", \"ქალი\", \"გოგო\", \"და\", \"ის\", \"მისი\", \"მისი\", \"ქალიშვილი\"]\n",
    "X = [\"მათემატიკა\", \"ალგებრა\", \"გეომეტრია\", \"კალკულუსი\", \"განტოლებები\", \"გამოთვლა\", \"რიცხვები\", \"მიმატება\"]\n",
    "Y = [\"პოეზია\", \"ხელოვნება\", \"ცეკვა\", \"ლიტერატურა\", \"რომანი\", \"სიმფონია\", \"დრამა\", \"ქანდაკება\"]\n",
    "\n",
    "\n",
    "weat_x, weat_y, weat, weat_es = weat_score(X, Y, A, B, model)\n",
    "weat_x, weat_y, weat, weat_es"
   ]
  },
  {
   "cell_type": "code",
   "execution_count": 165,
   "id": "bc7059b6",
   "metadata": {},
   "outputs": [
    {
     "data": {
      "text/plain": [
       "(-0.024395991, -0.041282922, 0.01688693, 0.40512562)"
      ]
     },
     "execution_count": 165,
     "metadata": {},
     "output_type": "execute_result"
    }
   ],
   "source": [
    "#Google\n",
    "A = [\"მამაკაცი\", \"კაცი\", \"ბიჭი\", \"ძმა\", \"ის\", \"ის\", \"მისი\", \"შვილი\"]\n",
    "B = [\"ქალი\", \"ქალი\", \"გოგო\", \"და\", \"ის\", \"მისი\", \"მისი\", \"ქალიშვილი\"]\n",
    "X = [\"მეცნიერება\", \"ტექნოლოგია\", \"ფიზიკა\", \"ქიმია\", \"აინშტაინი\", \"NASA\", \"ექსპერიმენტი\", \"ასტრონომია\"]\n",
    "Y = [\"პოეზია\", \"ხელოვნება\", \"შექსპირი\", \"ცეკვა\", \"ლიტერატურა\", \"რომანი\", \"სიმფონია\", \"დრამა\"]\n",
    "\n",
    "\n",
    "weat_x, weat_y, weat, weat_es = weat_score(X, Y, A, B, model)\n",
    "weat_x, weat_y, weat, weat_es"
   ]
  },
  {
   "cell_type": "markdown",
   "id": "9ab7f669",
   "metadata": {},
   "source": [
    "## German, de"
   ]
  },
  {
   "cell_type": "code",
   "execution_count": 130,
   "id": "ec37e7df",
   "metadata": {},
   "outputs": [
    {
     "name": "stdout",
     "output_type": "stream",
     "text": [
      "CPU times: user 3 µs, sys: 6 µs, total: 9 µs\n",
      "Wall time: 24.8 µs\n",
      "Loading model from  /Users/Napp/Desktop/Vectors/wiki.de.bin\n"
     ]
    },
    {
     "name": "stderr",
     "output_type": "stream",
     "text": [
      "Warning : `load_model` does not return WordVectorModel or SupervisedModel any more, but a `FastText` object which is very similar.\n"
     ]
    }
   ],
   "source": [
    "%time\n",
    "lang=\"de\"\n",
    "model_name = f\"wiki.{lang}.bin\" # the model file (should be the same, ending by '.bin')\n",
    "model = load_model(model_name)"
   ]
  },
  {
   "cell_type": "code",
   "execution_count": 131,
   "id": "9bc8b2b0",
   "metadata": {},
   "outputs": [
    {
     "data": {
      "text/plain": [
       "(-0.069341496, -0.05979412, -0.009547375, -0.2688777)"
      ]
     },
     "execution_count": 131,
     "metadata": {},
     "output_type": "execute_result"
    }
   ],
   "source": [
    "#Google\n",
    "\n",
    "A = [\"männlich\", \"mann\", \"junge\", \"bruder\", \"er\", \"ihn\", \"sein\", \"sohn\"]\n",
    "B = [\"weiblich\", \"Frau\", \"Mädchen\", \"Schwester\", \"sie\", \"ihr\", \"ihr\", \"Tochter\"]\n",
    "X = [\"Führungskraft\", \"Management\", \"Profi\", \"Unternehmen\", \"Gehalt\", \"Büro\", \"Geschäft\", \"Karriere\"]\n",
    "Y = [\"Zuhause\", \"Eltern\", \"Kinder\", \"Familie\", \"Cousins\", \"Ehe\", \"Hochzeit\", \"Verwandte\"]\n",
    "\n",
    "\n",
    "weat_x, weat_y, weat, weat_es = weat_score(X, Y, A, B, model)\n",
    "weat_x, weat_y, weat, weat_es"
   ]
  },
  {
   "cell_type": "code",
   "execution_count": 132,
   "id": "c900e16e",
   "metadata": {},
   "outputs": [
    {
     "data": {
      "text/plain": [
       "(-0.018435853, 0.011605924, -0.030041777, -0.557783)"
      ]
     },
     "execution_count": 132,
     "metadata": {},
     "output_type": "execute_result"
    }
   ],
   "source": [
    "#Google\n",
    "\n",
    "A = [\"männlich\", \"mann\", \"junge\", \"bruder\", \"er\", \"ihn\", \"sein\", \"sohn\"]\n",
    "B = [\"weiblich\", \"Frau\", \"Mädchen\", \"Schwester\", \"sie\", \"ihr\", \"ihr\", \"Tochter\"]\n",
    "X = [\"Mathematik\", \"Algebra\", \"Geometrie\", \"Kalkül\", \"Gleichungen\", \"Berechnung\", \"Zahlen\", \"Addition\"]\n",
    "Y = [\"Poesie\", \"Kunst\", \"Tanz\", \"Literatur\", \"Roman\", \"Symphonie\", \"Drama\", \"Skulptur\"]\n",
    "\n",
    "weat_x, weat_y, weat, weat_es = weat_score(X, Y, A, B, model)\n",
    "weat_x, weat_y, weat, weat_es"
   ]
  },
  {
   "cell_type": "code",
   "execution_count": 133,
   "id": "176684fd",
   "metadata": {},
   "outputs": [
    {
     "data": {
      "text/plain": [
       "(-0.029265255, -0.017765783, -0.011499472, -0.33718124)"
      ]
     },
     "execution_count": 133,
     "metadata": {},
     "output_type": "execute_result"
    }
   ],
   "source": [
    "#Google\n",
    "\n",
    "A = [\"männlich\", \"mann\", \"junge\", \"bruder\", \"er\", \"ihn\", \"sein\", \"sohn\"]\n",
    "B = [\"weiblich\", \"Frau\", \"Mädchen\", \"Schwester\", \"sie\", \"ihr\", \"ihr\", \"Tochter\"]\n",
    "X = [\"Wissenschaft\", \"Technologie\", \"Physik\", \"Chemie\", \"Einstein\", \"NASA\", \"Experiment\", \"Astronomie\"]\n",
    "Y = [\"Poesie\", \"Kunst\", \"Shakespeare\", \"Tanz\", \"Literatur\", \"Roman\", \"Sinfonie\", \"Drama\"]\n",
    "\n",
    "\n",
    "weat_x, weat_y, weat, weat_es = weat_score(X, Y, A, B, model)\n",
    "weat_x, weat_y, weat, weat_es"
   ]
  },
  {
   "cell_type": "markdown",
   "id": "b14540a0",
   "metadata": {},
   "source": [
    "## Greek, el"
   ]
  },
  {
   "cell_type": "code",
   "execution_count": 21,
   "id": "56a74dfe",
   "metadata": {
    "scrolled": true
   },
   "outputs": [
    {
     "name": "stdout",
     "output_type": "stream",
     "text": [
      "CPU times: user 2 µs, sys: 1 µs, total: 3 µs\n",
      "Wall time: 3.81 µs\n",
      "Loading model from  /Users/Napp/Desktop/Vectors/wiki.el.bin\n"
     ]
    },
    {
     "name": "stderr",
     "output_type": "stream",
     "text": [
      "Warning : `load_model` does not return WordVectorModel or SupervisedModel any more, but a `FastText` object which is very similar.\n"
     ]
    }
   ],
   "source": [
    "%time\n",
    "lang = \"el\"\n",
    "model_name = f\"wiki.{lang}.bin\" # the model file (should be the same, ending by '.bin')\n",
    "model = load_model(model_name)"
   ]
  },
  {
   "cell_type": "code",
   "execution_count": 22,
   "id": "1a2731cb",
   "metadata": {},
   "outputs": [
    {
     "data": {
      "text/plain": [
       "(-0.09218911, -0.10010965, 0.007920541, 0.104547895)"
      ]
     },
     "execution_count": 22,
     "metadata": {},
     "output_type": "execute_result"
    }
   ],
   "source": [
    "#Google\n",
    "\n",
    "A = [\"αρσενικό\", \"άνδρας\", \"αγόρι\", \"αδερφός\", \"αυτός\", \"αυτός\", \"δικός του\", \"γιος\"]\n",
    "B = [\"θηλυκό\", \"γυναίκα\", \"κορίτσι\", \"αδελφή\", \"αυτή\", \"αυτή\", \"δική της\", \"κόρη\"]\n",
    "X = [\"εκτελεστικό\", \"διεύθυνση\", \"επαγγελματίας\", \"εταιρεία\", \"μισθός\", \"γραφείο\", \"επιχειρήσεις\", \"καριέρα\"]\n",
    "Y = [\"σπίτι\", \"γονείς\", \"παιδιά\", \"οικογένεια\", \"ξαδέρφια\", \"γάμος\", \"γάμος\", \"συγγενείς\"]\n",
    "\n",
    "weat_x, weat_y, weat, weat_es = weat_score(X, Y, A, B, model)\n",
    "weat_x, weat_y, weat, weat_es"
   ]
  },
  {
   "cell_type": "code",
   "execution_count": 23,
   "id": "b560c4f4",
   "metadata": {},
   "outputs": [
    {
     "data": {
      "text/plain": [
       "(-0.02702696, -0.048183747, 0.021156786, 0.38652506)"
      ]
     },
     "execution_count": 23,
     "metadata": {},
     "output_type": "execute_result"
    }
   ],
   "source": [
    "#Google\n",
    "\n",
    "A = [\"αρσενικό\", \"άνδρας\", \"αγόρι\", \"αδερφός\", \"αυτός\", \"αυτός\", \"δικός του\", \"γιος\"]\n",
    "B = [\"θηλυκό\", \"γυναίκα\", \"κορίτσι\", \"αδελφή\", \"αυτή\", \"αυτή\", \"δική της\", \"κόρη\"]\n",
    "X = [\"μαθηματικά\", \"άλγεβρα\", \"γεωμετρία\", \"λογισμός\", \"εξισώσεις\", \"υπολογισμός\", \"αριθμοί\", \"προσθήκη\"]\n",
    "Y = [\"ποίηση\", \"τέχνη\", \"χορός\", \"λογοτεχνία\", \"μυθιστόρημα\", \"συμφωνία\", \"δράμα\", \"γλυπτική\"]\n",
    "\n",
    "\n",
    "weat_x, weat_y, weat, weat_es = weat_score(X, Y, A, B, model)\n",
    "weat_x, weat_y, weat, weat_es"
   ]
  },
  {
   "cell_type": "code",
   "execution_count": 24,
   "id": "adb67583",
   "metadata": {},
   "outputs": [
    {
     "data": {
      "text/plain": [
       "(-0.026776996, -0.028153675, 0.0013766792, 0.03484722)"
      ]
     },
     "execution_count": 24,
     "metadata": {},
     "output_type": "execute_result"
    }
   ],
   "source": [
    "#Google\n",
    "\n",
    "A = [\"αρσενικό\", \"άνδρας\", \"αγόρι\", \"αδερφός\", \"αυτός\", \"αυτός\", \"δικός του\", \"γιος\"]\n",
    "B = [\"θηλυκό\", \"γυναίκα\", \"κορίτσι\", \"αδελφή\", \"αυτή\", \"αυτή\", \"δική της\", \"κόρη\"]\n",
    "X = [\"επιστήμη\", \"τεχνολογία\", \"φυσική\", \"χημεία\", \"Αϊνστάιν\", \"NASA\", \"πείραμα\", \"αστρονομία\"]\n",
    "Y = [\"ποίηση\", \"τέχνη\", \"Σαίξπηρ\", \"χορός\", \"λογοτεχνία\", \"μυθιστόρημα\", \"συμφωνία\", \"δράμα\"]\n",
    "\n",
    "weat_x, weat_y, weat, weat_es = weat_score(X, Y, A, B, model)\n",
    "weat_x, weat_y, weat, weat_es"
   ]
  },
  {
   "cell_type": "markdown",
   "id": "75aa386e",
   "metadata": {},
   "source": [
    "## Guarani, gn"
   ]
  },
  {
   "cell_type": "code",
   "execution_count": 310,
   "id": "a29f2715",
   "metadata": {},
   "outputs": [
    {
     "name": "stdout",
     "output_type": "stream",
     "text": [
      "CPU times: user 3 µs, sys: 1e+03 ns, total: 4 µs\n",
      "Wall time: 5.01 µs\n",
      "Loading model from  /Users/Napp/Desktop/Vectors/wiki.gn.bin\n"
     ]
    },
    {
     "name": "stderr",
     "output_type": "stream",
     "text": [
      "Warning : `load_model` does not return WordVectorModel or SupervisedModel any more, but a `FastText` object which is very similar.\n"
     ]
    }
   ],
   "source": [
    "%time\n",
    "lang = \"gn\"\n",
    "model_name = f\"wiki.{lang}.bin\" # the model file (should be the same, ending by '.bin')\n",
    "model = load_model(model_name)"
   ]
  },
  {
   "cell_type": "code",
   "execution_count": 311,
   "id": "497fe5e0",
   "metadata": {},
   "outputs": [
    {
     "data": {
      "text/plain": [
       "(-0.04846947, -0.031528678, -0.016940791, -0.1937831)"
      ]
     },
     "execution_count": 311,
     "metadata": {},
     "output_type": "execute_result"
    }
   ],
   "source": [
    "#Google\n",
    "\n",
    "A = [\"kuimba'e\", \"kuimba'e\", \"mitãkuimba'e\", \"joyke'y\", \"ha'e\", \"ha'e\", \"imba'e\", \"ta'ýra\"]\n",
    "B = [\"kuña\", \"kuña\", \"mitãkuña\", \"hermana\", \"ha'e\", \"ha'e\", \"imba'e\", \"tajýra\"]\n",
    "X = [\"ejecutivo\", \"gestión\", \"profesional\", \"corporación\", \"sueldo\", \"oficina\", \"negocio\", \"carrera\"]\n",
    "Y = [\"óga\", \"tuvakuéra\", \"mitãnguéra\", \"hogaygua\", \"primokuéra\", \"menda\", \"ñemenda\", \"periente\"]\n",
    "\n",
    "\n",
    "weat_x, weat_y, weat, weat_es = weat_score(X, Y, A, B, model)\n",
    "weat_x, weat_y, weat, weat_es"
   ]
  },
  {
   "cell_type": "code",
   "execution_count": 312,
   "id": "9518256d",
   "metadata": {},
   "outputs": [
    {
     "data": {
      "text/plain": [
       "(0.0071537085, -0.0008106679, 0.007964376, 0.18338853)"
      ]
     },
     "execution_count": 312,
     "metadata": {},
     "output_type": "execute_result"
    }
   ],
   "source": [
    "#Google\n",
    "\n",
    "A = [\"kuimba'e\", \"kuimba'e\", \"mitãkuimba'e\", \"joyke'y\", \"ha'e\", \"ha'e\", \"imba'e\", \"ta'ýra\"]\n",
    "B = [\"kuña\", \"kuña\", \"mitãkuña\", \"hermana\", \"ha'e\", \"ha'e\", \"imba'e\", \"tajýra\"]\n",
    "X = [\"matemática\", \"álgebra\", \"geometría\", \"cálculo\", \"ecuaciones\", \"computación\", \"papapy\", \"adición\"]\n",
    "Y = [\"ñe'ẽpoty\", \"arte\", \"jeroky\", \"literatura\", \"novela\", \"sinfonía\", \"drama\", \"escultura\"]\n",
    "\n",
    "\n",
    "\n",
    "weat_x, weat_y, weat, weat_es = weat_score(X, Y, A, B, model)\n",
    "weat_x, weat_y, weat, weat_es"
   ]
  },
  {
   "cell_type": "code",
   "execution_count": 313,
   "id": "32cbe64d",
   "metadata": {},
   "outputs": [
    {
     "data": {
      "text/plain": [
       "(-0.045402646, -0.051200237, 0.005797591, 0.10763261)"
      ]
     },
     "execution_count": 313,
     "metadata": {},
     "output_type": "execute_result"
    }
   ],
   "source": [
    "#Google\n",
    "\n",
    "A = [\"kuimba'e\", \"kuimba'e\", \"mitãkuimba'e\", \"joyke'y\", \"ha'e\", \"ha'e\", \"imba'e\", \"ta'ýra\"]\n",
    "B = [\"kuña\", \"kuña\", \"mitãkuña\", \"hermana\", \"ha'e\", \"ha'e\", \"imba'e\", \"tajýra\"]\n",
    "X = [\"ciencia\", \"tecnología\", \"física\", \"química\", \"Einstein\", \"NASA\", \"experimento\", \"astronomía\"]\n",
    "Y = [\"ñe'ẽpoty\", \"arte\", \"Shakespeare\", \"jeroky\", \"literatura\", \"novela\", \"sinfonía\", \"drama\"]\n",
    "weat_x, weat_y, weat, weat_es = weat_score(X, Y, A, B, model)\n",
    "weat_x, weat_y, weat, weat_es"
   ]
  },
  {
   "cell_type": "markdown",
   "id": "a33f2969",
   "metadata": {},
   "source": [
    "## Haitian,  ht"
   ]
  },
  {
   "cell_type": "code",
   "execution_count": 306,
   "id": "85b51827",
   "metadata": {},
   "outputs": [
    {
     "name": "stdout",
     "output_type": "stream",
     "text": [
      "CPU times: user 7 µs, sys: 18 µs, total: 25 µs\n",
      "Wall time: 53.2 µs\n",
      "Loading model from  /Users/Napp/Desktop/Vectors/wiki.ht.bin\n"
     ]
    },
    {
     "name": "stderr",
     "output_type": "stream",
     "text": [
      "Warning : `load_model` does not return WordVectorModel or SupervisedModel any more, but a `FastText` object which is very similar.\n"
     ]
    }
   ],
   "source": [
    "%time\n",
    "lang = \"ht\"\n",
    "model_name = f\"wiki.{lang}.bin\" # the model file (should be the same, ending by '.bin')\n",
    "model = load_model(model_name)"
   ]
  },
  {
   "cell_type": "code",
   "execution_count": 307,
   "id": "4ea813ea",
   "metadata": {},
   "outputs": [
    {
     "data": {
      "text/plain": [
       "(0.022433974, 0.02598114, -0.0035471655, -0.10168243)"
      ]
     },
     "execution_count": 307,
     "metadata": {},
     "output_type": "execute_result"
    }
   ],
   "source": [
    "#ChatGPT\n",
    "\n",
    "A = [\"gason\", \"nonm\", \"ti gason\", \"frè\", \"li\", \"li\", \"li\", \"pitit gason\"] \n",
    "B = [\"fi\", \"moun\", \"ti fi\", \"sè\", \"li\", \"li\", \"li\", \"pitit fi\"] \n",
    "X = [\"ekzekitif\", \"jere\", \"pwofesyonèl\", \"kòporasyon\", \"salè\", \"biwo\", \"biznis\", \"karyè\"] \n",
    "Y = [\"kay\", \" paran\", \"timoun yo\", \"fanmi\", \"kouzen\", \"marij\", \"marij\", \"parenn yo\"]\n",
    "\n",
    "weat_x, weat_y, weat, weat_es = weat_score(X, Y, A, B, model)\n",
    "weat_x, weat_y, weat, weat_es"
   ]
  },
  {
   "cell_type": "code",
   "execution_count": 308,
   "id": "f0b90594",
   "metadata": {},
   "outputs": [
    {
     "data": {
      "text/plain": [
       "(0.011751883, 0.007696651, 0.004055232, 0.0794691)"
      ]
     },
     "execution_count": 308,
     "metadata": {},
     "output_type": "execute_result"
    }
   ],
   "source": [
    "#ChatGPT\n",
    "\n",
    "A = [\"gason\", \"nonm\", \"ti gason\", \"frè\", \"li\", \"li\", \"li\", \"pitit gason\"] \n",
    "B = [\"fi\", \"moun\", \"ti fi\", \"sè\", \"li\", \"li\", \"li\", \"pitit fi\"] \n",
    "X = [\"matematik\", \"aljèb\", \"jwometri\", \"kalkil\", \"ekwasyon\", \"kòmputasyon\", \"chif yo\", \"adisyon\"] \n",
    "Y = [\"powèzi\", \"atistik\", \"danse\", \"literati\", \"novèl\", \"simfoni\", \"drama\", \"skilti\"]\n",
    "\n",
    "weat_x, weat_y, weat, weat_es = weat_score(X, Y, A, B, model)\n",
    "weat_x, weat_y, weat, weat_es"
   ]
  },
  {
   "cell_type": "code",
   "execution_count": 309,
   "id": "d34f14b0",
   "metadata": {},
   "outputs": [
    {
     "data": {
      "text/plain": [
       "(-0.060746007, -0.05855433, -0.0021916777, -0.04180451)"
      ]
     },
     "execution_count": 309,
     "metadata": {},
     "output_type": "execute_result"
    }
   ],
   "source": [
    "#ChatGPT\n",
    "\n",
    "A = [\"gason\", \"nonm\", \"ti gason\", \"frè\", \"li\", \"li\", \"li\", \"pitit gason\"] \n",
    "B = [\"fi\", \"moun\", \"ti fi\", \"sè\", \"li\", \"li\", \"li\", \"pitit fi\"] \n",
    "X = [\"syans\", \"teknoloji\", \"fizik\", \"chimyè\", \"Einstein\", \"NASA\", \"eksperyans\", \"astronomi\"]\n",
    "Y = [\"powèzi\", \"atistik\", \"Shakespeare\", \"danse\", \"literati\", \"ròman\", \"simfoni\", \"dram\"]\n",
    "\n",
    "weat_x, weat_y, weat, weat_es = weat_score(X, Y, A, B, model)\n",
    "weat_x, weat_y, weat, weat_es"
   ]
  },
  {
   "cell_type": "markdown",
   "id": "bec1629c",
   "metadata": {},
   "source": [
    "## Hebrew, he"
   ]
  },
  {
   "cell_type": "code",
   "execution_count": 25,
   "id": "5e397dd7",
   "metadata": {
    "scrolled": true
   },
   "outputs": [
    {
     "name": "stdout",
     "output_type": "stream",
     "text": [
      "CPU times: user 2 µs, sys: 0 ns, total: 2 µs\n",
      "Wall time: 5.01 µs\n",
      "Loading model from  /Users/Napp/Desktop/Vectors/wiki.he.bin\n"
     ]
    },
    {
     "name": "stderr",
     "output_type": "stream",
     "text": [
      "Warning : `load_model` does not return WordVectorModel or SupervisedModel any more, but a `FastText` object which is very similar.\n"
     ]
    }
   ],
   "source": [
    "%time\n",
    "lang = \"he\"\n",
    "model_name = f\"wiki.{lang}.bin\" # the model file (should be the same, ending by '.bin')\n",
    "model = load_model(model_name)"
   ]
  },
  {
   "cell_type": "code",
   "execution_count": 26,
   "id": "1aa62af2",
   "metadata": {},
   "outputs": [
    {
     "data": {
      "text/plain": [
       "(-0.049911145, -0.10371335, 0.053802203, 0.6281148)"
      ]
     },
     "execution_count": 26,
     "metadata": {},
     "output_type": "execute_result"
    }
   ],
   "source": [
    "#Google\n",
    "A = [\"זכר\", \"גבר\", \"ילד\", \"אח\", \"הוא\", \"הוא\", \"שלו\", \"בן\"]\n",
    "B = [\"נקבה\", \"אישה\", \"ילדה\", \"אחות\", \"היא\", \"שלה\", \"שלה\", \"בת\"]\n",
    "X = [\"מנהל\", \"ניהול\", \"מקצועי\", \"תאגיד\", \"שכר\", \"משרד\", \"עסק\", \"קריירה\"]\n",
    "Y = [\"בית\", \"הורים\", \"ילדים\", \"משפחה\", \"בני דודים\", \"נישואים\", \"חתונה\", \"קרובי משפחה\"]\n",
    "\n",
    "\n",
    "weat_x, weat_y, weat, weat_es = weat_score(X, Y, A, B, model)\n",
    "weat_x, weat_y, weat, weat_es"
   ]
  },
  {
   "cell_type": "code",
   "execution_count": 27,
   "id": "a85f7878",
   "metadata": {},
   "outputs": [
    {
     "data": {
      "text/plain": [
       "(-0.009977199, -0.020817896, 0.010840697, 0.3116339)"
      ]
     },
     "execution_count": 27,
     "metadata": {},
     "output_type": "execute_result"
    }
   ],
   "source": [
    "#Google\n",
    "A = [\"זכר\", \"גבר\", \"ילד\", \"אח\", \"הוא\", \"הוא\", \"שלו\", \"בן\"]\n",
    "B = [\"נקבה\", \"אישה\", \"ילדה\", \"אחות\", \"היא\", \"שלה\", \"שלה\", \"בת\"]\n",
    "X = [\"מתמטיקה\", \"אלגברה\", \"גיאומטריה\", \"חשבון\", \"משוואות\", \"חישוב\", \"מספרים\", \"תוספת\"]\n",
    "Y = [\"שירה\", \"אמנות\", \"ריקוד\", \"ספרות\", \"רומן\", \"סימפוניה\", \"דרמה\", \"פיסול\"]\n",
    "\n",
    "\n",
    "weat_x, weat_y, weat, weat_es = weat_score(X, Y, A, B, model)\n",
    "weat_x, weat_y, weat, weat_es"
   ]
  },
  {
   "cell_type": "code",
   "execution_count": 28,
   "id": "4241058a",
   "metadata": {},
   "outputs": [
    {
     "data": {
      "text/plain": [
       "(-0.018978497, -0.037483387, 0.01850489, 0.6818638)"
      ]
     },
     "execution_count": 28,
     "metadata": {},
     "output_type": "execute_result"
    }
   ],
   "source": [
    "#Google\n",
    "A = [\"זכר\", \"גבר\", \"ילד\", \"אח\", \"הוא\", \"הוא\", \"שלו\", \"בן\"]\n",
    "B = [\"נקבה\", \"אישה\", \"ילדה\", \"אחות\", \"היא\", \"שלה\", \"שלה\", \"בת\"]\n",
    "X = [\"מדע\", \"טכנולוגיה\", \"פיסיקה\", \"כימיה\", \"איינשטיין\", \"ניסוי\", \"אסטרונומיה\"]\n",
    "Y = [\"שירה\", \"אמנות\", \"שייקספיר\", \"ריקוד\", \"ספרות\", \"רומן\", \"סימפוניה\", \"דרמה\"]\n",
    "\n",
    "weat_x, weat_y, weat, weat_es = weat_score(X, Y, A, B, model)\n",
    "weat_x, weat_y, weat, weat_es"
   ]
  },
  {
   "cell_type": "markdown",
   "id": "64ea4d11",
   "metadata": {},
   "source": [
    "## Hindi, hi"
   ]
  },
  {
   "cell_type": "code",
   "execution_count": 29,
   "id": "bbeba36d",
   "metadata": {},
   "outputs": [
    {
     "name": "stdout",
     "output_type": "stream",
     "text": [
      "CPU times: user 1 µs, sys: 1 µs, total: 2 µs\n",
      "Wall time: 3.81 µs\n",
      "Loading model from  /Users/Napp/Desktop/Vectors/wiki.hi.bin\n"
     ]
    },
    {
     "name": "stderr",
     "output_type": "stream",
     "text": [
      "Warning : `load_model` does not return WordVectorModel or SupervisedModel any more, but a `FastText` object which is very similar.\n"
     ]
    }
   ],
   "source": [
    "%time\n",
    "lang = \"hi\"\n",
    "model_name = f\"wiki.{lang}.bin\" # the model file (should be the same, ending by '.bin')\n",
    "model = load_model(model_name)"
   ]
  },
  {
   "cell_type": "code",
   "execution_count": 30,
   "id": "3983741f",
   "metadata": {},
   "outputs": [
    {
     "data": {
      "text/plain": [
       "(-0.14063944, -0.16687909, 0.026239648, 0.3116754)"
      ]
     },
     "execution_count": 30,
     "metadata": {},
     "output_type": "execute_result"
    }
   ],
   "source": [
    "#Google\n",
    "A = [\"पुरुष\", \"आदमी\", \"लड़का\", \"भाई\", \"वह\", \"उसे\", \"उसका\", \"बेटा\"]\n",
    "B = [\"महिला\", \"महिला\", \"लड़की\", \"बहन\", \"वह\", \"उसकी\", \"उसकी\", \"बेटी\"]\n",
    "X = [\"कार्यकारी\", \"प्रबंधन\", \"पेशेवर\", \"निगम\", \"वेतन\", \"कार्यालय\", \"व्यवसाय\", \"कैरियर\"]\n",
    "Y = [\"घर\", \"माता-पिता\", \"बच्चे\", \"परिवार\", \"चचेरे भाई\", \"शादी\", \"शादी\", \"रिश्तेदार\"]\n",
    "\n",
    "weat_x, weat_y, weat, weat_es = weat_score(X, Y, A, B, model)\n",
    "weat_x, weat_y, weat, weat_es"
   ]
  },
  {
   "cell_type": "code",
   "execution_count": 31,
   "id": "450841d7",
   "metadata": {},
   "outputs": [
    {
     "data": {
      "text/plain": [
       "(-0.05915428, -0.059455972, 0.00030169263, 0.01377666)"
      ]
     },
     "execution_count": 31,
     "metadata": {},
     "output_type": "execute_result"
    }
   ],
   "source": [
    "#Google\n",
    "A = [\"पुरुष\", \"आदमी\", \"लड़का\", \"भाई\", \"वह\", \"उसे\", \"उसका\", \"बेटा\"]\n",
    "B = [\"महिला\", \"महिला\", \"लड़की\", \"बहन\", \"वह\", \"उसकी\", \"उसकी\", \"बेटी\"]\n",
    "X = [\"गणित\", \"बीजगणित\", \"ज्यामिति\", \"कलन\", \"समीकरण\", \"गणना\", \"संख्या\", \"जोड़\"]\n",
    "Y = [\"कविता\", \"कला\", \"नृत्य\", \"साहित्य\", \"उपन्यास\", \"सिम्फनी\", \"नाटक\", \"मूर्तिकला\"]\n",
    "\n",
    "\n",
    "weat_x, weat_y, weat, weat_es = weat_score(X, Y, A, B, model)\n",
    "weat_x, weat_y, weat, weat_es"
   ]
  },
  {
   "cell_type": "code",
   "execution_count": 32,
   "id": "5c559448",
   "metadata": {},
   "outputs": [
    {
     "data": {
      "text/plain": [
       "(-0.06625866, -0.06603484, -0.00022382289, -0.008840428)"
      ]
     },
     "execution_count": 32,
     "metadata": {},
     "output_type": "execute_result"
    }
   ],
   "source": [
    "#Google\n",
    "A = [\"पुरुष\", \"आदमी\", \"लड़का\", \"भाई\", \"वह\", \"उसे\", \"उसका\", \"बेटा\"]\n",
    "B = [\"महिला\", \"महिला\", \"लड़की\", \"बहन\", \"वह\", \"उसकी\", \"उसकी\", \"बेटी\"]\n",
    "X = [\"विज्ञान\", \"प्रौद्योगिकी\", \"भौतिकी\", \"रसायन विज्ञान\", \"आइंस्टीन\", \"नासा\", \"प्रयोग\", \"खगोल विज्ञान\"]\n",
    "Y = [\"कविता\", \"कला\", \"शेक्सपियर\", \"नृत्य\", \"साहित्य\", \"उपन्यास\", \"सिम्फनी\", \"नाटक\"]\n",
    "\n",
    "weat_x, weat_y, weat, weat_es = weat_score(X, Y, A, B, model)\n",
    "weat_x, weat_y, weat, weat_es"
   ]
  },
  {
   "cell_type": "markdown",
   "id": "8f265d07",
   "metadata": {},
   "source": [
    "## Hungarian, hu"
   ]
  },
  {
   "cell_type": "code",
   "execution_count": 86,
   "id": "3eb014a3",
   "metadata": {},
   "outputs": [
    {
     "name": "stdout",
     "output_type": "stream",
     "text": [
      "CPU times: user 2 µs, sys: 0 ns, total: 2 µs\n",
      "Wall time: 5.01 µs\n",
      "Loading model from  /Users/Napp/Desktop/Vectors/wiki.hu.bin\n"
     ]
    },
    {
     "name": "stderr",
     "output_type": "stream",
     "text": [
      "Warning : `load_model` does not return WordVectorModel or SupervisedModel any more, but a `FastText` object which is very similar.\n"
     ]
    }
   ],
   "source": [
    "%time\n",
    "lang = \"hu\"\n",
    "model_name = f\"wiki.{lang}.bin\" # the model file (should be the same, ending by '.bin')\n",
    "model = load_model(model_name)"
   ]
  },
  {
   "cell_type": "code",
   "execution_count": 87,
   "id": "ecc1957f",
   "metadata": {},
   "outputs": [
    {
     "data": {
      "text/plain": [
       "(-0.112411134, -0.12298321, 0.010572076, 0.1413749)"
      ]
     },
     "execution_count": 87,
     "metadata": {},
     "output_type": "execute_result"
    }
   ],
   "source": [
    "#Google\n",
    "\n",
    "A = [\"férfi\", \"férfi\", \"fiú\", \"testvér\", \"ő\", \"ő\", \"övé\", \"fia\"]\n",
    "B = [\"nő\", \"nő\", \"lány\", \"testvér\", \"ő\", \"ő\", \"övé\", \"lánya\"]\n",
    "X = [\"ügyvezető\", \"menedzsment\", \"szakmai\", \"vállalat\", \"fizetés\", \"iroda\", \"üzlet\", \"karrier\"]\n",
    "Y = [\"otthon\", \"szülők\", \"gyermekek\", \"család\", \"unokatestvérek\", \"házasság\", \"esküvő\", \"rokonok\"]\n",
    "\n",
    "weat_x, weat_y, weat, weat_es = weat_score(X, Y, A, B, model)\n",
    "weat_x, weat_y, weat, weat_es"
   ]
  },
  {
   "cell_type": "code",
   "execution_count": 88,
   "id": "69294054",
   "metadata": {},
   "outputs": [
    {
     "data": {
      "text/plain": [
       "(-0.033332236, -0.033951994, 0.0006197579, 0.0209057)"
      ]
     },
     "execution_count": 88,
     "metadata": {},
     "output_type": "execute_result"
    }
   ],
   "source": [
    "#Google\n",
    "\n",
    "A = [\"férfi\", \"férfi\", \"fiú\", \"testvér\", \"ő\", \"ő\", \"övé\", \"fia\"]\n",
    "B = [\"nő\", \"nő\", \"lány\", \"testvér\", \"ő\", \"ő\", \"övé\", \"lánya\"]\n",
    "X = [\"matematika\", \"algebra\", \"geometria\", \"számítás\", \"egyenletek\", \"számítás\", \"számok\", \"összeadás\"]\n",
    "Y = [\"költészet\", \"művészet\", \"tánc\", \"irodalom\", \"regény\", \"szimfónia\", \"dráma\", \"szobor\"]\n",
    "\n",
    "\n",
    "weat_x, weat_y, weat, weat_es = weat_score(X, Y, A, B, model)\n",
    "weat_x, weat_y, weat, weat_es"
   ]
  },
  {
   "cell_type": "code",
   "execution_count": 89,
   "id": "6c1b9f6a",
   "metadata": {},
   "outputs": [
    {
     "data": {
      "text/plain": [
       "(-0.048051033, -0.045167148, -0.002883885, -0.102025464)"
      ]
     },
     "execution_count": 89,
     "metadata": {},
     "output_type": "execute_result"
    }
   ],
   "source": [
    "#Google\n",
    "\n",
    "A = [\"férfi\", \"férfi\", \"fiú\", \"testvér\", \"ő\", \"ő\", \"övé\", \"fia\"]\n",
    "B = [\"nő\", \"nő\", \"lány\", \"testvér\", \"ő\", \"ő\", \"övé\", \"lánya\"]\n",
    "X = [\"tudomány\", \"technológia\", \"fizika\", \"kémia\", \"Einstein\", \"NASA\", \"kísérlet\", \"csillagászat\"]\n",
    "Y = [\"költészet\", \"művészet\", \"Shakespeare\", \"tánc\", \"irodalom\", \"regény\", \"szimfónia\", \"dráma\"]\n",
    "\n",
    "weat_x, weat_y, weat, weat_es = weat_score(X, Y, A, B, model)\n",
    "weat_x, weat_y, weat, weat_es"
   ]
  },
  {
   "cell_type": "markdown",
   "id": "d20836fc",
   "metadata": {},
   "source": [
    "## Icelandic, is"
   ]
  },
  {
   "cell_type": "code",
   "execution_count": 198,
   "id": "2fe90124",
   "metadata": {},
   "outputs": [
    {
     "name": "stdout",
     "output_type": "stream",
     "text": [
      "CPU times: user 3 µs, sys: 7 µs, total: 10 µs\n",
      "Wall time: 27.9 µs\n",
      "Loading model from  /Users/Napp/Desktop/Vectors/wiki.is.bin\n"
     ]
    },
    {
     "name": "stderr",
     "output_type": "stream",
     "text": [
      "Warning : `load_model` does not return WordVectorModel or SupervisedModel any more, but a `FastText` object which is very similar.\n"
     ]
    }
   ],
   "source": [
    "%time\n",
    "lang = \"is\"\n",
    "model_name = f\"wiki.{lang}.bin\" # the model file (should be the same, ending by '.bin')\n",
    "model = load_model(model_name)"
   ]
  },
  {
   "cell_type": "code",
   "execution_count": 199,
   "id": "09595bae",
   "metadata": {},
   "outputs": [
    {
     "data": {
      "text/plain": [
       "(-0.06311904, -0.08726704, 0.024148002, 0.48607552)"
      ]
     },
     "execution_count": 199,
     "metadata": {},
     "output_type": "execute_result"
    }
   ],
   "source": [
    "#Google\n",
    "\n",
    "A = [\"karlkyns\", \"karl\", \"strákur\", \"bróðir\", \"hann\", \"hann\", \"hans\", \"sonur\"]\n",
    "B = [\"kona\", \"kona\", \"stúlka\", \"systir\", \"hún\", \"hún\", \"hennar\", \"dóttir\"]\n",
    "X = [\"stjórnandi\", \"stjórnun\", \"fagmaður\", \"fyrirtæki\", \"laun\", \"skrifstofa\", \"viðskipti\", \"ferill\"]\n",
    "Y = [\"heimili\", \"foreldrar\", \"börn\", \"fjölskylda\", \"frændur\", \"hjónaband\", \"brúðkaup\", \"ættingjar\"]\n",
    "\n",
    "weat_x, weat_y, weat, weat_es = weat_score(X, Y, A, B, model)\n",
    "weat_x, weat_y, weat, weat_es"
   ]
  },
  {
   "cell_type": "code",
   "execution_count": 200,
   "id": "659c48d7",
   "metadata": {},
   "outputs": [
    {
     "data": {
      "text/plain": [
       "(-0.011599501, -0.04257102, 0.03097152, 1.0146354)"
      ]
     },
     "execution_count": 200,
     "metadata": {},
     "output_type": "execute_result"
    }
   ],
   "source": [
    "#Google\n",
    "\n",
    "A = [\"karlkyns\", \"karl\", \"strákur\", \"bróðir\", \"hann\", \"hann\", \"hans\", \"sonur\"]\n",
    "B = [\"kona\", \"kona\", \"stúlka\", \"systir\", \"hún\", \"hún\", \"hennar\", \"dóttir\"]\n",
    "X = [\"stærðfræði\", \"algebra\", \"rúmfræði\", \"reikningur\", \"jöfnur\", \"útreikningur\", \"tölur\", \"samlagning\"]\n",
    "Y = [\"ljóð\", \"list\", \"dans\", \"bókmenntir\", \"skáldsaga\", \"sinfónía\", \"leiklist\", \"skúlptúr\"]\n",
    "\n",
    "\n",
    "weat_x, weat_y, weat, weat_es = weat_score(X, Y, A, B, model)\n",
    "weat_x, weat_y, weat, weat_es"
   ]
  },
  {
   "cell_type": "code",
   "execution_count": 201,
   "id": "1c8c3ba8",
   "metadata": {},
   "outputs": [
    {
     "data": {
      "text/plain": [
       "(-0.04217962, -0.05380054, 0.011620916, 0.4570561)"
      ]
     },
     "execution_count": 201,
     "metadata": {},
     "output_type": "execute_result"
    }
   ],
   "source": [
    "#Google\n",
    "\n",
    "A = [\"karlkyns\", \"karl\", \"strákur\", \"bróðir\", \"hann\", \"hann\", \"hans\", \"sonur\"]\n",
    "B = [\"kona\", \"kona\", \"stúlka\", \"systir\", \"hún\", \"hún\", \"hennar\", \"dóttir\"]\n",
    "X = [\"vísindi\", \"tækni\", \"eðlisfræði\", \"efnafræði\", \"Einstein\", \"NASA\", \"tilraun\", \"stjörnufræði\"]\n",
    "Y = [\"ljóð\", \"list\", \"Shakespeare\", \"dans\", \"bókmenntir\", \"skáldsaga\", \"sinfónía\", \"drama\"]\n",
    "\n",
    "\n",
    "weat_x, weat_y, weat, weat_es = weat_score(X, Y, A, B, model)\n",
    "weat_x, weat_y, weat, weat_es"
   ]
  },
  {
   "cell_type": "markdown",
   "id": "cf1a4a70",
   "metadata": {},
   "source": [
    "## Igbo, ig"
   ]
  },
  {
   "cell_type": "code",
   "execution_count": 298,
   "id": "4910a5f6",
   "metadata": {},
   "outputs": [
    {
     "name": "stdout",
     "output_type": "stream",
     "text": [
      "CPU times: user 3 µs, sys: 0 ns, total: 3 µs\n",
      "Wall time: 5.96 µs\n",
      "Loading model from  /Users/Napp/Desktop/Vectors/wiki.ig.bin\n"
     ]
    },
    {
     "name": "stderr",
     "output_type": "stream",
     "text": [
      "Warning : `load_model` does not return WordVectorModel or SupervisedModel any more, but a `FastText` object which is very similar.\n"
     ]
    }
   ],
   "source": [
    "%time\n",
    "lang = \"ig\"\n",
    "model_name = f\"wiki.{lang}.bin\" # the model file (should be the same, ending by '.bin')\n",
    "model = load_model(model_name)"
   ]
  },
  {
   "cell_type": "code",
   "execution_count": 299,
   "id": "063f245c",
   "metadata": {},
   "outputs": [
    {
     "data": {
      "text/plain": [
       "(-0.022089332, -0.0226252, 0.0005358681, 0.1956122)"
      ]
     },
     "execution_count": 299,
     "metadata": {},
     "output_type": "execute_result"
    }
   ],
   "source": [
    "#Google\n",
    "A = [\"nwoke\", \"nwoke\", \"nwoke\", \"nwanne\", \"ya\", \"ya\", \"ya\", \"nwa nwoke\"]\n",
    "B = [\"nwanyị\", \"nwanyị\", \"nwa agbọghọ\", \"nwanne nwanyị\", \"ya\", \"ya\", \"nke ya\", \"nwa nwanyị\"]\n",
    "X = [\"onye ọrụ\", \"njikwa\", \"ọkachamara\", \"ụlọ ọrụ\", \"ụgwọ ọnwa\", \"ụlọ ọrụ\", \"azụmahịa\", \"ọrụ\"]\n",
    "Y = [\"ụlọ\", \"nne na nna\", \"ụmụaka\", \"ezinụlọ\", \"ụmụnne\", \"alụmdi na nwunye\", \"agbamakwụkwọ\", \"ndị ikwu\"]\n",
    "\n",
    "\n",
    "weat_x, weat_y, weat, weat_es = weat_score(X, Y, A, B, model)\n",
    "weat_x, weat_y, weat, weat_es"
   ]
  },
  {
   "cell_type": "code",
   "execution_count": 300,
   "id": "6f745431",
   "metadata": {},
   "outputs": [
    {
     "data": {
      "text/plain": [
       "(-0.15010053, -0.15873587, 0.008635342, 0.8450911)"
      ]
     },
     "execution_count": 300,
     "metadata": {},
     "output_type": "execute_result"
    }
   ],
   "source": [
    "#Google\n",
    "A = [\"nwoke\", \"nwoke\", \"nwoke\", \"nwanne\", \"ya\", \"ya\", \"ya\", \"nwa nwoke\"]\n",
    "B = [\"nwanyị\", \"nwanyị\", \"nwa agbọghọ\", \"nwanne nwanyị\", \"ya\", \"ya\", \"nke ya\", \"nwa nwanyị\"]\n",
    "X = [\"mkpọmkwem\", \"algebra\", \"geometry\", \"calculus\", \"equations\", \"mgbakọ\", \"nọmba\", \"mgbakwunye\"]\n",
    "Y = [\"abụ\", \"nkà\", \"egwu\", \"akwụkwọ\", \"akwụkwọ akụkọ\", \"ihe ngosi\", \"ihe nkiri\", \"ọkpụrụkpụ\"]\n",
    "\n",
    "\n",
    "weat_x, weat_y, weat, weat_es = weat_score(X, Y, A, B, model)\n",
    "weat_x, weat_y, weat, weat_es"
   ]
  },
  {
   "cell_type": "code",
   "execution_count": 301,
   "id": "ca024886",
   "metadata": {},
   "outputs": [
    {
     "data": {
      "text/plain": [
       "(-0.12623692, -0.137979, 0.011742085, 0.8347563)"
      ]
     },
     "execution_count": 301,
     "metadata": {},
     "output_type": "execute_result"
    }
   ],
   "source": [
    "#Google\n",
    "A = [\"nwoke\", \"nwoke\", \"nwoke\", \"nwanne\", \"ya\", \"ya\", \"ya\", \"nwa nwoke\"]\n",
    "B = [\"nwanyị\", \"nwanyị\", \"nwa agbọghọ\", \"nwanne nwanyị\", \"ya\", \"ya\", \"nke ya\", \"nwa nwanyị\"]\n",
    "X = [\"sayensị\", \"teknụzụ\", \"physics\", \"kemistrị\", \"Einstein\", \"NASA\", \"nnwale\", \"i mbara igwe\"]\n",
    "Y = [\"abụ\", \"nkà\", \"Shakespeare\", \"egwu\", \"akwụkwọ\", \"akwụkwọ akụkọ\", \"ihe ngosi\", \"ihe nkiri\"]\n",
    "\n",
    "\n",
    "weat_x, weat_y, weat, weat_es = weat_score(X, Y, A, B, model)\n",
    "weat_x, weat_y, weat, weat_es"
   ]
  },
  {
   "cell_type": "markdown",
   "id": "cd3a5527",
   "metadata": {},
   "source": [
    "## Indonesian, id"
   ]
  },
  {
   "cell_type": "code",
   "execution_count": 78,
   "id": "1c0bc0d7",
   "metadata": {},
   "outputs": [
    {
     "name": "stdout",
     "output_type": "stream",
     "text": [
      "CPU times: user 2 µs, sys: 1e+03 ns, total: 3 µs\n",
      "Wall time: 6.91 µs\n",
      "Loading model from  /Users/Napp/Desktop/Vectors/wiki.id.bin\n"
     ]
    },
    {
     "name": "stderr",
     "output_type": "stream",
     "text": [
      "Warning : `load_model` does not return WordVectorModel or SupervisedModel any more, but a `FastText` object which is very similar.\n"
     ]
    }
   ],
   "source": [
    "%time\n",
    "lang = \"id\"\n",
    "model_name = f\"wiki.{lang}.bin\" # the model file (should be the same, ending by '.bin')\n",
    "model = load_model(model_name)"
   ]
  },
  {
   "cell_type": "code",
   "execution_count": 79,
   "id": "154c88ee",
   "metadata": {},
   "outputs": [
    {
     "data": {
      "text/plain": [
       "(-0.11075349, -0.13628122, 0.02552773, 0.28016472)"
      ]
     },
     "execution_count": 79,
     "metadata": {},
     "output_type": "execute_result"
    }
   ],
   "source": [
    "#Google\n",
    "\n",
    "A = [\"pria\", \"pria\", \"anak laki-laki\", \"kakak\", \"dia\", \"dia\", \"miliknya\", \"putra\"]\n",
    "B = [\"perempuan\", \"perempuan\", \"perempuan\", \"saudara perempuan\", \"dia\", \"dia\", \"miliknya\", \"putri\"]\n",
    "X = [\"eksekutif\", \"manajemen\", \"profesional\", \"korporasi\", \"gaji\", \"kantor\", \"bisnis\", \"karir\"]\n",
    "Y = [\"rumah\", \"orang tua\", \"anak\", \"keluarga\", \"sepupu\", \"perkawinan\", \"perkawinan\", \"kerabat\"]\n",
    "\n",
    "weat_x, weat_y, weat, weat_es = weat_score(X, Y, A, B, model)\n",
    "weat_x, weat_y, weat, weat_es"
   ]
  },
  {
   "cell_type": "code",
   "execution_count": 80,
   "id": "f10d23d8",
   "metadata": {},
   "outputs": [
    {
     "data": {
      "text/plain": [
       "(-0.037500687, -0.06681242, 0.029311731, 0.90765053)"
      ]
     },
     "execution_count": 80,
     "metadata": {},
     "output_type": "execute_result"
    }
   ],
   "source": [
    "#Google\n",
    "\n",
    "A = [\"pria\", \"pria\", \"anak laki-laki\", \"kakak\", \"dia\", \"dia\", \"miliknya\", \"putra\"]\n",
    "B = [\"perempuan\", \"perempuan\", \"perempuan\", \"saudara perempuan\", \"dia\", \"dia\", \"miliknya\", \"putri\"]\n",
    "X = [\"matematika\", \"aljabar\", \"geometri\", \"kalkulus\", \"persamaan\", \"perhitungan\", \"bilangan\", \"penjumlahan\"]\n",
    "Y = [\"puisi\", \"seni\", \"tari\", \"sastra\", \"novel\", \"simfoni\", \"drama\", \"patung\"]\n",
    "\n",
    "\n",
    "weat_x, weat_y, weat, weat_es = weat_score(X, Y, A, B, model)\n",
    "weat_x, weat_y, weat, weat_es"
   ]
  },
  {
   "cell_type": "code",
   "execution_count": 81,
   "id": "3d2449b9",
   "metadata": {},
   "outputs": [
    {
     "data": {
      "text/plain": [
       "(-0.0787073, -0.09739964, 0.018692337, 0.5839074)"
      ]
     },
     "execution_count": 81,
     "metadata": {},
     "output_type": "execute_result"
    }
   ],
   "source": [
    "#Google\n",
    "\n",
    "A = [\"pria\", \"pria\", \"anak laki-laki\", \"kakak\", \"dia\", \"dia\", \"miliknya\", \"putra\"]\n",
    "B = [\"perempuan\", \"perempuan\", \"perempuan\", \"saudara perempuan\", \"dia\", \"dia\", \"miliknya\", \"putri\"]\n",
    "X = [\"sains\", \"teknologi\", \"fisika\", \"kimia\", \"Einstein\", \"NASA\", \"eksperimen\", \"astronomi\"]\n",
    "Y = [\"puisi\", \"seni\", \"Shakespeare\", \"tarian\", \"sastra\", \"novel\", \"simfoni\", \"drama\"]\n",
    "\n",
    "weat_x, weat_y, weat, weat_es = weat_score(X, Y, A, B, model)\n",
    "weat_x, weat_y, weat, weat_es"
   ]
  },
  {
   "cell_type": "markdown",
   "id": "6c5c47ff",
   "metadata": {},
   "source": [
    "## Irish, ga"
   ]
  },
  {
   "cell_type": "code",
   "execution_count": 246,
   "id": "96d50c54",
   "metadata": {},
   "outputs": [
    {
     "name": "stdout",
     "output_type": "stream",
     "text": [
      "CPU times: user 3 µs, sys: 3 µs, total: 6 µs\n",
      "Wall time: 8.82 µs\n",
      "Loading model from  /Users/Napp/Desktop/Vectors/wiki.ga.bin\n"
     ]
    },
    {
     "name": "stderr",
     "output_type": "stream",
     "text": [
      "Warning : `load_model` does not return WordVectorModel or SupervisedModel any more, but a `FastText` object which is very similar.\n"
     ]
    }
   ],
   "source": [
    "%time\n",
    "lang = \"ga\"\n",
    "model_name = f\"wiki.{lang}.bin\" # the model file (should be the same, ending by '.bin')\n",
    "model = load_model(model_name)"
   ]
  },
  {
   "cell_type": "code",
   "execution_count": 247,
   "id": "ddcb6b7c",
   "metadata": {},
   "outputs": [
    {
     "data": {
      "text/plain": [
       "(-0.018800838, -0.09059623, 0.07179539, 0.92433536)"
      ]
     },
     "execution_count": 247,
     "metadata": {},
     "output_type": "execute_result"
    }
   ],
   "source": [
    "#Google\n",
    "A = [\"fir\", \"fir\", \"buachaill\", \"bráthair\", \"sé\", \"é\", \"a\", \"mac\"] \n",
    "B = [\"bean\", \"bean\", \"cailín\", \"deirfiúr\", \"sí\", \"í\", \"a\", \"iníon\"] \n",
    "X = [\"iarsheolaithe\", \"bainistíocht\", \"dleathach\", \"corparáid\", \"salár\", \"oifig\", \"gnó\", \"cúrsaí\"] \n",
    "Y = [\"teach\", \"tuismitheoirí\", \"clann\", \"clann\", \"cionn\", \"pósadh\", \"pósadh\", \"gaolta\"]\n",
    "\n",
    "\n",
    "\n",
    "weat_x, weat_y, weat, weat_es = weat_score(X, Y, A, B, model)\n",
    "weat_x, weat_y, weat, weat_es"
   ]
  },
  {
   "cell_type": "code",
   "execution_count": 248,
   "id": "82d37c9a",
   "metadata": {},
   "outputs": [
    {
     "data": {
      "text/plain": [
       "(0.011647954, -0.013907317, 0.025555272, 0.53462434)"
      ]
     },
     "execution_count": 248,
     "metadata": {},
     "output_type": "execute_result"
    }
   ],
   "source": [
    "#Google\n",
    "A = [\"fireann\", \"fear\", \"buachaill\", \"deartháir\", \"sé\", \"é\", \"a mhac\", \"mac\"]\n",
    "B = [\"baineann\", \"bean\", \"cailín\", \"deirfiúr\", \"sí\", \"a\", \"lena\", \"iníon\"]\n",
    "X = [\"mata\", \"ailgéabar\", \"céimseata\", \"calcalas\", \"cothromóidí\", \"ríomh\", \"uimhreacha\", \"breisiú\"]\n",
    "Y = [\"filíocht\", \"ealaín\", \"damhsa\", \"litríocht\", \"úrscéal\", \"siansa\", \"dráma\", \"dealbhóireacht\"]\n",
    "\n",
    "\n",
    "\n",
    "weat_x, weat_y, weat, weat_es = weat_score(X, Y, A, B, model)\n",
    "weat_x, weat_y, weat, weat_es"
   ]
  },
  {
   "cell_type": "code",
   "execution_count": 249,
   "id": "6769626f",
   "metadata": {},
   "outputs": [
    {
     "data": {
      "text/plain": [
       "(-0.03170868, -0.061576635, 0.029867955, 0.53197664)"
      ]
     },
     "execution_count": 249,
     "metadata": {},
     "output_type": "execute_result"
    }
   ],
   "source": [
    "#Google\n",
    "A = [\"fireann\", \"fear\", \"buachaill\", \"deartháir\", \"sé\", \"é\", \"a mhac\", \"mac\"]\n",
    "B = [\"baineann\", \"bean\", \"cailín\", \"deirfiúr\", \"sí\", \"a\", \"lena\", \"iníon\"]\n",
    "X = [\"eolaíocht\", \"teicneolaíocht\", \"fisic\", \"ceimic\", \"Einstein\", \"NASA\", \"turgnamh\", \"réalteolaíocht\"]\n",
    "Y = [\"filíocht\", \"ealaín\", \"Shakespeare\", \"damhsa\", \"litríocht\", \"úrscéal\", \"siansa\", \"dráma\"]\n",
    "\n",
    "\n",
    "\n",
    "weat_x, weat_y, weat, weat_es = weat_score(X, Y, A, B, model)\n",
    "weat_x, weat_y, weat, weat_es"
   ]
  },
  {
   "cell_type": "markdown",
   "id": "87020ebc",
   "metadata": {},
   "source": [
    "## Italian, it"
   ]
  },
  {
   "cell_type": "code",
   "execution_count": 102,
   "id": "1a3e33d5",
   "metadata": {},
   "outputs": [
    {
     "name": "stdout",
     "output_type": "stream",
     "text": [
      "CPU times: user 4 µs, sys: 26 µs, total: 30 µs\n",
      "Wall time: 65.1 µs\n",
      "Loading model from  /Users/Napp/Desktop/Vectors/wiki.it.bin\n"
     ]
    },
    {
     "name": "stderr",
     "output_type": "stream",
     "text": [
      "Warning : `load_model` does not return WordVectorModel or SupervisedModel any more, but a `FastText` object which is very similar.\n"
     ]
    }
   ],
   "source": [
    "%time\n",
    "lang = \"it\"\n",
    "model_name = f\"wiki.{lang}.bin\" # the model file (should be the same, ending by '.bin')\n",
    "model = load_model(model_name)"
   ]
  },
  {
   "cell_type": "code",
   "execution_count": 103,
   "id": "71648d04",
   "metadata": {},
   "outputs": [
    {
     "data": {
      "text/plain": [
       "(-0.19577761, -0.2361716, 0.040393993, 0.4760205)"
      ]
     },
     "execution_count": 103,
     "metadata": {},
     "output_type": "execute_result"
    }
   ],
   "source": [
    "#Google\n",
    "A = [\"maschio\", \"uomo\", \"ragazzo\", \"fratello\", \"lui\", \"lui\", \"suo\", \"figlio\"]\n",
    "B = [\"femmina\", \"donna\", \"ragazza\", \"sorella\", \"lei\", \"lei\", \"lei\", \"figlia\"]\n",
    "X = [\"executive\", \"management\", \"professional\", \"corporation\", \"stipendio\", \"office\", \"business\", \"career\"]\n",
    "Y = [\"casa\", \"genitori\", \"figli\", \"famiglia\", \"cugini\", \"matrimonio\", \"matrimonio\", \"parenti\"]\n",
    "\n",
    "\n",
    "weat_x, weat_y, weat, weat_es = weat_score(X, Y, A, B, model)\n",
    "weat_x, weat_y, weat, weat_es"
   ]
  },
  {
   "cell_type": "code",
   "execution_count": 104,
   "id": "15ee34ad",
   "metadata": {},
   "outputs": [
    {
     "data": {
      "text/plain": [
       "(-0.056691524, -0.09756177, 0.040870246, 1.2468771)"
      ]
     },
     "execution_count": 104,
     "metadata": {},
     "output_type": "execute_result"
    }
   ],
   "source": [
    "#Google\n",
    "A = [\"maschio\", \"uomo\", \"ragazzo\", \"fratello\", \"lui\", \"lui\", \"suo\", \"figlio\"]\n",
    "B = [\"femmina\", \"donna\", \"ragazza\", \"sorella\", \"lei\", \"lei\", \"lei\", \"figlia\"]\n",
    "X = [\"matematica\", \"algebra\", \"geometria\", \"calcolo\", \"equazioni\", \"calcolo\", \"numeri\", \"addizione\"]\n",
    "Y = [\"poesia\", \"arte\", \"danza\", \"letteratura\", \"romanzo\", \"sinfonia\", \"dramma\", \"scultura\"]\n",
    "\n",
    "\n",
    "\n",
    "weat_x, weat_y, weat, weat_es = weat_score(X, Y, A, B, model)\n",
    "weat_x, weat_y, weat, weat_es"
   ]
  },
  {
   "cell_type": "code",
   "execution_count": 105,
   "id": "4f1523b4",
   "metadata": {},
   "outputs": [
    {
     "data": {
      "text/plain": [
       "(-0.023911774, -0.053378962, 0.029467188, 1.1473094)"
      ]
     },
     "execution_count": 105,
     "metadata": {},
     "output_type": "execute_result"
    }
   ],
   "source": [
    "#Google\n",
    "A = [\"maschio\", \"uomo\", \"ragazzo\", \"fratello\", \"lui\", \"lui\", \"suo\", \"figlio\"]\n",
    "B = [\"femmina\", \"donna\", \"ragazza\", \"sorella\", \"lei\", \"lei\", \"lei\", \"figlia\"]\n",
    "X = [\"scienza\", \"tecnologia\", \"fisica\", \"chimica\", \"Einstein\", \"NASA\", \"esperimento\", \"astronomia\"]\n",
    "Y = [\"poesia\", \"arte\", \"Shakespeare\", \"danza\", \"letteratura\", \"romanzo\", \"sinfonia\", \"dramma\"]\n",
    "\n",
    "\n",
    "weat_x, weat_y, weat, weat_es = weat_score(X, Y, A, B, model)\n",
    "weat_x, weat_y, weat, weat_es"
   ]
  },
  {
   "cell_type": "markdown",
   "id": "bd0cf151",
   "metadata": {},
   "source": [
    "## Japanese, ja"
   ]
  },
  {
   "cell_type": "code",
   "execution_count": 33,
   "id": "bb040b29",
   "metadata": {},
   "outputs": [
    {
     "name": "stdout",
     "output_type": "stream",
     "text": [
      "CPU times: user 3 µs, sys: 0 ns, total: 3 µs\n",
      "Wall time: 6.2 µs\n",
      "Loading model from  /Users/Napp/Desktop/Vectors/wiki.ja.bin\n"
     ]
    },
    {
     "name": "stderr",
     "output_type": "stream",
     "text": [
      "Warning : `load_model` does not return WordVectorModel or SupervisedModel any more, but a `FastText` object which is very similar.\n"
     ]
    }
   ],
   "source": [
    "%time\n",
    "lang = \"ja\"\n",
    "model_name = f\"wiki.{lang}.bin\" # the model file (should be the same, ending by '.bin')\n",
    "model = load_model(model_name)"
   ]
  },
  {
   "cell_type": "code",
   "execution_count": 34,
   "id": "1e4e3770",
   "metadata": {},
   "outputs": [
    {
     "data": {
      "text/plain": [
       "(-0.2961256, -0.29611605, -9.536743e-06, -0.011387999)"
      ]
     },
     "execution_count": 34,
     "metadata": {},
     "output_type": "execute_result"
    }
   ],
   "source": [
    "#Google\n",
    "\n",
    "A = [\"男\" , \"男\" , \"少年\" , \"兄弟\" , \"彼\" , \"彼\" , \"彼\" , \"息子\"]\n",
    "B = [\"女性\" , \"女性\" , \"女の子\" , \"姉妹\" , \"彼女\" , \"彼女\" , \"彼女\" , \"娘\"]\n",
    "X = [\"役員\" , \"管理職\"  , \"専門職\" , \"法人\" , \"給与\" , \"役職\" , \"事業\" , \"キャリア\"]\n",
    "Y = [\"家庭\" , \"両親\" , \"子供\" , \"家族\" , \"いとこ\" , \"結婚\" , \"結婚式\" , \"親戚\"]\n",
    "\n",
    "\n",
    "weat_x, weat_y, weat, weat_es = weat_score(X, Y, A, B, model)\n",
    "weat_x, weat_y, weat, weat_es"
   ]
  },
  {
   "cell_type": "code",
   "execution_count": 35,
   "id": "8cb44f0c",
   "metadata": {},
   "outputs": [
    {
     "data": {
      "text/plain": [
       "(-0.15073343, -0.15089785, 0.00016441941, 0.39942575)"
      ]
     },
     "execution_count": 35,
     "metadata": {},
     "output_type": "execute_result"
    }
   ],
   "source": [
    "#Google\n",
    "\n",
    "\n",
    "A = [\"男\" , \"男\" , \"少年\" , \"兄弟\" , \"彼\" , \"彼\" , \"彼\" , \"息子\"]\n",
    "B = [\"女性\" , \"女性\" , \"女の子\" , \"姉妹\" , \"彼女\" , \"彼女\" , \"彼女\" , \"娘\"]\n",
    "X = [\"数学\", \"代数\", \"幾何学\", \"微積分\", \"方程式\", \"計算\", \"数字\", \"足し算\"]\n",
    "Y = [\"詩\", \"美術\", \"舞踊\", \"文学\", \"小説\", \"交響曲\", \"演劇\", \"彫刻\"]\n",
    "\n",
    "\n",
    "\n",
    "weat_x, weat_y, weat, weat_es = weat_score(X, Y, A, B, model)\n",
    "weat_x, weat_y, weat, weat_es"
   ]
  },
  {
   "cell_type": "code",
   "execution_count": 36,
   "id": "13af0f9f",
   "metadata": {},
   "outputs": [
    {
     "data": {
      "text/plain": [
       "(-0.28686157, -0.28669834, -0.00016322732, -0.4419471)"
      ]
     },
     "execution_count": 36,
     "metadata": {},
     "output_type": "execute_result"
    }
   ],
   "source": [
    "#Google\n",
    "\n",
    "A = [\"男\" , \"男\" , \"少年\" , \"兄弟\" , \"彼\" , \"彼\" , \"彼\" , \"息子\"]\n",
    "B = [\"女性\" , \"女性\" , \"女の子\" , \"姉妹\" , \"彼女\" , \"彼女\" , \"彼女\" , \"娘\"]\n",
    "X = [\"科学\" , \"技術\" , \"物理学\" , \"化学\" , \"アインシュタイン\" , \"NASA\" , \"実験\" , \"天文学\"]\n",
    "Y = [\"詩\" , \"芸術\" , \"シェイクスピア\" , \"舞踊\" , \"文学\" , \"小説\" , \"交響曲\" , \"演劇\"]\n",
    "\n",
    "weat_x, weat_y, weat, weat_es = weat_score(X, Y, A, B, model)\n",
    "weat_x, weat_y, weat, weat_es"
   ]
  },
  {
   "cell_type": "markdown",
   "id": "dc8def2d",
   "metadata": {},
   "source": [
    "## Javanese, jv"
   ]
  },
  {
   "cell_type": "code",
   "execution_count": 274,
   "id": "7ef3cb4e",
   "metadata": {},
   "outputs": [
    {
     "name": "stdout",
     "output_type": "stream",
     "text": [
      "CPU times: user 3 µs, sys: 7 µs, total: 10 µs\n",
      "Wall time: 45.1 µs\n",
      "Loading model from  /Users/Napp/Desktop/Vectors/wiki.jv.bin\n"
     ]
    },
    {
     "name": "stderr",
     "output_type": "stream",
     "text": [
      "Warning : `load_model` does not return WordVectorModel or SupervisedModel any more, but a `FastText` object which is very similar.\n"
     ]
    }
   ],
   "source": [
    "%time\n",
    "lang = \"jv\"\n",
    "model_name = f\"wiki.{lang}.bin\" # the model file (should be the same, ending by '.bin')\n",
    "model = load_model(model_name)"
   ]
  },
  {
   "cell_type": "code",
   "execution_count": 275,
   "id": "af0969a1",
   "metadata": {},
   "outputs": [
    {
     "data": {
      "text/plain": [
       "(-0.08423321, -0.08407486, -0.00015834719, -0.0025230313)"
      ]
     },
     "execution_count": 275,
     "metadata": {},
     "output_type": "execute_result"
    }
   ],
   "source": [
    "#Google\n",
    "A = [\"lanang\", \"lanang\", \"lanang\", \"kakak\", \"dheweke\", \"dheweke\", \"dheweke\", \"putrane\"]\n",
    "B = [\"wadon\", \"wadon\", \"wadon\", \"adhine\", \"dheweke\", \"dheweke\", \"dheweke\", \"putri\"]\n",
    "X = [\"eksekutif\", \"manajemen\", \"profesional\", \"perusahaan\", \"gaji\", \"kantor\", \"bisnis\", \"karir\"]\n",
    "Y = [\"omah\", \"wong tuwa\", \"anak\", \"kulawarga\", \"sepupu\", \"nikah\", \"mantenan\", \"sederek\"]\n",
    "\n",
    "\n",
    "\n",
    "\n",
    "\n",
    "weat_x, weat_y, weat, weat_es = weat_score(X, Y, A, B, model)\n",
    "weat_x, weat_y, weat, weat_es"
   ]
  },
  {
   "cell_type": "code",
   "execution_count": 276,
   "id": "84171681",
   "metadata": {},
   "outputs": [
    {
     "data": {
      "text/plain": [
       "(-0.055011943, -0.063624084, 0.008612141, 0.71732897)"
      ]
     },
     "execution_count": 276,
     "metadata": {},
     "output_type": "execute_result"
    }
   ],
   "source": [
    "#Google\n",
    "A = [\"lanang\", \"lanang\", \"lanang\", \"kakak\", \"dheweke\", \"dheweke\", \"dheweke\", \"putrane\"]\n",
    "B = [\"wadon\", \"wadon\", \"wadon\", \"adhine\", \"dheweke\", \"dheweke\", \"dheweke\", \"putri\"]\n",
    "X = [\"math\", \"aljabar\", \"geometri\", \"kalkulus\", \"persamaan\", \"komputasi\", \"nomer\", \"tambahan\"]\n",
    "Y = [\"puisi\", \"seni\", \"tari\", \"sastra\", \"novel\", \"simfoni\", \"drama\", \"patung\"]\n",
    "\n",
    "\n",
    "\n",
    "\n",
    "weat_x, weat_y, weat, weat_es = weat_score(X, Y, A, B, model)\n",
    "weat_x, weat_y, weat, weat_es"
   ]
  },
  {
   "cell_type": "code",
   "execution_count": 277,
   "id": "c2ee4570",
   "metadata": {},
   "outputs": [
    {
     "data": {
      "text/plain": [
       "(-0.03720284, -0.037499078, 0.0002962388, 0.022756498)"
      ]
     },
     "execution_count": 277,
     "metadata": {},
     "output_type": "execute_result"
    }
   ],
   "source": [
    "#Google\n",
    "A = [\"lanang\", \"lanang\", \"lanang\", \"kakak\", \"dheweke\", \"dheweke\", \"dheweke\", \"putrane\"]\n",
    "B = [\"wadon\", \"wadon\", \"wadon\", \"adhine\", \"dheweke\", \"dheweke\", \"dheweke\", \"putri\"]\n",
    "X = [\"ilmu\", \"teknologi\", \"fisika\", \"kimia\", \"Einstein\", \"NASA\", \"eksperimen\", \"astronomi\"]\n",
    "Y = [\"puisi\", \"seni\", \"Shakespeare\", \"tari\", \"sastra\", \"novel\", \"simfoni\", \"drama\"]\n",
    "\n",
    "\n",
    "\n",
    "\n",
    "weat_x, weat_y, weat, weat_es = weat_score(X, Y, A, B, model)\n",
    "weat_x, weat_y, weat, weat_es"
   ]
  },
  {
   "cell_type": "markdown",
   "id": "98af04ff",
   "metadata": {},
   "source": [
    "## Kazakh, kk"
   ]
  },
  {
   "cell_type": "code",
   "execution_count": 146,
   "id": "4895cf5f",
   "metadata": {},
   "outputs": [
    {
     "name": "stdout",
     "output_type": "stream",
     "text": [
      "CPU times: user 2 µs, sys: 1e+03 ns, total: 3 µs\n",
      "Wall time: 4.29 µs\n",
      "Loading model from  /Users/Napp/Desktop/Vectors/wiki.kk.bin\n"
     ]
    },
    {
     "name": "stderr",
     "output_type": "stream",
     "text": [
      "Warning : `load_model` does not return WordVectorModel or SupervisedModel any more, but a `FastText` object which is very similar.\n"
     ]
    }
   ],
   "source": [
    "%time\n",
    "lang = \"kk\"\n",
    "model_name = f\"wiki.{lang}.bin\" # the model file (should be the same, ending by '.bin')\n",
    "model = load_model(model_name)"
   ]
  },
  {
   "cell_type": "code",
   "execution_count": 147,
   "id": "0b8d1b84",
   "metadata": {},
   "outputs": [
    {
     "data": {
      "text/plain": [
       "(-0.06906772, -0.10512656, 0.036058843, 0.515226)"
      ]
     },
     "execution_count": 147,
     "metadata": {},
     "output_type": "execute_result"
    }
   ],
   "source": [
    "#Google\n",
    "\n",
    "A = [\"ер\", \"ер\", \"бала\", \"аға\", \"ол\", \"ол\", \"оның\", \"ұлы\"]\n",
    "B = [\"әйел\", \"әйел\", \"қыз\", \"әпке\", \"ол\", \"оның\", \"оның\", \"қызы\"]\n",
    "X = [\"атқарушы\", \"менеджмент\", \"кәсіби\", \"корпорация\", \"жалақы\", \"офис\", \"бизнес\", \"мансап\"]\n",
    "Y = [\"үй\", \"ата-ана\", \"балалар\", \"отбасы\", \"немере ағалары\", \"неке\", \"үйлену тойы\", \"туыстар\"]\n",
    "\n",
    "weat_x, weat_y, weat, weat_es = weat_score(X, Y, A, B, model)\n",
    "weat_x, weat_y, weat, weat_es"
   ]
  },
  {
   "cell_type": "code",
   "execution_count": 148,
   "id": "35f59673",
   "metadata": {},
   "outputs": [
    {
     "data": {
      "text/plain": [
       "(-0.029155338, -0.034001842, 0.004846504, 0.14489777)"
      ]
     },
     "execution_count": 148,
     "metadata": {},
     "output_type": "execute_result"
    }
   ],
   "source": [
    "#Google\n",
    "\n",
    "A = [\"ер\", \"ер\", \"бала\", \"аға\", \"ол\", \"ол\", \"оның\", \"ұлы\"]\n",
    "B = [\"әйел\", \"әйел\", \"қыз\", \"әпке\", \"ол\", \"оның\", \"оның\", \"қызы\"]\n",
    "X = [\"математика\", \"алгебра\", \"геометрия\", \"есеп\", \"теңдеулер\", \"есептеу\", \"сандар\", \"қосу\"]\n",
    "Y = [\"поэзия\", \"өнер\", \"би\", \"әдебиет\", \"роман\", \"симфония\", \"драма\", \"мүсін\"]\n",
    "\n",
    "weat_x, weat_y, weat, weat_es = weat_score(X, Y, A, B, model)\n",
    "weat_x, weat_y, weat, weat_es"
   ]
  },
  {
   "cell_type": "code",
   "execution_count": 149,
   "id": "010296d3",
   "metadata": {},
   "outputs": [
    {
     "data": {
      "text/plain": [
       "(-0.058412384, -0.060566828, 0.0021544434, 0.060471218)"
      ]
     },
     "execution_count": 149,
     "metadata": {},
     "output_type": "execute_result"
    }
   ],
   "source": [
    "#Google\n",
    "\n",
    "A = [\"ер\", \"ер\", \"бала\", \"аға\", \"ол\", \"ол\", \"оның\", \"ұлы\"]\n",
    "B = [\"әйел\", \"әйел\", \"қыз\", \"әпке\", \"ол\", \"оның\", \"оның\", \"қызы\"]\n",
    "X = [\"ғылым\", \"технология\", \"физика\", \"химия\", \"Эйнштейн\", \"НАСА\", \"эксперимент\", \"астрономия\"]\n",
    "Y = [\"поэзия\", \"өнер\", \"Шекспир\", \"би\", \"әдебиет\", \"роман\", \"симфония\", \"драма\"]\n",
    "\n",
    "weat_x, weat_y, weat, weat_es = weat_score(X, Y, A, B, model)\n",
    "weat_x, weat_y, weat, weat_es"
   ]
  },
  {
   "cell_type": "markdown",
   "id": "935394cf",
   "metadata": {},
   "source": [
    "## Khmer, km"
   ]
  },
  {
   "cell_type": "code",
   "execution_count": 206,
   "id": "e2fba411",
   "metadata": {},
   "outputs": [
    {
     "name": "stdout",
     "output_type": "stream",
     "text": [
      "CPU times: user 2 µs, sys: 0 ns, total: 2 µs\n",
      "Wall time: 4.77 µs\n",
      "Loading model from  /Users/Napp/Desktop/Vectors/wiki.km.bin\n"
     ]
    },
    {
     "name": "stderr",
     "output_type": "stream",
     "text": [
      "Warning : `load_model` does not return WordVectorModel or SupervisedModel any more, but a `FastText` object which is very similar.\n"
     ]
    }
   ],
   "source": [
    "%time\n",
    "lang = \"km\"\n",
    "model_name = f\"wiki.{lang}.bin\" # the model file (should be the same, ending by '.bin')\n",
    "model = load_model(model_name)"
   ]
  },
  {
   "cell_type": "code",
   "execution_count": 207,
   "id": "45e7bf64",
   "metadata": {},
   "outputs": [
    {
     "data": {
      "text/plain": [
       "(-0.122982636, -0.19836086, 0.075378224, 1.3636293)"
      ]
     },
     "execution_count": 207,
     "metadata": {},
     "output_type": "execute_result"
    }
   ],
   "source": [
    "#Google\n",
    "A = [\"បុរស\", \"បុរស\", \"ក្មេងប្រុស\", \"បងប្រុស\", \"គាត់\", \"គាត់\", \"របស់គាត់\", \"កូនប្រុស\"]\n",
    "B = [\"ស្រី\", \"ស្រី\", \"ស្រី\", \"បងស្រី\", \"នាង\", \"នាង\", \"នាង\", \"កូនស្រី\"]\n",
    "X = [\"ប្រតិបត្តិ\", \"ការគ្រប់គ្រង\", \"វិជ្ជាជីវៈ\", \"សាជីវកម្ម\", \"ប្រាក់ខែ\", \"ការិយាល័យ\", \"អាជីវកម្ម\", \"អាជីព\"]\n",
    "Y = [\"ផ្ទះ\", \"ឪពុកម្តាយ\", \"កូន\", \"គ្រួសារ\", \"បងប្អូនជីដូនមួយ\", \"អាពាហ៍ពិពាហ៍\", \"អាពាហ៍ពិពាហ៍\", \"សាច់ញាតិ\"]\n",
    "\n",
    "\n",
    "weat_x, weat_y, weat, weat_es = weat_score(X, Y, A, B, model)\n",
    "weat_x, weat_y, weat, weat_es"
   ]
  },
  {
   "cell_type": "code",
   "execution_count": 208,
   "id": "278c86cc",
   "metadata": {},
   "outputs": [
    {
     "data": {
      "text/plain": [
       "(-0.0131599605, -0.08097814, 0.06781818, 1.5784489)"
      ]
     },
     "execution_count": 208,
     "metadata": {},
     "output_type": "execute_result"
    }
   ],
   "source": [
    "#Google\n",
    "A = [\"បុរស\", \"បុរស\", \"ក្មេងប្រុស\", \"បងប្រុស\", \"គាត់\", \"គាត់\", \"របស់គាត់\", \"កូនប្រុស\"]\n",
    "B = [\"ស្រី\", \"ស្រី\", \"ស្រី\", \"បងស្រី\", \"នាង\", \"នាង\", \"នាង\", \"កូនស្រី\"]\n",
    "X = [\"គណិតវិទ្យា\", \"ពិជគណិត\", \"ធរណីមាត្រ\", \"ការគណនា\", \"សមីការ\", \"ការគណនា\", \"លេខ\", \"ការបន្ថែម\"]\n",
    "Y = [\"កំណាព្យ\", \"សិល្បៈ\", \"របាំ\", \"អក្សរសាស្ត្រ\", \"ប្រលោមលោក\", \"បទ\", \"ល្ខោន\", \"ចម្លាក់\"]\n",
    "\n",
    "weat_x, weat_y, weat, weat_es = weat_score(X, Y, A, B, model)\n",
    "weat_x, weat_y, weat, weat_es"
   ]
  },
  {
   "cell_type": "code",
   "execution_count": 209,
   "id": "9c3d46d8",
   "metadata": {},
   "outputs": [
    {
     "data": {
      "text/plain": [
       "(-0.055019133, -0.1577529, 0.10273377, 1.6280304)"
      ]
     },
     "execution_count": 209,
     "metadata": {},
     "output_type": "execute_result"
    }
   ],
   "source": [
    "#Google\n",
    "A = [\"បុរស\", \"បុរស\", \"ក្មេងប្រុស\", \"បងប្រុស\", \"គាត់\", \"គាត់\", \"របស់គាត់\", \"កូនប្រុស\"]\n",
    "B = [\"ស្រី\", \"ស្រី\", \"ស្រី\", \"បងស្រី\", \"នាង\", \"នាង\", \"នាង\", \"កូនស្រី\"]\n",
    "X = [\"វិទ្យាសាស្រ្ត\", \"បច្ចេកវិទ្យា\", \"រូបវិទ្យា\", \"គីមី\", \"Einstein\", \"NASA\", \"ពិសោធន៍\", \"តារាសាស្ត្រ\"]\n",
    "Y = [\"កំណាព្យ\", \"សិល្បៈ\", \"ស្ពា\", \"របាំ\", \"អក្សរសាស្ត្រ\", \"ប្រលោមលោក\", \"បទភ្លេង\", \"ល្ខោន\"]\n",
    "\n",
    "weat_x, weat_y, weat, weat_es = weat_score(X, Y, A, B, model)\n",
    "weat_x, weat_y, weat, weat_es"
   ]
  },
  {
   "cell_type": "markdown",
   "id": "55ea9a93",
   "metadata": {},
   "source": [
    "## Kinyarwanda, rw\n"
   ]
  },
  {
   "cell_type": "code",
   "execution_count": 314,
   "id": "2c87ee2c",
   "metadata": {},
   "outputs": [
    {
     "name": "stdout",
     "output_type": "stream",
     "text": [
      "CPU times: user 4 µs, sys: 7 µs, total: 11 µs\n",
      "Wall time: 28.8 µs\n",
      "Loading model from  /Users/Napp/Desktop/Vectors/wiki.rw.bin\n"
     ]
    },
    {
     "name": "stderr",
     "output_type": "stream",
     "text": [
      "Warning : `load_model` does not return WordVectorModel or SupervisedModel any more, but a `FastText` object which is very similar.\n"
     ]
    }
   ],
   "source": [
    "%time\n",
    "lang = \"rw\"\n",
    "model_name = f\"wiki.{lang}.bin\" # the model file (should be the same, ending by '.bin')\n",
    "model = load_model(model_name)"
   ]
  },
  {
   "cell_type": "code",
   "execution_count": 315,
   "id": "72c00c5f",
   "metadata": {},
   "outputs": [
    {
     "data": {
      "text/plain": [
       "(-0.013913497, -0.028361872, 0.0144483745, 0.6300135)"
      ]
     },
     "execution_count": 315,
     "metadata": {},
     "output_type": "execute_result"
    }
   ],
   "source": [
    "#Google\n",
    "A = [\"umugabo\", \"umugabo\", \"umuhungu\", \"umuvandimwe\", \"he\", \"him\", \"we\", \"umuhungu\"]\n",
    "B = [\"umugore\", \"umugore\", \"umukobwa\", \"mushikiwabo\", \"we\", \"we\", \"ibye\", \"umukobwa\"]\n",
    "X = [\"umuyobozi\", \"ubuyobozi\", \"umunyamwuga\", \"isosiyete\", \"umushahara\", \"biro\", \"ubucuruzi\", \"umwuga\"]\n",
    "Y = [\"urugo\", \"ababyeyi\", \"abana\", \"umuryango\", \"mubyara\", \"ubukwe\", \"ubukwe\", \"abavandimwe\"]\n",
    "\n",
    "\n",
    "\n",
    "weat_x, weat_y, weat, weat_es = weat_score(X, Y, A, B, model)\n",
    "weat_x, weat_y, weat, weat_es"
   ]
  },
  {
   "cell_type": "code",
   "execution_count": 316,
   "id": "f59503be",
   "metadata": {},
   "outputs": [
    {
     "data": {
      "text/plain": [
       "(-0.008047909, -0.01833386, 0.010285951, 0.16242418)"
      ]
     },
     "execution_count": 316,
     "metadata": {},
     "output_type": "execute_result"
    }
   ],
   "source": [
    "#Google\n",
    "A = [\"umugabo\", \"umugabo\", \"umuhungu\", \"umuvandimwe\", \"he\", \"him\", \"we\", \"umuhungu\"]\n",
    "B = [\"umugore\", \"umugore\", \"umukobwa\", \"mushikiwabo\", \"we\", \"we\", \"ibye\", \"umukobwa\"]\n",
    "X = [\"imibare\", \"algebra\", \"geometrie\", \"calculus\", \"ibigereranyo\", \"kubara\", \"imibare\", \"kongeraho\"]\n",
    "Y = [\"ibisigo\", \"ubuhanzi\", \"imbyino\", \"ubuvanganzo\", \"igitabo\", \"simfoni\", \"ikinamico\", \"amashusho\"]\n",
    "\n",
    "\n",
    "weat_x, weat_y, weat, weat_es = weat_score(X, Y, A, B, model)\n",
    "weat_x, weat_y, weat, weat_es"
   ]
  },
  {
   "cell_type": "code",
   "execution_count": 317,
   "id": "66ec6ac8",
   "metadata": {},
   "outputs": [
    {
     "data": {
      "text/plain": [
       "(-0.10596057, -0.13629624, 0.030335672, 0.34412727)"
      ]
     },
     "execution_count": 317,
     "metadata": {},
     "output_type": "execute_result"
    }
   ],
   "source": [
    "#Google\n",
    "A = [\"umugabo\", \"umugabo\", \"umuhungu\", \"umuvandimwe\", \"he\", \"him\", \"we\", \"umuhungu\"]\n",
    "B = [\"umugore\", \"umugore\", \"umukobwa\", \"mushikiwabo\", \"we\", \"we\", \"ibye\", \"umukobwa\"]\n",
    "X = [\"siyanse\", \"ikoranabuhanga\", \"physics\", \"chimie\", \"Einstein\", \"NASA\", \"igerageza\", \"inyenyeri\"]\n",
    "Y = [\"ibisigo\", \"ubuhanzi\", \"Shakespeare\", \"imbyino\", \"ubuvanganzo\", \"igitabo\", \"simfoni\", \"ikinamico\"]\n",
    "\n",
    "weat_x, weat_y, weat, weat_es = weat_score(X, Y, A, B, model)\n",
    "weat_x, weat_y, weat, weat_es"
   ]
  },
  {
   "cell_type": "markdown",
   "id": "39ce8f91",
   "metadata": {},
   "source": [
    "## Korean, ko"
   ]
  },
  {
   "cell_type": "code",
   "execution_count": 106,
   "id": "dcb93ea4",
   "metadata": {},
   "outputs": [
    {
     "name": "stdout",
     "output_type": "stream",
     "text": [
      "CPU times: user 2 µs, sys: 1e+03 ns, total: 3 µs\n",
      "Wall time: 5.96 µs\n",
      "Loading model from  /Users/Napp/Desktop/Vectors/wiki.ko.bin\n"
     ]
    },
    {
     "name": "stderr",
     "output_type": "stream",
     "text": [
      "Warning : `load_model` does not return WordVectorModel or SupervisedModel any more, but a `FastText` object which is very similar.\n"
     ]
    }
   ],
   "source": [
    "%time\n",
    "lang = \"ko\"\n",
    "model_name = f\"wiki.{lang}.bin\" # the model file (should be the same, ending by '.bin')\n",
    "model = load_model(model_name)"
   ]
  },
  {
   "cell_type": "code",
   "execution_count": 107,
   "id": "a9186189",
   "metadata": {},
   "outputs": [
    {
     "data": {
      "text/plain": [
       "(-0.15521188, -0.19784221, 0.04263033, 0.38237467)"
      ]
     },
     "execution_count": 107,
     "metadata": {},
     "output_type": "execute_result"
    }
   ],
   "source": [
    "#Google\n",
    "A = [\"남성\", \"남자\", \"소년\", \"형제\", \"그\", \"그\", \"그의\", \"아들\"]\n",
    "B = [\"여성\", \"여자\", \"소녀\", \"자매\", \"그녀\", \"그녀의\", \"그녀의\", \"딸\"]\n",
    "X = [\"임원\", \"관리\", \"전문직\", \"법인\", \"급여\", \"사무실\", \"사업\", \"경력\"]\n",
    "Y = [\"집\", \"부모\", \"자녀\", \"가족\", \"사촌\", \"결혼\", \"결혼\", \"친척\"]\n",
    "\n",
    "\n",
    "weat_x, weat_y, weat, weat_es = weat_score(X, Y, A, B, model)\n",
    "weat_x, weat_y, weat, weat_es"
   ]
  },
  {
   "cell_type": "code",
   "execution_count": 108,
   "id": "bffa067b",
   "metadata": {},
   "outputs": [
    {
     "data": {
      "text/plain": [
       "(-0.03723968, -0.09232898, 0.055089302, 1.2381288)"
      ]
     },
     "execution_count": 108,
     "metadata": {},
     "output_type": "execute_result"
    }
   ],
   "source": [
    "#Google\n",
    "A = [\"남성\", \"남자\", \"소년\", \"형제\", \"그\", \"그\", \"그의\", \"아들\"]\n",
    "B = [\"여성\", \"여자\", \"소녀\", \"자매\", \"그녀\", \"그녀의\", \"그녀의\", \"딸\"]\n",
    "X = [\"수학\", \"대수학\", \"기하학\", \"미적분학\", \"방정식\", \"계산\", \"숫자\", \"덧셈\"]\n",
    "Y = [\"시\", \"예술\", \"춤\", \"문학\", \"소설\", \"교향곡\", \"드라마\", \"조각\"]\n",
    "\n",
    "\n",
    "weat_x, weat_y, weat, weat_es = weat_score(X, Y, A, B, model)\n",
    "weat_x, weat_y, weat, weat_es"
   ]
  },
  {
   "cell_type": "code",
   "execution_count": 109,
   "id": "2c288b48",
   "metadata": {},
   "outputs": [
    {
     "data": {
      "text/plain": [
       "(-0.07144417, -0.100011595, 0.028567426, 0.9006166)"
      ]
     },
     "execution_count": 109,
     "metadata": {},
     "output_type": "execute_result"
    }
   ],
   "source": [
    "#Google\n",
    "A = [\"남성\", \"남자\", \"소년\", \"형제\", \"그\", \"그\", \"그의\", \"아들\"]\n",
    "B = [\"여성\", \"여자\", \"소녀\", \"자매\", \"그녀\", \"그녀의\", \"그녀의\", \"딸\"]\n",
    "X = [\"과학\", \"기술\", \"물리학\", \"화학\", \"아인슈타인\", \"NASA\", \"실험\", \"천문학\"]\n",
    "Y = [\"시\", \"예술\", \"셰익스피어\", \"무용\", \"문학\", \"소설\", \"교향곡\", \"드라마\"]\n",
    "\n",
    "\n",
    "weat_x, weat_y, weat, weat_es = weat_score(X, Y, A, B, model)\n",
    "weat_x, weat_y, weat, weat_es"
   ]
  },
  {
   "cell_type": "markdown",
   "id": "2a79464a",
   "metadata": {},
   "source": [
    "## Kyrghyz, ky"
   ]
  },
  {
   "cell_type": "code",
   "execution_count": 190,
   "id": "c65ebccd",
   "metadata": {},
   "outputs": [
    {
     "name": "stdout",
     "output_type": "stream",
     "text": [
      "CPU times: user 3 µs, sys: 0 ns, total: 3 µs\n",
      "Wall time: 5.96 µs\n",
      "Loading model from  /Users/Napp/Desktop/Vectors/wiki.ky.bin\n"
     ]
    },
    {
     "name": "stderr",
     "output_type": "stream",
     "text": [
      "Warning : `load_model` does not return WordVectorModel or SupervisedModel any more, but a `FastText` object which is very similar.\n"
     ]
    }
   ],
   "source": [
    "%time\n",
    "lang = \"ky\"\n",
    "model_name = f\"wiki.{lang}.bin\" # the model file (should be the same, ending by '.bin')\n",
    "model = load_model(model_name)"
   ]
  },
  {
   "cell_type": "code",
   "execution_count": 191,
   "id": "a6986a0d",
   "metadata": {},
   "outputs": [
    {
     "data": {
      "text/plain": [
       "(-0.08335843, -0.052879166, -0.030479264, -0.3806148)"
      ]
     },
     "execution_count": 191,
     "metadata": {},
     "output_type": "execute_result"
    }
   ],
   "source": [
    "#Google\n",
    "\n",
    "A = [\"эркек\", \"эркек\", \"бала\", \"бир тууган\", \"ал\", \"аны\", \"анын\", \"уул\"]\n",
    "B = [\"аял\", \"аял\", \"кыз\", \"эже\", \"ал\", \"анын\", \"анын\", \"кызы\"]\n",
    "X = [\"аткаруучу\", \"менеджмент\", \"кесиптик\", \"корпорация\", \"айлык акы\", \"офис\", \"бизнес\", \"карьера\"]\n",
    "Y = [\"үй\", \"ата-эне\", \"балдар\", \"үй-бүлө\", \"туугандар\", \"нике\", \"үйлөнүү\", \"туугандар\"]\n",
    "\n",
    "weat_x, weat_y, weat, weat_es = weat_score(X, Y, A, B, model)\n",
    "weat_x, weat_y, weat, weat_es"
   ]
  },
  {
   "cell_type": "code",
   "execution_count": 192,
   "id": "63c8cf54",
   "metadata": {},
   "outputs": [
    {
     "data": {
      "text/plain": [
       "(-0.004373081, -0.052046213, 0.047673132, 0.9437993)"
      ]
     },
     "execution_count": 192,
     "metadata": {},
     "output_type": "execute_result"
    }
   ],
   "source": [
    "#Google\n",
    "\n",
    "A = [\"эркек\", \"эркек\", \"бала\", \"бир тууган\", \"ал\", \"аны\", \"анын\", \"уул\"]\n",
    "B = [\"аял\", \"аял\", \"кыз\", \"эже\", \"ал\", \"анын\", \"анын\", \"кызы\"]\n",
    "X = [\"математика\", \"алгебра\", \"геометрия\", \"эсептөө\", \"теңдемелер\", \"эсептөө\", \"сандар\", \"кошуу\"]\n",
    "Y = [\"поэзия\", \"искусство\", \"бий\", \"адабият\", \"роман\", \"симфония\", \"драма\", \"скульптура\"]\n",
    "\n",
    "\n",
    "weat_x, weat_y, weat, weat_es = weat_score(X, Y, A, B, model)\n",
    "weat_x, weat_y, weat, weat_es"
   ]
  },
  {
   "cell_type": "code",
   "execution_count": 193,
   "id": "e2628e7d",
   "metadata": {},
   "outputs": [
    {
     "data": {
      "text/plain": [
       "(-0.0038706977, -0.048002847, 0.04413215, 0.9207821)"
      ]
     },
     "execution_count": 193,
     "metadata": {},
     "output_type": "execute_result"
    }
   ],
   "source": [
    "#Google\n",
    "\n",
    "A = [\"эркек\", \"эркек\", \"бала\", \"бир тууган\", \"ал\", \"аны\", \"анын\", \"уул\"]\n",
    "B = [\"аял\", \"аял\", \"кыз\", \"эже\", \"ал\", \"анын\", \"анын\", \"кызы\"]\n",
    "X = [\"илим\", \"технология\", \"физика\", \"химия\", \"Эйнштейн\", \"НАСА\", \"эксперимент\", \"астрономия\"]\n",
    "Y = [\"поэзия\", \"искусство\", \"Шекспир\", \"бий\", \"адабият\", \"роман\", \"симфония\", \"драма\"]\n",
    "\n",
    "\n",
    "weat_x, weat_y, weat, weat_es = weat_score(X, Y, A, B, model)\n",
    "weat_x, weat_y, weat, weat_es"
   ]
  },
  {
   "cell_type": "markdown",
   "id": "db4327ac",
   "metadata": {},
   "source": [
    "## Laot(ian), lo"
   ]
  },
  {
   "cell_type": "code",
   "execution_count": 222,
   "id": "940c73a5",
   "metadata": {},
   "outputs": [
    {
     "name": "stdout",
     "output_type": "stream",
     "text": [
      "CPU times: user 3 µs, sys: 1e+03 ns, total: 4 µs\n",
      "Wall time: 4.77 µs\n",
      "Loading model from  /Users/Napp/Desktop/Vectors/wiki.lo.bin\n"
     ]
    },
    {
     "name": "stderr",
     "output_type": "stream",
     "text": [
      "Warning : `load_model` does not return WordVectorModel or SupervisedModel any more, but a `FastText` object which is very similar.\n"
     ]
    }
   ],
   "source": [
    "%time\n",
    "lang = \"lo\"\n",
    "model_name = f\"wiki.{lang}.bin\" # the model file (should be the same, ending by '.bin')\n",
    "model = load_model(model_name)"
   ]
  },
  {
   "cell_type": "code",
   "execution_count": 223,
   "id": "1ee5aa92",
   "metadata": {},
   "outputs": [
    {
     "data": {
      "text/plain": [
       "(-0.083403945, -0.13115561, 0.047751665, 1.0638897)"
      ]
     },
     "execution_count": 223,
     "metadata": {},
     "output_type": "execute_result"
    }
   ],
   "source": [
    "#Google\n",
    "\n",
    "A = [\"ຜູ້ຊາຍ\", \"ຜູ້ຊາຍ\", \"ເດັກ\", \"ອ້າຍ\", \"ລາວ\", \"ລາວ\", \"ລາວ\", \"ລູກຊາຍ\"]\n",
    "B = [\"ຍິງ\", \"ຍິງ\", \"ຍິງ\", \"ເອື້ອຍ\", \"ນາງ\", \"ນາງ\", \"ນາງ\", \"ລູກສາວ\"]\n",
    "X = [\"ບໍລິຫານ\", \"ບໍລິຫານ\", \"ມືອາຊີບ\", \"ບໍລິສັດ\", \"ເງິນເດືອນ\", \"ຫ້ອງການ\", \"ທຸລະກິດ\", \"ອາຊີບ\"]\n",
    "Y = [\"ບ້ານ\", \"ພໍ່ແມ່\", \"ລູກ\", \"ຄອບຄົວ\", \"ພີ່ນ້ອງ\", \"ການແຕ່ງງານ\", \"ການແຕ່ງງານ\", \"ພີ່ນ້ອງ\"]\n",
    "\n",
    "weat_x, weat_y, weat, weat_es = weat_score(X, Y, A, B, model)\n",
    "weat_x, weat_y, weat, weat_es"
   ]
  },
  {
   "cell_type": "code",
   "execution_count": 224,
   "id": "ea9334af",
   "metadata": {},
   "outputs": [
    {
     "data": {
      "text/plain": [
       "(-0.069552705, -0.11404422, 0.044491515, 1.6862582)"
      ]
     },
     "execution_count": 224,
     "metadata": {},
     "output_type": "execute_result"
    }
   ],
   "source": [
    "#Google\n",
    "\n",
    "A = [\"ຜູ້ຊາຍ\", \"ຜູ້ຊາຍ\", \"ເດັກ\", \"ອ້າຍ\", \"ລາວ\", \"ລາວ\", \"ລາວ\", \"ລູກຊາຍ\"]\n",
    "B = [\"ຍິງ\", \"ຍິງ\", \"ຍິງ\", \"ເອື້ອຍ\", \"ນາງ\", \"ນາງ\", \"ນາງ\", \"ລູກສາວ\"]\n",
    "X = [\"ຄະນິດສາດ\", \"ພຶດຊະຄະນິດ\", \"ເລຂາຄະນິດ\", \"ການຄິດໄລ່\", \"ສົມຜົນ\", \"ຄໍານວນ\", \"ຕົວເລກ\", \"ເພີ່ມເຕີມ\"]\n",
    "Y = [\"ບົດກະວີ\", \"ສິລະປະ\", \"ການເຕັ້ນ\", \"ວັນນະຄະດີ\", \"ນະວະນິຍາຍ\", \"ຊີມໂຟນີ\", \"ລະຄອນ\", \"ປະຕິມາກໍາ\"]\n",
    "\n",
    "weat_x, weat_y, weat, weat_es = weat_score(X, Y, A, B, model)\n",
    "weat_x, weat_y, weat, weat_es"
   ]
  },
  {
   "cell_type": "code",
   "execution_count": 225,
   "id": "d9decb75",
   "metadata": {},
   "outputs": [
    {
     "data": {
      "text/plain": [
       "(0.028183792, -0.0024071857, 0.030590978, 1.0989146)"
      ]
     },
     "execution_count": 225,
     "metadata": {},
     "output_type": "execute_result"
    }
   ],
   "source": [
    "#Google\n",
    "\n",
    "A = [\"ຜູ້ຊາຍ\", \"ຜູ້ຊາຍ\", \"ເດັກ\", \"ອ້າຍ\", \"ລາວ\", \"ລາວ\", \"ລາວ\", \"ລູກຊາຍ\"]\n",
    "B = [\"ຍິງ\", \"ຍິງ\", \"ຍິງ\", \"ເອື້ອຍ\", \"ນາງ\", \"ນາງ\", \"ນາງ\", \"ລູກສາວ\"]\n",
    "X = [\"ວິທະຍາສາດ\", \"ເຕັກໂນໂລຢີ\", \"ຟີຊິກ\", \"ເຄມີ\", \"ອີນສະໄຕ\", \"ນາຊາ\", \"ການທົດລອງ\", \"ດາລາສາດ\"]\n",
    "Y = [\"ບົດກະວີ\", \"ສິລະປະ\", \"Shakespeare\", \"ການເຕັ້ນ\", \"ວັນນະຄະດີ\", \"ນະວະນິຍາຍ\", \"symphony\", \"ລະຄອນ\"]\n",
    "\n",
    "weat_x, weat_y, weat, weat_es = weat_score(X, Y, A, B, model)\n",
    "weat_x, weat_y, weat, weat_es"
   ]
  },
  {
   "cell_type": "markdown",
   "id": "8639cf77",
   "metadata": {},
   "source": [
    "## Latvian, lv"
   ]
  },
  {
   "cell_type": "code",
   "execution_count": 166,
   "id": "014e5dcb",
   "metadata": {},
   "outputs": [
    {
     "name": "stdout",
     "output_type": "stream",
     "text": [
      "CPU times: user 3 µs, sys: 1e+03 ns, total: 4 µs\n",
      "Wall time: 5.25 µs\n",
      "Loading model from  /Users/Napp/Desktop/Vectors/wiki.lv.bin\n"
     ]
    },
    {
     "name": "stderr",
     "output_type": "stream",
     "text": [
      "Warning : `load_model` does not return WordVectorModel or SupervisedModel any more, but a `FastText` object which is very similar.\n"
     ]
    }
   ],
   "source": [
    "%time\n",
    "lang = \"lv\"\n",
    "model_name = f\"wiki.{lang}.bin\" # the model file (should be the same, ending by '.bin')\n",
    "model = load_model(model_name)"
   ]
  },
  {
   "cell_type": "code",
   "execution_count": 167,
   "id": "e2cc49d7",
   "metadata": {},
   "outputs": [
    {
     "data": {
      "text/plain": [
       "(-0.053367283, -0.10493621, 0.05156893, 0.8308911)"
      ]
     },
     "execution_count": 167,
     "metadata": {},
     "output_type": "execute_result"
    }
   ],
   "source": [
    "#Google\n",
    "A = [\"vīrietis\", \"vīrietis\", \"zēns\", \"brālis\", \"viņš\", \"viņš\", \"viņš\", \"dēls\"]\n",
    "B = [\"sieviete\", \"sieviete\", \"meitene\", \"māsa\", \"viņa\", \"viņa\", \"viņas\", \"meita\"]\n",
    "X = [\"izpilddirektors\", \"vadība\", \"profesionāls\", \"uzņēmums\", \"alga\", \"birojs\", \"bizness\", \"karjera\"]\n",
    "Y = [\"mājas\", \"vecāki\", \"bērni\", \"ģimene\", \"brālēni\", \"laulība\", \"kāzas\", \"radinieki\"]\n",
    "\n",
    "\n",
    "weat_x, weat_y, weat, weat_es = weat_score(X, Y, A, B, model)\n",
    "weat_x, weat_y, weat, weat_es"
   ]
  },
  {
   "cell_type": "code",
   "execution_count": 168,
   "id": "31287b5a",
   "metadata": {},
   "outputs": [
    {
     "data": {
      "text/plain": [
       "(-0.011576107, -0.081194006, 0.0696179, 1.6987579)"
      ]
     },
     "execution_count": 168,
     "metadata": {},
     "output_type": "execute_result"
    }
   ],
   "source": [
    "#Google\n",
    "A = [\"vīrietis\", \"vīrietis\", \"zēns\", \"brālis\", \"viņš\", \"viņš\", \"viņš\", \"dēls\"]\n",
    "B = [\"sieviete\", \"sieviete\", \"meitene\", \"māsa\", \"viņa\", \"viņa\", \"viņas\", \"meita\"]\n",
    "X = [\"matemātika\", \"algebra\", \"ģeometrija\", \"rēķins\", \"vienādojumi\", \"aprēķins\", \"skaitļi\", \"saskaitīšana\"]\n",
    "Y = [\"dzeja\", \"māksla\", \"deja\", \"literatūra\", \"romāns\", \"simfonija\", \"drāma\", \"skulptūra\"]\n",
    "\n",
    "\n",
    "\n",
    "weat_x, weat_y, weat, weat_es = weat_score(X, Y, A, B, model)\n",
    "weat_x, weat_y, weat, weat_es"
   ]
  },
  {
   "cell_type": "code",
   "execution_count": 169,
   "id": "a0144dbb",
   "metadata": {},
   "outputs": [
    {
     "data": {
      "text/plain": [
       "(-0.04879596, -0.0898307, 0.041034736, 1.5241616)"
      ]
     },
     "execution_count": 169,
     "metadata": {},
     "output_type": "execute_result"
    }
   ],
   "source": [
    "#Google\n",
    "A = [\"vīrietis\", \"vīrietis\", \"zēns\", \"brālis\", \"viņš\", \"viņš\", \"viņš\", \"dēls\"]\n",
    "B = [\"sieviete\", \"sieviete\", \"meitene\", \"māsa\", \"viņa\", \"viņa\", \"viņas\", \"meita\"]\n",
    "X = [\"zinātne\", \"tehnoloģija\", \"fizika\", \"ķīmija\", \"Einšteins\", \"NASA\", \"eksperiments\", \"astronomija\"]\n",
    "Y = [\"dzeja\", \"māksla\", \"Šekspīrs\", \"deja\", \"literatūra\", \"romāns\", \"simfonija\", \"drāma\"]\n",
    "\n",
    "\n",
    "weat_x, weat_y, weat, weat_es = weat_score(X, Y, A, B, model)\n",
    "weat_x, weat_y, weat, weat_es"
   ]
  },
  {
   "cell_type": "markdown",
   "id": "86c6b392",
   "metadata": {},
   "source": [
    "## Lithuanian, lt"
   ]
  },
  {
   "cell_type": "code",
   "execution_count": 154,
   "id": "3af5d2c0",
   "metadata": {},
   "outputs": [
    {
     "name": "stdout",
     "output_type": "stream",
     "text": [
      "CPU times: user 2 µs, sys: 0 ns, total: 2 µs\n",
      "Wall time: 5.01 µs\n",
      "Loading model from  /Users/Napp/Desktop/Vectors/wiki.lt.bin\n"
     ]
    },
    {
     "name": "stderr",
     "output_type": "stream",
     "text": [
      "Warning : `load_model` does not return WordVectorModel or SupervisedModel any more, but a `FastText` object which is very similar.\n"
     ]
    }
   ],
   "source": [
    "%time\n",
    "lang = \"lt\"\n",
    "model_name = f\"wiki.{lang}.bin\" # the model file (should be the same, ending by '.bin')\n",
    "model = load_model(model_name)"
   ]
  },
  {
   "cell_type": "code",
   "execution_count": 155,
   "id": "6a38a684",
   "metadata": {},
   "outputs": [
    {
     "data": {
      "text/plain": [
       "(-0.09045747, -0.08003085, -0.010426618, -0.13077344)"
      ]
     },
     "execution_count": 155,
     "metadata": {},
     "output_type": "execute_result"
    }
   ],
   "source": [
    "#Google\n",
    "A = [\"vyras\", \"vyras\", \"berniukas\", \"brolis\", \"jis\", \"jis\", \"jo\", \"sūnus\"]\n",
    "B = [\"moteris\", \"moteris\", \"mergaitė\", \"sesuo\", \"ji\", \"ji\", \"jos\", \"dukra\"]\n",
    "X = [\"vadovas\", \"vadyba\", \"profesionalas\", \"korporacija\", \"atlyginimas\", \"biuras\", \"verslas\", \"karjera\"]\n",
    "Y = [\"namai\", \"tėvai\", \"vaikai\", \"šeima\", \"pusbroliai\", \"santuoka\", \"vestuvės\", \"giminaičiai\"]\n",
    "\n",
    "\n",
    "weat_x, weat_y, weat, weat_es = weat_score(X, Y, A, B, model)\n",
    "weat_x, weat_y, weat, weat_es"
   ]
  },
  {
   "cell_type": "code",
   "execution_count": 156,
   "id": "6162431d",
   "metadata": {},
   "outputs": [
    {
     "data": {
      "text/plain": [
       "(-0.037658017, -0.023223957, -0.01443406, -0.5668781)"
      ]
     },
     "execution_count": 156,
     "metadata": {},
     "output_type": "execute_result"
    }
   ],
   "source": [
    "#Google\n",
    "A = [\"vyras\", \"vyras\", \"berniukas\", \"brolis\", \"jis\", \"jis\", \"jo\", \"sūnus\"]\n",
    "B = [\"moteris\", \"moteris\", \"mergaitė\", \"sesuo\", \"ji\", \"ji\", \"jos\", \"dukra\"]\n",
    "X = [\"matematika\", \"algebra\", \"geometrija\", \"skaičiavimas\", \"lygtys\", \"skaičiavimas\", \"skaičiai\", \"sudėtis\"]\n",
    "Y = [\"poezija\", \"menas\", \"šokis\", \"literatūra\", \"romanas\", \"simfonija\", \"drama\", \"skulptūra\"]\n",
    "\n",
    "\n",
    "weat_x, weat_y, weat, weat_es = weat_score(X, Y, A, B, model)\n",
    "weat_x, weat_y, weat, weat_es"
   ]
  },
  {
   "cell_type": "code",
   "execution_count": 157,
   "id": "6cc47186",
   "metadata": {},
   "outputs": [
    {
     "data": {
      "text/plain": [
       "(-0.049952153, -0.0356398, -0.014312353, -0.5268505)"
      ]
     },
     "execution_count": 157,
     "metadata": {},
     "output_type": "execute_result"
    }
   ],
   "source": [
    "#Google\n",
    "A = [\"vyras\", \"vyras\", \"berniukas\", \"brolis\", \"jis\", \"jis\", \"jo\", \"sūnus\"]\n",
    "B = [\"moteris\", \"moteris\", \"mergaitė\", \"sesuo\", \"ji\", \"ji\", \"jos\", \"dukra\"]\n",
    "X = [\"mokslas\", \"technologija\", \"fizika\", \"chemija\", \"Einšteinas\", \"NASA\", \"eksperimentas\", \"astronomija\"]\n",
    "Y = [\"poezija\", \"menas\", \"Šekspyras\", \"šokis\", \"literatūra\", \"romanas\", \"simfonija\", \"drama\"]\n",
    "\n",
    "\n",
    "\n",
    "weat_x, weat_y, weat, weat_es = weat_score(X, Y, A, B, model)\n",
    "weat_x, weat_y, weat, weat_es"
   ]
  },
  {
   "cell_type": "markdown",
   "id": "93e165d0",
   "metadata": {},
   "source": [
    "## Luxembourgish, lb"
   ]
  },
  {
   "cell_type": "code",
   "execution_count": 214,
   "id": "ff7f3cad",
   "metadata": {},
   "outputs": [
    {
     "name": "stdout",
     "output_type": "stream",
     "text": [
      "CPU times: user 2 µs, sys: 0 ns, total: 2 µs\n",
      "Wall time: 4.05 µs\n",
      "Loading model from  /Users/Napp/Desktop/Vectors/wiki.lb.bin\n"
     ]
    },
    {
     "name": "stderr",
     "output_type": "stream",
     "text": [
      "Warning : `load_model` does not return WordVectorModel or SupervisedModel any more, but a `FastText` object which is very similar.\n"
     ]
    }
   ],
   "source": [
    "%time\n",
    "lang = \"lb\"\n",
    "model_name = f\"wiki.{lang}.bin\" # the model file (should be the same, ending by '.bin')\n",
    "model = load_model(model_name)"
   ]
  },
  {
   "cell_type": "code",
   "execution_count": 215,
   "id": "9cc1255f",
   "metadata": {},
   "outputs": [
    {
     "data": {
      "text/plain": [
       "(-0.061975185, -0.07667014, 0.014694955, 0.3902527)"
      ]
     },
     "execution_count": 215,
     "metadata": {},
     "output_type": "execute_result"
    }
   ],
   "source": [
    "#Google\n",
    "\n",
    "A = [\"männlech\", \"Mann\", \"Jong\", \"Brudder\", \"hien\", \"hien\", \"säi\", \"Jong\"]\n",
    "B = [\"weiblech\", \"Fra\", \"Meedchen\", \"Schwëster\", \"si\", \"hir\", \"hir\", \"Duechter\"]\n",
    "X = [\"Exekutiv\", \"Gestioun\", \"professionell\", \"Gesellschaft\", \"Pai\", \"Büro\", \"Geschäft\", \"Carrière\"]\n",
    "Y = [\"Doheem\", \"Elteren\", \"Kanner\", \"Famill\", \"Koseng\", \"Hochzäit\", \"Hochzäit\", \"Verwandten\"]\n",
    "\n",
    "\n",
    "weat_x, weat_y, weat, weat_es = weat_score(X, Y, A, B, model)\n",
    "weat_x, weat_y, weat, weat_es"
   ]
  },
  {
   "cell_type": "code",
   "execution_count": 216,
   "id": "3cc95c2e",
   "metadata": {},
   "outputs": [
    {
     "data": {
      "text/plain": [
       "(0.00705187, 0.009450786, -0.0023989156, -0.07685595)"
      ]
     },
     "execution_count": 216,
     "metadata": {},
     "output_type": "execute_result"
    }
   ],
   "source": [
    "#Google\n",
    "\n",
    "A = [\"männlech\", \"Mann\", \"Jong\", \"Brudder\", \"hien\", \"hien\", \"säi\", \"Jong\"]\n",
    "B = [\"weiblech\", \"Fra\", \"Meedchen\", \"Schwëster\", \"si\", \"hir\", \"hir\", \"Duechter\"]\n",
    "X = [\"Mathematik\", \"Algebra\", \"Geometrie\", \"Rechnung\", \"Equatioune\", \"Berechnung\", \"Zuelen\", \"Zousätzlech\"]\n",
    "Y = [\"Poesie\", \"Konscht\", \"Danz\", \"Literatur\", \"Roman\", \"Symphonie\", \"Drama\", \"Skulptur\"]\n",
    "\n",
    "\n",
    "\n",
    "weat_x, weat_y, weat, weat_es = weat_score(X, Y, A, B, model)\n",
    "weat_x, weat_y, weat, weat_es"
   ]
  },
  {
   "cell_type": "code",
   "execution_count": 217,
   "id": "255793ee",
   "metadata": {},
   "outputs": [
    {
     "data": {
      "text/plain": [
       "(-0.05917857, -0.06541488, 0.006236315, 0.18885821)"
      ]
     },
     "execution_count": 217,
     "metadata": {},
     "output_type": "execute_result"
    }
   ],
   "source": [
    "#Google\n",
    "\n",
    "A = [\"männlech\", \"Mann\", \"Jong\", \"Brudder\", \"hien\", \"hien\", \"säi\", \"Jong\"]\n",
    "B = [\"weiblech\", \"Fra\", \"Meedchen\", \"Schwëster\", \"si\", \"hir\", \"hir\", \"Duechter\"]\n",
    "X = [\"Wëssenschaft\", \"Technologie\", \"Physik\", \"Chemie\", \"Einstein\", \"NASA\", \"Experiment\", \"Astronomie\"]\n",
    "Y = [\"Poesie\", \"Konscht\", \"Shakespeare\", \"Danz\", \"Literatur\", \"Roman\", \"Symphonie\", \"Drama\"]\n",
    "\n",
    "\n",
    "weat_x, weat_y, weat, weat_es = weat_score(X, Y, A, B, model)\n",
    "weat_x, weat_y, weat, weat_es"
   ]
  },
  {
   "cell_type": "markdown",
   "id": "1172a7ee",
   "metadata": {},
   "source": [
    "## Macedonian, mk"
   ]
  },
  {
   "cell_type": "code",
   "execution_count": 178,
   "id": "0eed2797",
   "metadata": {},
   "outputs": [
    {
     "name": "stdout",
     "output_type": "stream",
     "text": [
      "CPU times: user 3 µs, sys: 1e+03 ns, total: 4 µs\n",
      "Wall time: 5.96 µs\n",
      "Loading model from  /Users/Napp/Desktop/Vectors/wiki.mk.bin\n"
     ]
    },
    {
     "name": "stderr",
     "output_type": "stream",
     "text": [
      "Warning : `load_model` does not return WordVectorModel or SupervisedModel any more, but a `FastText` object which is very similar.\n"
     ]
    }
   ],
   "source": [
    "%time\n",
    "lang = \"mk\"\n",
    "model_name = f\"wiki.{lang}.bin\" # the model file (should be the same, ending by '.bin')\n",
    "model = load_model(model_name)"
   ]
  },
  {
   "cell_type": "code",
   "execution_count": 179,
   "id": "61118991",
   "metadata": {},
   "outputs": [
    {
     "data": {
      "text/plain": [
       "(-0.0817668, -0.087084785, 0.005317986, 0.06584906)"
      ]
     },
     "execution_count": 179,
     "metadata": {},
     "output_type": "execute_result"
    }
   ],
   "source": [
    "#Google\n",
    "\n",
    "A = [\"машко\", \"маж\", \"момче\", \"брат\", \"тој\", \"тој\", \"негов\", \"син\"]\n",
    "B = [\"женска\", \"жена\", \"девојка\", \"сестра\", \"таа\", \"неа\", \"нејзина\", \"ќерка\"]\n",
    "X = [\"извршен\", \"менаџмент\", \"професионален\", \"корпорација\", \"плата\", \"канцеларија\", \"бизнис\", \"кариера\"]\n",
    "Y = [\"дом\", \"родители\", \"деца\", \"семејство\", \"братучеди\", \"брак\", \"свадба\", \"роднини\"]\n",
    "\n",
    "weat_x, weat_y, weat, weat_es = weat_score(X, Y, A, B, model)\n",
    "weat_x, weat_y, weat, weat_es"
   ]
  },
  {
   "cell_type": "code",
   "execution_count": 180,
   "id": "6a8e7568",
   "metadata": {},
   "outputs": [
    {
     "data": {
      "text/plain": [
       "(-0.017540509, -0.059916936, 0.04237643, 0.96861154)"
      ]
     },
     "execution_count": 180,
     "metadata": {},
     "output_type": "execute_result"
    }
   ],
   "source": [
    "#Google\n",
    "\n",
    "A = [\"машко\", \"маж\", \"момче\", \"брат\", \"тој\", \"тој\", \"негов\", \"син\"]\n",
    "B = [\"женска\", \"жена\", \"девојка\", \"сестра\", \"таа\", \"неа\", \"нејзина\", \"ќерка\"]\n",
    "X = [\"математика\", \"алгебра\", \"геометрија\", \"пресметка\", \"равенки\", \"пресметување\", \"броеви\", \"собирање\"]\n",
    "Y = [\"поезија\", \"уметност\", \"танц\", \"книжевност\", \"роман\", \"симфонија\", \"драма\", \"скулптура\"]\n",
    "\n",
    "\n",
    "weat_x, weat_y, weat, weat_es = weat_score(X, Y, A, B, model)\n",
    "weat_x, weat_y, weat, weat_es"
   ]
  },
  {
   "cell_type": "code",
   "execution_count": 181,
   "id": "d5c325c7",
   "metadata": {},
   "outputs": [
    {
     "data": {
      "text/plain": [
       "(-0.015937993, -0.033647604, 0.017709611, 0.57244253)"
      ]
     },
     "execution_count": 181,
     "metadata": {},
     "output_type": "execute_result"
    }
   ],
   "source": [
    "#Google\n",
    "\n",
    "A = [\"машко\", \"маж\", \"момче\", \"брат\", \"тој\", \"тој\", \"негов\", \"син\"]\n",
    "B = [\"женска\", \"жена\", \"девојка\", \"сестра\", \"таа\", \"неа\", \"нејзина\", \"ќерка\"]\n",
    "X = [\"наука\", \"технологија\", \"физика\", \"хемија\", \"Ајнштајн\", \"НАСА\", \"експеримент\", \"астрономија\"]\n",
    "Y = [\"поезија\", \"уметност\", \"Шекспир\", \"танц\", \"книжевност\", \"роман\", \"симфонија\", \"драма\"]\n",
    "\n",
    "\n",
    "weat_x, weat_y, weat, weat_es = weat_score(X, Y, A, B, model)\n",
    "weat_x, weat_y, weat, weat_es"
   ]
  },
  {
   "cell_type": "markdown",
   "id": "0901a430",
   "metadata": {},
   "source": [
    "## Malagasi, mg"
   ]
  },
  {
   "cell_type": "code",
   "execution_count": 262,
   "id": "ae9c3808",
   "metadata": {},
   "outputs": [
    {
     "name": "stdout",
     "output_type": "stream",
     "text": [
      "CPU times: user 19 µs, sys: 1 µs, total: 20 µs\n",
      "Wall time: 21.9 µs\n",
      "Loading model from  /Users/Napp/Desktop/Vectors/wiki.mg.bin\n"
     ]
    },
    {
     "name": "stderr",
     "output_type": "stream",
     "text": [
      "Warning : `load_model` does not return WordVectorModel or SupervisedModel any more, but a `FastText` object which is very similar.\n"
     ]
    }
   ],
   "source": [
    "%time\n",
    "lang = \"mg\"\n",
    "model_name = f\"wiki.{lang}.bin\" # the model file (should be the same, ending by '.bin')\n",
    "model = load_model(model_name)"
   ]
  },
  {
   "cell_type": "code",
   "execution_count": 263,
   "id": "b128db1b",
   "metadata": {},
   "outputs": [
    {
     "data": {
      "text/plain": [
       "(-0.122838385, -0.1021949, -0.020643488, -0.262693)"
      ]
     },
     "execution_count": 263,
     "metadata": {},
     "output_type": "execute_result"
    }
   ],
   "source": [
    "#Google\n",
    "A = [\"lahy\", \"lehilahy\", \"zazalahy\", \"rahalahy\", \"izy\", \"izy\", \"ny\", \"zanakalahy\"]\n",
    "B = [\"vehivavy\", \"vehivavy\", \"vavy\", \"rahavavy\", \"izy\", \"azy\", \"azy\", \"zanakavavy\"]\n",
    "X = [\"mpanatanteraka\", \"mitantana\", \"matihanina\", \"orinasa\", \"karama\", \"birao\", \"orinasa\", \"asa\"]\n",
    "Y = [\"trano\", \"ray aman-dreny\", \"zanaka\", \"fianakaviana\", \"zanak'olo-mpiray tam-po\", \"fanambadiana\", \"vady\", \"havana\"]\n",
    "\n",
    "\n",
    "\n",
    "weat_x, weat_y, weat, weat_es = weat_score(X, Y, A, B, model)\n",
    "weat_x, weat_y, weat, weat_es"
   ]
  },
  {
   "cell_type": "code",
   "execution_count": 264,
   "id": "2fe382c6",
   "metadata": {},
   "outputs": [
    {
     "data": {
      "text/plain": [
       "(-0.10530496, -0.09973933, -0.0055656284, -0.11911065)"
      ]
     },
     "execution_count": 264,
     "metadata": {},
     "output_type": "execute_result"
    }
   ],
   "source": [
    "#Google\n",
    "A = [\"lahy\", \"lehilahy\", \"zazalahy\", \"rahalahy\", \"izy\", \"izy\", \"ny\", \"zanakalahy\"]\n",
    "B = [\"vehivavy\", \"vehivavy\", \"vavy\", \"rahavavy\", \"izy\", \"azy\", \"azy\", \"zanakavavy\"]\n",
    "X = [\"math\", \"algebra\", \"geométrie\", \"calculus\", \"equations\", \"computation\", \"numbers\", \"addition\"]\n",
    "Y = [\"poezia\", \"art\", \"dihy\", \"literatiora\", \"novel\", \"symphony\", \"drame\", \"sculpture\"]\n",
    "\n",
    "\n",
    "weat_x, weat_y, weat, weat_es = weat_score(X, Y, A, B, model)\n",
    "weat_x, weat_y, weat, weat_es"
   ]
  },
  {
   "cell_type": "code",
   "execution_count": 265,
   "id": "a7bfd85f",
   "metadata": {},
   "outputs": [
    {
     "data": {
      "text/plain": [
       "(-0.108148515, -0.10603686, -0.0021116585, -0.064097784)"
      ]
     },
     "execution_count": 265,
     "metadata": {},
     "output_type": "execute_result"
    }
   ],
   "source": [
    "#Google\n",
    "A = [\"lahy\", \"lehilahy\", \"zazalahy\", \"rahalahy\", \"izy\", \"izy\", \"ny\", \"zanakalahy\"]\n",
    "B = [\"vehivavy\", \"vehivavy\", \"vavy\", \"rahavavy\", \"izy\", \"azy\", \"azy\", \"zanakavavy\"]\n",
    "X = [\"science\", \"technologie\", \"physique\", \"chemistry\", \"Einstein\", \"NASA\", \"experiment\", \"astronomia\"]\n",
    "Y = [\"poetry\", \"art\", \"Shakespeare\", \"dihy\", \"literatiora\", \"novel\", \"symphony\", \"drame\"]\n",
    "\n",
    "\n",
    "\n",
    "weat_x, weat_y, weat, weat_es = weat_score(X, Y, A, B, model)\n",
    "weat_x, weat_y, weat, weat_es"
   ]
  },
  {
   "cell_type": "markdown",
   "id": "996339da",
   "metadata": {},
   "source": [
    "## Malay, ms"
   ]
  },
  {
   "cell_type": "code",
   "execution_count": 82,
   "id": "fa575499",
   "metadata": {},
   "outputs": [
    {
     "name": "stdout",
     "output_type": "stream",
     "text": [
      "CPU times: user 2 µs, sys: 1e+03 ns, total: 3 µs\n",
      "Wall time: 5.01 µs\n",
      "Loading model from  /Users/Napp/Desktop/Vectors/wiki.ms.bin\n"
     ]
    },
    {
     "name": "stderr",
     "output_type": "stream",
     "text": [
      "Warning : `load_model` does not return WordVectorModel or SupervisedModel any more, but a `FastText` object which is very similar.\n"
     ]
    }
   ],
   "source": [
    "%time\n",
    "lang = \"ms\"\n",
    "model_name = f\"wiki.{lang}.bin\" # the model file (should be the same, ending by '.bin')\n",
    "model = load_model(model_name)"
   ]
  },
  {
   "cell_type": "code",
   "execution_count": 83,
   "id": "1e575dcc",
   "metadata": {},
   "outputs": [
    {
     "data": {
      "text/plain": [
       "(-0.106153704, -0.14741872, 0.04126502, 0.47172317)"
      ]
     },
     "execution_count": 83,
     "metadata": {},
     "output_type": "execute_result"
    }
   ],
   "source": [
    "#Google\n",
    "A = [\"lelaki\", \"lelaki\", \"lelaki\", \"abang\", \"dia\", \"dia\", \"dia\", \"anak lelaki\"]\n",
    "B = [\"perempuan\", \"perempuan\", \"perempuan\", \"kakak\", \"dia\", \"dia\", \"dia\", \"anak perempuan\"]\n",
    "X = [\"eksekutif\", \"pengurusan\", \"profesional\", \"perbadanan\", \"gaji\", \"pejabat\", \"perniagaan\", \"kerjaya\"]\n",
    "Y = [\"rumah\", \"ibu bapa\", \"anak\", \"keluarga\", \"sepupu\", \"perkahwinan\", \"perkahwinan\", \"saudara mara\"]\n",
    "\n",
    "\n",
    "\n",
    "weat_x, weat_y, weat, weat_es = weat_score(X, Y, A, B, model)\n",
    "weat_x, weat_y, weat, weat_es"
   ]
  },
  {
   "cell_type": "code",
   "execution_count": 84,
   "id": "d6ed329d",
   "metadata": {},
   "outputs": [
    {
     "data": {
      "text/plain": [
       "(0.002688419, -0.0059442166, 0.008632636, 0.6211247)"
      ]
     },
     "execution_count": 84,
     "metadata": {},
     "output_type": "execute_result"
    }
   ],
   "source": [
    "#Google\n",
    "A = [\"lelaki\", \"lelaki\", \"lelaki\", \"abang\", \"dia\", \"dia\", \"dia\", \"anak lelaki\"]\n",
    "B = [\"perempuan\", \"perempuan\", \"perempuan\", \"kakak\", \"dia\", \"dia\", \"dia\", \"anak perempuan\"]\n",
    "X = [\"matematik\", \"algebra\", \"geometri\", \"kalkulus\", \"persamaan\", \"pengiraan\", \"nombor\", \"tambahan\"]\n",
    "Y = [\"puisi\", \"seni\", \"tarian\", \"sastera\", \"novel\", \"simfoni\", \"drama\", \"arca\"]\n",
    "\n",
    "\n",
    "\n",
    "\n",
    "weat_x, weat_y, weat, weat_es = weat_score(X, Y, A, B, model)\n",
    "weat_x, weat_y, weat, weat_es"
   ]
  },
  {
   "cell_type": "code",
   "execution_count": 85,
   "id": "26380a2a",
   "metadata": {},
   "outputs": [
    {
     "data": {
      "text/plain": [
       "(-0.029376157, -0.026425244, -0.0029509123, -0.3303677)"
      ]
     },
     "execution_count": 85,
     "metadata": {},
     "output_type": "execute_result"
    }
   ],
   "source": [
    "#Google\n",
    "A = [\"lelaki\", \"lelaki\", \"lelaki\", \"abang\", \"dia\", \"dia\", \"dia\", \"anak lelaki\"]\n",
    "B = [\"perempuan\", \"perempuan\", \"perempuan\", \"kakak\", \"dia\", \"dia\", \"dia\", \"anak perempuan\"]\n",
    "X = [\"sains\", \"teknologi\", \"fizik\", \"kimia\", \"Einstein\", \"NASA\", \"eksperimen\", \"astronomi\"]\n",
    "Y = [\"puisi\", \"seni\", \"Shakespeare\", \"tarian\", \"sastera\", \"novel\", \"simfoni\", \"drama\"]\n",
    "\n",
    "\n",
    "\n",
    "weat_x, weat_y, weat, weat_es = weat_score(X, Y, A, B, model)\n",
    "weat_x, weat_y, weat, weat_es"
   ]
  },
  {
   "cell_type": "markdown",
   "id": "a702463f",
   "metadata": {},
   "source": [
    "## Mongolian, mn"
   ]
  },
  {
   "cell_type": "code",
   "execution_count": 270,
   "id": "b8e9e0f2",
   "metadata": {
    "scrolled": true
   },
   "outputs": [
    {
     "name": "stdout",
     "output_type": "stream",
     "text": [
      "CPU times: user 4 µs, sys: 6 µs, total: 10 µs\n",
      "Wall time: 31 µs\n",
      "Loading model from  /Users/Napp/Desktop/Vectors/wiki.mn.bin\n"
     ]
    },
    {
     "name": "stderr",
     "output_type": "stream",
     "text": [
      "Warning : `load_model` does not return WordVectorModel or SupervisedModel any more, but a `FastText` object which is very similar.\n"
     ]
    }
   ],
   "source": [
    "%time\n",
    "lang = \"mn\"\n",
    "model_name = f\"wiki.{lang}.bin\" # the model file (should be the same, ending by '.bin')\n",
    "model = load_model(model_name)"
   ]
  },
  {
   "cell_type": "code",
   "execution_count": 271,
   "id": "7d7663ac",
   "metadata": {},
   "outputs": [
    {
     "data": {
      "text/plain": [
       "(-0.1238536, -0.11616749, -0.0076861084, -0.11063581)"
      ]
     },
     "execution_count": 271,
     "metadata": {},
     "output_type": "execute_result"
    }
   ],
   "source": [
    "#Google\n",
    "A = [\"эрэгтэй\", \"эрэгтэй\", \"хүү\", \"ах\", \"тэр\", \"түүний\", \"түүний\", \"хүү\"]\n",
    "B = [\"эмэгтэй\", \"эмэгтэй\", \"охин\", \"эгч\", \"тэр\", \"түүний\", \"түүний\", \"охин\"]\n",
    "X = [\"гүйцэтгэх захирал\", \"менежмент\", \"мэргэжлийн\", \"корпорац\", \"цалин\", \"оффис\", \"бизнес\", \"карьер\"]\n",
    "Y = [\"гэр\", \"эцэг эх\", \"хүүхдүүд\", \"гэр бүл\", \"үеэл\", \"гэрлэлт\", \"хурим\", \"хамаатан садан\"]\n",
    "\n",
    "weat_x, weat_y, weat, weat_es = weat_score(X, Y, A, B, model)\n",
    "weat_x, weat_y, weat, weat_es"
   ]
  },
  {
   "cell_type": "code",
   "execution_count": 272,
   "id": "12d3c6f3",
   "metadata": {},
   "outputs": [
    {
     "data": {
      "text/plain": [
       "(-0.08179228, -0.09620993, 0.014417648, 0.31972563)"
      ]
     },
     "execution_count": 272,
     "metadata": {},
     "output_type": "execute_result"
    }
   ],
   "source": [
    "#Google\n",
    "A = [\"эрэгтэй\", \"эрэгтэй\", \"хүү\", \"ах\", \"тэр\", \"түүний\", \"түүний\", \"хүү\"]\n",
    "B = [\"эмэгтэй\", \"эмэгтэй\", \"охин\", \"эгч\", \"тэр\", \"түүний\", \"түүний\", \"охин\"]\n",
    "X = [\"математик\", \"алгебр\", \"геометр\", \"тооцоо\", \"тэгшитгэл\", \"тооцоолол\", \"тоо\", \"нэмэлт\"]\n",
    "Y = [\"яруу найраг\", \"урлаг\", \"бүжиг\", \"уран зохиол\", \"тууж\", \"симфони\", \"жүжиг\", \"уран баримал\"]\n",
    "\n",
    "weat_x, weat_y, weat, weat_es = weat_score(X, Y, A, B, model)\n",
    "weat_x, weat_y, weat, weat_es"
   ]
  },
  {
   "cell_type": "code",
   "execution_count": 273,
   "id": "c3f0a43c",
   "metadata": {},
   "outputs": [
    {
     "data": {
      "text/plain": [
       "(-0.07736486, -0.08373664, 0.006371781, 0.20933568)"
      ]
     },
     "execution_count": 273,
     "metadata": {},
     "output_type": "execute_result"
    }
   ],
   "source": [
    "#Google\n",
    "A = [\"эрэгтэй\", \"эрэгтэй\", \"хүү\", \"ах\", \"тэр\", \"түүний\", \"түүний\", \"хүү\"]\n",
    "B = [\"эмэгтэй\", \"эмэгтэй\", \"охин\", \"эгч\", \"тэр\", \"түүний\", \"түүний\", \"охин\"]\n",
    "X = [\"шинжлэх ухаан\", \"технологи\", \"физик\", \"хими\", \"Эйнштейн\", \"НАСА\", \"туршилт\", \"одон орон судлал\"]\n",
    "Y = [\"яруу найраг\", \"урлаг\", \"Шекспир\", \"бүжиг\", \"уран зохиол\", \"тууж\", \"симфони\", \"жүжиг\"]\n",
    "\n",
    "weat_x, weat_y, weat, weat_es = weat_score(X, Y, A, B, model)\n",
    "weat_x, weat_y, weat, weat_es"
   ]
  },
  {
   "cell_type": "markdown",
   "id": "871b2f1e",
   "metadata": {},
   "source": [
    "## Nepali, ne"
   ]
  },
  {
   "cell_type": "code",
   "execution_count": 210,
   "id": "3159a547",
   "metadata": {},
   "outputs": [
    {
     "name": "stdout",
     "output_type": "stream",
     "text": [
      "CPU times: user 2 µs, sys: 0 ns, total: 2 µs\n",
      "Wall time: 5.96 µs\n",
      "Loading model from  /Users/Napp/Desktop/Vectors/wiki.ne.bin\n"
     ]
    },
    {
     "name": "stderr",
     "output_type": "stream",
     "text": [
      "Warning : `load_model` does not return WordVectorModel or SupervisedModel any more, but a `FastText` object which is very similar.\n"
     ]
    }
   ],
   "source": [
    "%time\n",
    "lang = \"ne\"\n",
    "model_name = f\"wiki.{lang}.bin\" # the model file (should be the same, ending by '.bin')\n",
    "model = load_model(model_name)"
   ]
  },
  {
   "cell_type": "code",
   "execution_count": 211,
   "id": "b8023749",
   "metadata": {},
   "outputs": [
    {
     "data": {
      "text/plain": [
       "(-0.038995832, -0.04752338, 0.008527547, 0.1243201)"
      ]
     },
     "execution_count": 211,
     "metadata": {},
     "output_type": "execute_result"
    }
   ],
   "source": [
    "#Google\n",
    "\n",
    "A = [\"पुरुष\", \"पुरुष\", \"केटा\", \"भाइ\", \"उनी\", \"उनी\", \"उहाँ\", \"छोरा\"]\n",
    "B = [\"महिला\", \"महिला\", \"केटी\", \"बहिनी\", \"उनी\", \"उनी\", \"उनको\", \"छोरी\"]\n",
    "X = [\"कार्यकारी\", \"व्यवस्थापन\", \"पेशेवर\", \"निगम\", \"तलब\", \"कार्यालय\", \"व्यवसाय\", \"करियर\"]\n",
    "Y = [\"घर\", \"अभिभावक\", \"बच्चाहरू\", \"परिवार\", \"चचेरे भाई\", \"विवाह\", \"विवाह\", \"आफन्त\"]\n",
    "\n",
    "\n",
    "weat_x, weat_y, weat, weat_es = weat_score(X, Y, A, B, model)\n",
    "weat_x, weat_y, weat, weat_es"
   ]
  },
  {
   "cell_type": "code",
   "execution_count": 212,
   "id": "138d088a",
   "metadata": {},
   "outputs": [
    {
     "data": {
      "text/plain": [
       "(-0.05172973, -0.091854416, 0.040124685, 1.0429039)"
      ]
     },
     "execution_count": 212,
     "metadata": {},
     "output_type": "execute_result"
    }
   ],
   "source": [
    "#Google\n",
    "\n",
    "A = [\"पुरुष\", \"पुरुष\", \"केटा\", \"भाइ\", \"उनी\", \"उनी\", \"उहाँ\", \"छोरा\"]\n",
    "B = [\"महिला\", \"महिला\", \"केटी\", \"बहिनी\", \"उनी\", \"उनी\", \"उनको\", \"छोरी\"]\n",
    "X = [\"गणित\", \"बीजगणित\", \"ज्यामिति\", \"क्यालकुलस\", \"समीकरण\", \"गणना\", \"संख्या\", \"अतिरिक्त\"]\n",
    "Y = [\"कविता\", \"कला\", \"नृत्य\", \"साहित्य\", \"उपन्यास\", \"सिम्फनी\", \"नाटक\", \"मूर्ति\"]\n",
    "\n",
    "\n",
    "weat_x, weat_y, weat, weat_es = weat_score(X, Y, A, B, model)\n",
    "weat_x, weat_y, weat, weat_es"
   ]
  },
  {
   "cell_type": "code",
   "execution_count": 213,
   "id": "bbce7046",
   "metadata": {},
   "outputs": [
    {
     "data": {
      "text/plain": [
       "(-0.05591464, -0.07710431, 0.021189667, 0.6316705)"
      ]
     },
     "execution_count": 213,
     "metadata": {},
     "output_type": "execute_result"
    }
   ],
   "source": [
    "#Google\n",
    "\n",
    "A = [\"पुरुष\", \"पुरुष\", \"केटा\", \"भाइ\", \"उनी\", \"उनी\", \"उहाँ\", \"छोरा\"]\n",
    "B = [\"महिला\", \"महिला\", \"केटी\", \"बहिनी\", \"उनी\", \"उनी\", \"उनको\", \"छोरी\"]\n",
    "X = [\"विज्ञान\", \"प्रविधि\", \"भौतिकशास्त्र\", \"रसायनशास्त्र\", \"आइन्स्टाइन\", \"नासा\", \"प्रयोग\", \"खगोल विज्ञान\"]\n",
    "Y = [\"कविता\", \"कला\", \"शेक्सपियर\", \"नृत्य\", \"साहित्य\", \"उपन्यास\", \"सिम्फनी\", \"नाटक\"]\n",
    "\n",
    "\n",
    "\n",
    "weat_x, weat_y, weat, weat_es = weat_score(X, Y, A, B, model)\n",
    "weat_x, weat_y, weat, weat_es"
   ]
  },
  {
   "cell_type": "markdown",
   "id": "923f77ef",
   "metadata": {},
   "source": [
    "## Norwegian, no"
   ]
  },
  {
   "cell_type": "code",
   "execution_count": 37,
   "id": "5a1b493b",
   "metadata": {},
   "outputs": [
    {
     "name": "stdout",
     "output_type": "stream",
     "text": [
      "CPU times: user 2 µs, sys: 1 µs, total: 3 µs\n",
      "Wall time: 5.01 µs\n",
      "Loading model from  /Users/Napp/Desktop/Vectors/wiki.no.bin\n"
     ]
    },
    {
     "name": "stderr",
     "output_type": "stream",
     "text": [
      "Warning : `load_model` does not return WordVectorModel or SupervisedModel any more, but a `FastText` object which is very similar.\n"
     ]
    }
   ],
   "source": [
    "%time\n",
    "lang = \"no\"\n",
    "model_name = f\"wiki.{lang}.bin\" # the model file (should be the same, ending by '.bin')\n",
    "model = load_model(model_name)"
   ]
  },
  {
   "cell_type": "code",
   "execution_count": 38,
   "id": "4eda7243",
   "metadata": {},
   "outputs": [
    {
     "data": {
      "text/plain": [
       "(-0.08113386, -0.15069202, 0.06955816, 0.8577502)"
      ]
     },
     "execution_count": 38,
     "metadata": {},
     "output_type": "execute_result"
    }
   ],
   "source": [
    "#Google\n",
    "\n",
    "A = [\"mann\", \"mann\", \"gutt\", \"bror\", \"han\", \"ham\", \"hans\", \"sønn\"]\n",
    "B = [\"kvinne\", \"kvinne\", \"jente\", \"søster\", \"hun\", \"henne\", \"hennes\", \"datter\"]\n",
    "X = [\"leder\", \"ledelse\", \"profesjonell\", \"selskap\", \"lønn\", \"kontor\", \"bedrift\", \"karriere\"]\n",
    "Y = [\"hjem\", \"foreldre\", \"barn\", \"familie\", \"kusiner\", \"ekteskap\", \"bryllup\", \"slektninger\"]\n",
    "\n",
    "weat_x, weat_y, weat, weat_es = weat_score(X, Y, A, B, model)\n",
    "weat_x, weat_y, weat, weat_es"
   ]
  },
  {
   "cell_type": "code",
   "execution_count": 39,
   "id": "db66b135",
   "metadata": {},
   "outputs": [
    {
     "data": {
      "text/plain": [
       "(-0.047658212, -0.08313065, 0.035472438, 1.5450023)"
      ]
     },
     "execution_count": 39,
     "metadata": {},
     "output_type": "execute_result"
    }
   ],
   "source": [
    "#Google\n",
    "\n",
    "A = [\"mann\", \"mann\", \"gutt\", \"bror\", \"han\", \"ham\", \"hans\", \"sønn\"]\n",
    "B = [\"kvinne\", \"kvinne\", \"jente\", \"søster\", \"hun\", \"henne\", \"hennes\", \"datter\"]\n",
    "X = [\"matte\", \"algebra\", \"geometri\", \"kalkulus\", \"ligninger\", \"beregning\", \"tall\", \"addisjon\"]\n",
    "Y = [\"poesi\", \"kunst\", \"dans\", \"litteratur\", \"roman\", \"symfoni\", \"drama\", \"skulptur\"]\n",
    "\n",
    "\n",
    "\n",
    "weat_x, weat_y, weat, weat_es = weat_score(X, Y, A, B, model)\n",
    "weat_x, weat_y, weat, weat_es"
   ]
  },
  {
   "cell_type": "code",
   "execution_count": 40,
   "id": "bf7f2779",
   "metadata": {},
   "outputs": [
    {
     "data": {
      "text/plain": [
       "(-0.025743168, -0.051895645, 0.026152477, 1.3284922)"
      ]
     },
     "execution_count": 40,
     "metadata": {},
     "output_type": "execute_result"
    }
   ],
   "source": [
    "#Google\n",
    "\n",
    "A = [\"mann\", \"mann\", \"gutt\", \"bror\", \"han\", \"ham\", \"hans\", \"sønn\"]\n",
    "B = [\"kvinne\", \"kvinne\", \"jente\", \"søster\", \"hun\", \"henne\", \"hennes\", \"datter\"]\n",
    "X = [\"vitenskap\", \"teknologi\", \"fysikk\", \"kjemi\", \"Einstein\", \"NASA\", \"eksperiment\", \"astronomi\"]\n",
    "Y = [\"poesi\", \"kunst\", \"Shakespeare\", \"dans\", \"litteratur\", \"roman\", \"symfoni\", \"drama\"]\n",
    "\n",
    "weat_x, weat_y, weat, weat_es = weat_score(X, Y, A, B, model)\n",
    "weat_x, weat_y, weat, weat_es"
   ]
  },
  {
   "cell_type": "markdown",
   "id": "963895b5",
   "metadata": {},
   "source": [
    "## Nynorsk, nn"
   ]
  },
  {
   "cell_type": "code",
   "execution_count": 286,
   "id": "d9ad8846",
   "metadata": {},
   "outputs": [
    {
     "name": "stdout",
     "output_type": "stream",
     "text": [
      "CPU times: user 3 µs, sys: 7 µs, total: 10 µs\n",
      "Wall time: 26.9 µs\n",
      "Loading model from  /Users/Napp/Desktop/Vectors/wiki.nn.bin\n"
     ]
    },
    {
     "name": "stderr",
     "output_type": "stream",
     "text": [
      "Warning : `load_model` does not return WordVectorModel or SupervisedModel any more, but a `FastText` object which is very similar.\n"
     ]
    }
   ],
   "source": [
    "%time\n",
    "lang = \"nn\"\n",
    "model_name = f\"wiki.{lang}.bin\" # the model file (should be the same, ending by '.bin')\n",
    "model = load_model(model_name)"
   ]
  },
  {
   "cell_type": "code",
   "execution_count": 287,
   "id": "0212b899",
   "metadata": {},
   "outputs": [
    {
     "data": {
      "text/plain": [
       "(-0.0398652, -0.10918912, 0.06932393, 1.1927505)"
      ]
     },
     "execution_count": 287,
     "metadata": {},
     "output_type": "execute_result"
    }
   ],
   "source": [
    "#ChatGPT\n",
    "A = [\"mann\", \"mann\", \"gut\", \"bror\", \"han\", \"han\", \"hans\", \"sonn\"] \n",
    "B = [\"kvinne\", \"kvinne\", \"jente\", \"søster\", \"ho\", \"henne\", \"hennes\", \"datter\"] \n",
    "X = [\"ledelse\", \"ledelse\", \"profesjonell\", \"selskap\", \"lønn\", \"kontor\", \"forretning\", \"karriere\"] \n",
    "Y = [\"heim\", \"foreldre\", \"barn\", \"familie\", \"kusiner\", \"ekteskap\", \"bryllup\", \"slektninger\"]\n",
    "\n",
    "\n",
    "\n",
    "\n",
    "weat_x, weat_y, weat, weat_es = weat_score(X, Y, A, B, model)\n",
    "weat_x, weat_y, weat, weat_es"
   ]
  },
  {
   "cell_type": "code",
   "execution_count": 288,
   "id": "f9d61c15",
   "metadata": {},
   "outputs": [
    {
     "data": {
      "text/plain": [
       "(-0.02021755, -0.0646805, 0.04446295, 1.514779)"
      ]
     },
     "execution_count": 288,
     "metadata": {},
     "output_type": "execute_result"
    }
   ],
   "source": [
    "#ChatGPT\n",
    "A = [\"mann\", \"mann\", \"gut\", \"bror\", \"han\", \"han\", \"hans\", \"sonn\"] \n",
    "B = [\"kvinne\", \"kvinne\", \"jente\", \"søster\", \"ho\", \"henne\", \"hennes\", \"dotter\"] \n",
    "X = [\"matematikk\", \"algebra\", \"geometri\", \"kalkulus\", \"likningar\", \"beregning\", \"tal\", \"addisjon\"] \n",
    "Y = [\"dikting\", \"kunst\", \"dans\", \"litteratur\", \"roman\", \"symfoni\", \"drama\", \"skulptur\"]\n",
    "\n",
    "\n",
    "\n",
    "weat_x, weat_y, weat, weat_es = weat_score(X, Y, A, B, model)\n",
    "weat_x, weat_y, weat, weat_es"
   ]
  },
  {
   "cell_type": "code",
   "execution_count": 289,
   "id": "0cd1977d",
   "metadata": {},
   "outputs": [
    {
     "data": {
      "text/plain": [
       "(-0.0147078615, -0.059645243, 0.04493738, 1.4234538)"
      ]
     },
     "execution_count": 289,
     "metadata": {},
     "output_type": "execute_result"
    }
   ],
   "source": [
    "#ChatGPT\n",
    "A = [\"mann\", \"mann\", \"gut\", \"bror\", \"han\", \"han\", \"hans\", \"sonn\"] \n",
    "B = [\"kvinne\", \"kvinne\", \"jente\", \"søster\", \"ho\", \"henne\", \"hennes\", \"dotter\"] \n",
    "X = [\"vitskap\", \"teknologi\", \"fysikk\", \"kjemi\", \"Einstein\", \"NASA\", \"eksperiment\", \"astronomi\"] \n",
    "Y = [\"dikt\", \"kunst\", \"Shakespeare\", \"dans\", \"litteratur\", \"roman\", \"symfoni\", \"drama\"]\n",
    "\n",
    "\n",
    "\n",
    "weat_x, weat_y, weat, weat_es = weat_score(X, Y, A, B, model)\n",
    "weat_x, weat_y, weat, weat_es"
   ]
  },
  {
   "cell_type": "markdown",
   "id": "1204e4e9",
   "metadata": {},
   "source": [
    "## Oromo, om"
   ]
  },
  {
   "cell_type": "code",
   "execution_count": 290,
   "id": "aee905fa",
   "metadata": {},
   "outputs": [
    {
     "name": "stdout",
     "output_type": "stream",
     "text": [
      "CPU times: user 2 µs, sys: 1e+03 ns, total: 3 µs\n",
      "Wall time: 5.72 µs\n",
      "Loading model from  /Users/Napp/Desktop/Vectors/wiki.om.bin\n"
     ]
    },
    {
     "name": "stderr",
     "output_type": "stream",
     "text": [
      "Warning : `load_model` does not return WordVectorModel or SupervisedModel any more, but a `FastText` object which is very similar.\n"
     ]
    }
   ],
   "source": [
    "%time\n",
    "lang = \"om\"\n",
    "model_name = f\"wiki.{lang}.bin\" # the model file (should be the same, ending by '.bin')\n",
    "model = load_model(model_name)"
   ]
  },
  {
   "cell_type": "code",
   "execution_count": 291,
   "id": "b08755c1",
   "metadata": {},
   "outputs": [
    {
     "data": {
      "text/plain": [
       "(-0.035285197, -0.080016725, 0.044731528, 0.8241508)"
      ]
     },
     "execution_count": 291,
     "metadata": {},
     "output_type": "execute_result"
    }
   ],
   "source": [
    "#Google\n",
    "A = [\"dhiira\", \"dhiira\", \"gurbaa\", \"obboleessa\", \"inni\", \"isa\", \"isa\", \"ilma\"]\n",
    "B = [\"dubartii\", \"dubartii\", \"intala\", \"obboleettii\", \"isheen\", \"ishee\", \"ishee\", \"intala\"]\n",
    "X = [\"hojii gaggeessaa\", \"hoggansa\", \"ogeessa\", \"korporeeshinii\", \"mindaa\", \"waajjira\", \"daldala\", \"hojii\"]\n",
    "Y = [\"mana\", \"warra\", \"ijoollee\", \"maatii\", \"ajoollee obboleessa\", \"fuudhaa fi heeruma\", \"cidha\", \"firoota\"]\n",
    "\n",
    "\n",
    "weat_x, weat_y, weat, weat_es = weat_score(X, Y, A, B, model)\n",
    "weat_x, weat_y, weat, weat_es"
   ]
  },
  {
   "cell_type": "code",
   "execution_count": 292,
   "id": "ac0075b9",
   "metadata": {},
   "outputs": [
    {
     "data": {
      "text/plain": [
       "(-0.0212693, -0.027892858, 0.0066235587, 0.12693898)"
      ]
     },
     "execution_count": 292,
     "metadata": {},
     "output_type": "execute_result"
    }
   ],
   "source": [
    "#Google\n",
    "A = [\"dhiira\", \"dhiira\", \"gurbaa\", \"obboleessa\", \"inni\", \"isa\", \"isa\", \"ilma\"]\n",
    "B = [\"dubartii\", \"dubartii\", \"intala\", \"obboleettii\", \"isheen\", \"ishee\", \"ishee\", \"intala\"]\n",
    "X = [\"herrega\", \"aljebraa\", \"ji'oomeetirii\", \"kalkulasii\", \"walqixxaattoowwan\", \"shallaggii\", \"lakkoofsota\", \"dabala\"]\n",
    "Y = [\"walaloo\", \"aartii\", \"shubbisa\", \"ogbarruu\", \"asoosama\", \"simfooni\", \"diraamaa\", \"siidaa\"]\n",
    "\n",
    "\n",
    "weat_x, weat_y, weat, weat_es = weat_score(X, Y, A, B, model)\n",
    "weat_x, weat_y, weat, weat_es"
   ]
  },
  {
   "cell_type": "code",
   "execution_count": 293,
   "id": "dc2e285d",
   "metadata": {},
   "outputs": [
    {
     "data": {
      "text/plain": [
       "(-0.23518199, -0.21616504, -0.019016951, -0.37768945)"
      ]
     },
     "execution_count": 293,
     "metadata": {},
     "output_type": "execute_result"
    }
   ],
   "source": [
    "#Google\n",
    "A = [\"dhiira\", \"dhiira\", \"gurbaa\", \"obboleessa\", \"inni\", \"isa\", \"isa\", \"ilma\"]\n",
    "B = [\"dubartii\", \"dubartii\", \"intala\", \"obboleettii\", \"isheen\", \"ishee\", \"ishee\", \"intala\"]\n",
    "X = [\"saayinsii\", \"teknooloojii\", \"fiiziksii\", \"keemistirii\", \"Einstein\", \"NASA\", \"yaalii\", \"astronomy\"]\n",
    "Y = [\"walaloo\", \"aartii\", \"Sheekspir\", \"shubbisa\", \"ogbarruu\", \"asoosama\", \"simfooni\", \"diraamaa\"]\n",
    "\n",
    "weat_x, weat_y, weat, weat_es = weat_score(X, Y, A, B, model)\n",
    "weat_x, weat_y, weat, weat_es"
   ]
  },
  {
   "cell_type": "markdown",
   "id": "b45b20ae",
   "metadata": {},
   "source": [
    "## Pashto, ps"
   ]
  },
  {
   "cell_type": "code",
   "execution_count": 218,
   "id": "a1c5de4b",
   "metadata": {
    "scrolled": true
   },
   "outputs": [
    {
     "name": "stdout",
     "output_type": "stream",
     "text": [
      "CPU times: user 2 µs, sys: 1e+03 ns, total: 3 µs\n",
      "Wall time: 6.2 µs\n",
      "Loading model from  /Users/Napp/Desktop/Vectors/wiki.ps.bin\n"
     ]
    },
    {
     "name": "stderr",
     "output_type": "stream",
     "text": [
      "Warning : `load_model` does not return WordVectorModel or SupervisedModel any more, but a `FastText` object which is very similar.\n"
     ]
    }
   ],
   "source": [
    "%time\n",
    "lang = \"ps\"\n",
    "model_name = f\"wiki.{lang}.bin\" # the model file (should be the same, ending by '.bin')\n",
    "model = load_model(model_name)"
   ]
  },
  {
   "cell_type": "code",
   "execution_count": 219,
   "id": "318577c0",
   "metadata": {},
   "outputs": [
    {
     "data": {
      "text/plain": [
       "(-0.019136813, -0.07621436, 0.057077546, 0.5709746)"
      ]
     },
     "execution_count": 219,
     "metadata": {},
     "output_type": "execute_result"
    }
   ],
   "source": [
    "#Google\n",
    "A = [\"نارینه\", \"سړی\", \"هلک\", \"ورور\", \"هغه\", \"هغه\", \"هغه\", \"زوی\"]\n",
    "B = [\"ښځه\", \"ښځه\", \"نجلۍ\", \"خور\", \"هغه\", \"هغې\", \"د هغې\", \"لور\"]\n",
    "X = [\"اجرائیه\", \"مدیریت\", \"مسلکي\", \"کارپوریشن\", \"تنخواه\", \"دفتر\", \"سوداګرۍ\", \"کیریر\"]\n",
    "Y = [\"کور\", \"مور او پلار\", \"ماشومان\", \"کورنۍ\", \"د تره زامن\", \"واده\", \"واده\", \"خپلوانو\"]\n",
    "\n",
    "\n",
    "\n",
    "weat_x, weat_y, weat, weat_es = weat_score(X, Y, A, B, model)\n",
    "weat_x, weat_y, weat, weat_es"
   ]
  },
  {
   "cell_type": "code",
   "execution_count": 220,
   "id": "cdcae4cc",
   "metadata": {},
   "outputs": [
    {
     "data": {
      "text/plain": [
       "(0.005947819, -0.07441243, 0.08036025, 1.0810467)"
      ]
     },
     "execution_count": 220,
     "metadata": {},
     "output_type": "execute_result"
    }
   ],
   "source": [
    "#Google\n",
    "A = [\"نارینه\", \"سړی\", \"هلک\", \"ورور\", \"هغه\", \"هغه\", \"هغه\", \"زوی\"]\n",
    "B = [\"ښځه\", \"ښځه\", \"نجلۍ\", \"خور\", \"هغه\", \"هغې\", \"د هغې\", \"لور\"]\n",
    "X = [\"ریاضی\", \"الجبرا\", \"جیومیټری\", \"حساب\", \"مساوات\", \"حساب\", \"شمیرونه\", \"اضافه\"]\n",
    "Y = [\"شاعري\", \"هنر\", \"نقص\", \"ادب\", \"ناول\", \"سمفوني\", \"ډرامه\", \"مجسمه\"]\n",
    "weat_x, weat_y, weat, weat_es = weat_score(X, Y, A, B, model)\n",
    "weat_x, weat_y, weat, weat_es"
   ]
  },
  {
   "cell_type": "code",
   "execution_count": 221,
   "id": "6b8a5118",
   "metadata": {},
   "outputs": [
    {
     "data": {
      "text/plain": [
       "(-0.0073030572, -0.057551745, 0.05024869, 0.8461095)"
      ]
     },
     "execution_count": 221,
     "metadata": {},
     "output_type": "execute_result"
    }
   ],
   "source": [
    "#Google\n",
    "A = [\"نارینه\" , \"سړی\" , \"هلک\" , \"ورور\" , \"هغه\" , \"هغه\" , \"هغه\" , \"زوی\"]\n",
    "B = [\"ښځه\" , \"ښځه\" , \"نجلۍ\" , \"خور\" , \"هغه\" , \"هغې\" , \"د هغې\" , \"لور\"]\n",
    "X = [\"ساینس\" , \"ټیکنالوژي\" , \"فزیک\" , \"کیمیا\" , \"آینشټاین\" , \"ناسا\" , \"تجربه\" , \"فلکیات\"]\n",
    "Y = [\"شاعري\" , \"هنر\" , \"شکسپير\" , \"نقص\" , \"ادب\" , \"ناول\" , \"سمفوني\" , \"ډرامه\"]\n",
    "\n",
    "weat_x, weat_y, weat, weat_es = weat_score(X, Y, A, B, model)\n",
    "weat_x, weat_y, weat, weat_es"
   ]
  },
  {
   "cell_type": "markdown",
   "id": "6bdbf34d",
   "metadata": {},
   "source": [
    "## Polish, pl"
   ]
  },
  {
   "cell_type": "code",
   "execution_count": 41,
   "id": "178190e5",
   "metadata": {},
   "outputs": [
    {
     "name": "stdout",
     "output_type": "stream",
     "text": [
      "CPU times: user 4 µs, sys: 6 µs, total: 10 µs\n",
      "Wall time: 41 µs\n",
      "Loading model from  /Users/Napp/Desktop/Vectors/wiki.pl.bin\n"
     ]
    },
    {
     "name": "stderr",
     "output_type": "stream",
     "text": [
      "Warning : `load_model` does not return WordVectorModel or SupervisedModel any more, but a `FastText` object which is very similar.\n"
     ]
    }
   ],
   "source": [
    "%time\n",
    "lang = \"pl\"\n",
    "model_name = f\"wiki.{lang}.bin\" # the model file (should be the same, ending by '.bin')\n",
    "model = load_model(model_name)"
   ]
  },
  {
   "cell_type": "code",
   "execution_count": 42,
   "id": "9191bee6",
   "metadata": {},
   "outputs": [
    {
     "data": {
      "text/plain": [
       "(-0.09939465, -0.10405249, 0.004657842, 0.061481956)"
      ]
     },
     "execution_count": 42,
     "metadata": {},
     "output_type": "execute_result"
    }
   ],
   "source": [
    "#Google\n",
    "A = [\"mężczyzna\", \"mężczyzna\", \"chłopiec\", \"brat\", \"on\", \"on\", \"jego\", \"syn\"]\n",
    "B = [\"kobieta\", \"kobieta\", \"dziewczyna\", \"siostra\", \"ona\", \"jej\", \"jej\", \"córka\"]\n",
    "X = [\"dyrektor wykonawczy\", \"kierownictwo\", \"specjalista\", \"korporacja\", \"wynagrodzenie\", \"biuro\", \"biznes\", \"kariera\"]\n",
    "Y = [\"dom\", \"rodzice\", \"dzieci\", \"rodzina\", \"kuzyni\", \"małżeństwo\", \"ślub\", \"krewni\"]\n",
    "\n",
    "weat_x, weat_y, weat, weat_es = weat_score(X, Y, A, B, model)\n",
    "weat_x, weat_y, weat, weat_es"
   ]
  },
  {
   "cell_type": "code",
   "execution_count": 43,
   "id": "f33e0a19",
   "metadata": {},
   "outputs": [
    {
     "data": {
      "text/plain": [
       "(-0.036524847, -0.063362144, 0.026837297, 0.4096692)"
      ]
     },
     "execution_count": 43,
     "metadata": {},
     "output_type": "execute_result"
    }
   ],
   "source": [
    "#Google\n",
    "A = [\"mężczyzna\", \"mężczyzna\", \"chłopiec\", \"brat\", \"on\", \"on\", \"jego\", \"syn\"]\n",
    "B = [\"kobieta\", \"kobieta\", \"dziewczyna\", \"siostra\", \"ona\", \"jej\", \"jej\", \"córka\"]\n",
    "X = [\"matematyka\", \"algebra\", \"geometria\", \"rachunek różniczkowy\", \"równania\", \"obliczenia\", \"liczby\", \"dodawanie\"]\n",
    "Y = [\"poezja\", \"sztuka\", \"taniec\", \"literatura\", \"powieść\", \"symfonia\", \"dramat\", \"rzeźba\"]\n",
    "\n",
    "\n",
    "weat_x, weat_y, weat, weat_es = weat_score(X, Y, A, B, model)\n",
    "weat_x, weat_y, weat, weat_es"
   ]
  },
  {
   "cell_type": "code",
   "execution_count": 44,
   "id": "0a3fe470",
   "metadata": {},
   "outputs": [
    {
     "data": {
      "text/plain": [
       "(-0.032657385, -0.065397695, 0.03274031, 0.70318055)"
      ]
     },
     "execution_count": 44,
     "metadata": {},
     "output_type": "execute_result"
    }
   ],
   "source": [
    "#Google\n",
    "A = [\"mężczyzna\", \"mężczyzna\", \"chłopiec\", \"brat\", \"on\", \"on\", \"jego\", \"syn\"]\n",
    "B = [\"kobieta\", \"kobieta\", \"dziewczyna\", \"siostra\", \"ona\", \"jej\", \"jej\", \"córka\"]\n",
    "X = [\"nauka\", \"technologia\", \"fizyka\", \"chemia\", \"Einstein\", \"NASA\", \"eksperyment\", \"astronomia\"]\n",
    "Y = [\"poezja\", \"sztuka\", \"Szekspir\", \"taniec\", \"literatura\", \"powieść\", \"symfonia\", \"dramat\"]\n",
    "\n",
    "weat_x, weat_y, weat, weat_es = weat_score(X, Y, A, B, model)\n",
    "weat_x, weat_y, weat, weat_es"
   ]
  },
  {
   "cell_type": "markdown",
   "id": "041cd507",
   "metadata": {},
   "source": [
    "## Portuguese, pt"
   ]
  },
  {
   "cell_type": "code",
   "execution_count": 45,
   "id": "3db3de91",
   "metadata": {},
   "outputs": [
    {
     "name": "stdout",
     "output_type": "stream",
     "text": [
      "CPU times: user 3 µs, sys: 5 µs, total: 8 µs\n",
      "Wall time: 21 µs\n",
      "Loading model from  /Users/Napp/Desktop/Vectors/wiki.pt.bin\n"
     ]
    },
    {
     "name": "stderr",
     "output_type": "stream",
     "text": [
      "Warning : `load_model` does not return WordVectorModel or SupervisedModel any more, but a `FastText` object which is very similar.\n"
     ]
    }
   ],
   "source": [
    "%time\n",
    "lang = \"pt\"\n",
    "model_name = f\"wiki.{lang}.bin\" # the model file (should be the same, ending by '.bin')\n",
    "model = load_model(model_name)"
   ]
  },
  {
   "cell_type": "code",
   "execution_count": 46,
   "id": "0bdefc1a",
   "metadata": {},
   "outputs": [
    {
     "data": {
      "text/plain": [
       "(-0.118919164, -0.17900015, 0.06008099, 0.6687151)"
      ]
     },
     "execution_count": 46,
     "metadata": {},
     "output_type": "execute_result"
    }
   ],
   "source": [
    "#Google\n",
    "A = [\"masculino\", \"homem\", \"menino\", \"irmão\", \"ele\", \"dele\", \"dele\", \"filho\"]\n",
    "B = [\"mulher\", \"mulher\", \"menina\", \"irmã\", \"ela\", \"ela\", \"dela\", \"filha\"]\n",
    "X = [\"executivo\", \"gestão\", \"profissional\", \"corporação\", \"salário\", \"escritório\", \"negócio\", \"carreira\"]\n",
    "Y = [\"casa\", \"pais\", \"filhos\", \"família\", \"primos\", \"casamento\", \"casamento\", \"parentes\"]\n",
    "\n",
    "\n",
    "weat_x, weat_y, weat, weat_es = weat_score(X, Y, A, B, model)\n",
    "weat_x, weat_y, weat, weat_es"
   ]
  },
  {
   "cell_type": "code",
   "execution_count": 47,
   "id": "2795e414",
   "metadata": {},
   "outputs": [
    {
     "data": {
      "text/plain": [
       "(-0.033506922, -0.08849141, 0.054984488, 1.071996)"
      ]
     },
     "execution_count": 47,
     "metadata": {},
     "output_type": "execute_result"
    }
   ],
   "source": [
    "#Google\n",
    "A = [\"masculino\", \"homem\", \"menino\", \"irmão\", \"ele\", \"dele\", \"dele\", \"filho\"]\n",
    "B = [\"mulher\", \"mulher\", \"menina\", \"irmã\", \"ela\", \"ela\", \"dela\", \"filha\"]\n",
    "X = [\"matemática\", \"álgebra\", \"geometria\", \"cálculo\", \"equações\", \"cálculo\", \"números\", \"adição\"]\n",
    "Y = [\"poesia\", \"arte\", \"dança\", \"literatura\", \"romance\", \"sinfonia\", \"drama\", \"escultura\"]\n",
    "\n",
    "\n",
    "\n",
    "weat_x, weat_y, weat, weat_es = weat_score(X, Y, A, B, model)\n",
    "weat_x, weat_y, weat, weat_es"
   ]
  },
  {
   "cell_type": "code",
   "execution_count": 48,
   "id": "f5cf6f69",
   "metadata": {},
   "outputs": [
    {
     "data": {
      "text/plain": [
       "(-0.040897362, -0.0614283, 0.02053094, 0.6539254)"
      ]
     },
     "execution_count": 48,
     "metadata": {},
     "output_type": "execute_result"
    }
   ],
   "source": [
    "#Google\n",
    "A = [\"masculino\", \"homem\", \"menino\", \"irmão\", \"ele\", \"dele\", \"dele\", \"filho\"]\n",
    "B = [\"mulher\", \"mulher\", \"menina\", \"irmã\", \"ela\", \"ela\", \"dela\", \"filha\"]\n",
    "X = [\"ciência\", \"tecnologia\", \"física\", \"química\", \"Einstein\", \"NASA\", \"experiência\", \"astronomia\"]\n",
    "Y = [\"poesia\", \"arte\", \"Shakespeare\", \"dança\", \"literatura\", \"romance\", \"sinfonia\", \"drama\"]\n",
    "\n",
    "\n",
    "weat_x, weat_y, weat, weat_es = weat_score(X, Y, A, B, model)\n",
    "weat_x, weat_y, weat, weat_es"
   ]
  },
  {
   "cell_type": "markdown",
   "id": "0ed37e44",
   "metadata": {},
   "source": [
    "## Romanian, ro"
   ]
  },
  {
   "cell_type": "code",
   "execution_count": 49,
   "id": "50a162f0",
   "metadata": {},
   "outputs": [
    {
     "name": "stdout",
     "output_type": "stream",
     "text": [
      "CPU times: user 2 µs, sys: 1 µs, total: 3 µs\n",
      "Wall time: 5.25 µs\n",
      "Loading model from  /Users/Napp/Desktop/Vectors/wiki.ro.bin\n"
     ]
    },
    {
     "name": "stderr",
     "output_type": "stream",
     "text": [
      "Warning : `load_model` does not return WordVectorModel or SupervisedModel any more, but a `FastText` object which is very similar.\n"
     ]
    }
   ],
   "source": [
    "%time\n",
    "lang = \"ro\"\n",
    "model_name = f\"wiki.{lang}.bin\" # the model file (should be the same, ending by '.bin')\n",
    "model = load_model(model_name)"
   ]
  },
  {
   "cell_type": "code",
   "execution_count": 50,
   "id": "03654cd8",
   "metadata": {},
   "outputs": [
    {
     "data": {
      "text/plain": [
       "(-0.06528318, -0.079041205, 0.013758026, 0.20243703)"
      ]
     },
     "execution_count": 50,
     "metadata": {},
     "output_type": "execute_result"
    }
   ],
   "source": [
    "#Google\n",
    "A = [\"bărbat\", \"bărbat\", \"băiat\", \"frate\", \"el\", \"el\", \"al lui\", \"fiu\"]\n",
    "B = [\"femeie\", \"femeie\", \"fata\", \"sora\", \"ea\", \"ea\", \"a ei\", \"fiica\"]\n",
    "X = [\"executiv\", \"conducere\", \"profesional\", \"corporație\", \"salariu\", \"birou\", \"afacere\", \"carieră\"]\n",
    "Y = [\"acasă\", \"părinți\", \"copii\", \"familie\", \"veri\", \"căsătorie\", \"nunta\", \"rude\"]\n",
    "\n",
    "\n",
    "weat_x, weat_y, weat, weat_es = weat_score(X, Y, A, B, model)\n",
    "weat_x, weat_y, weat, weat_es"
   ]
  },
  {
   "cell_type": "code",
   "execution_count": 51,
   "id": "9eaa0ae8",
   "metadata": {},
   "outputs": [
    {
     "data": {
      "text/plain": [
       "(-0.016422888, -0.030469587, 0.014046699, 0.39083737)"
      ]
     },
     "execution_count": 51,
     "metadata": {},
     "output_type": "execute_result"
    }
   ],
   "source": [
    "#Google\n",
    "A = [\"bărbat\", \"bărbat\", \"băiat\", \"frate\", \"el\", \"el\", \"al lui\", \"fiu\"]\n",
    "B = [\"femeie\", \"femeie\", \"fata\", \"sora\", \"ea\", \"ea\", \"a ei\", \"fiica\"]\n",
    "X = [\"matematică\", \"algebră\", \"geometrie\", \"calcul\", \"ecuații\", \"calcul\", \"numere\", \"adunare\"]\n",
    "Y = [\"poezie\", \"artă\", \"dans\", \"literatură\", \"roman\", \"simfonie\", \"dramă\", \"sculptură\"]\n",
    "\n",
    "\n",
    "\n",
    "weat_x, weat_y, weat, weat_es = weat_score(X, Y, A, B, model)\n",
    "weat_x, weat_y, weat, weat_es"
   ]
  },
  {
   "cell_type": "code",
   "execution_count": 52,
   "id": "90b5d9ea",
   "metadata": {},
   "outputs": [
    {
     "data": {
      "text/plain": [
       "(-0.011384573, -0.033918533, 0.02253396, 0.8579312)"
      ]
     },
     "execution_count": 52,
     "metadata": {},
     "output_type": "execute_result"
    }
   ],
   "source": [
    "#Google\n",
    "A = [\"bărbat\", \"bărbat\", \"băiat\", \"frate\", \"el\", \"el\", \"al lui\", \"fiu\"]\n",
    "B = [\"femeie\", \"femeie\", \"fata\", \"sora\", \"ea\", \"ea\", \"a ei\", \"fiica\"]\n",
    "X = [\"știință\", \"tehnologie\", \"fizică\", \"chimie\", \"Einstein\", \"NASA\", \"experiment\", \"astronomie\"]\n",
    "Y = [\"poezie\", \"artă\", \"Shakespeare\", \"dans\", \"literatură\", \"roman\", \"simfonie\", \"dramă\"]\n",
    "\n",
    "\n",
    "weat_x, weat_y, weat, weat_es = weat_score(X, Y, A, B, model)\n",
    "weat_x, weat_y, weat, weat_es"
   ]
  },
  {
   "cell_type": "markdown",
   "id": "5ce45bbd",
   "metadata": {},
   "source": [
    "## Russian, ru"
   ]
  },
  {
   "cell_type": "code",
   "execution_count": 53,
   "id": "a6f94778",
   "metadata": {},
   "outputs": [
    {
     "name": "stdout",
     "output_type": "stream",
     "text": [
      "CPU times: user 2 µs, sys: 0 ns, total: 2 µs\n",
      "Wall time: 5.01 µs\n",
      "Loading model from  /Users/Napp/Desktop/Vectors/wiki.ru.bin\n"
     ]
    },
    {
     "name": "stderr",
     "output_type": "stream",
     "text": [
      "Warning : `load_model` does not return WordVectorModel or SupervisedModel any more, but a `FastText` object which is very similar.\n"
     ]
    }
   ],
   "source": [
    "%time\n",
    "lang = \"ru\"\n",
    "model_name = f\"wiki.{lang}.bin\" # the model file (should be the same, ending by '.bin')\n",
    "model = load_model(model_name)"
   ]
  },
  {
   "cell_type": "code",
   "execution_count": 54,
   "id": "9c9ac7ef",
   "metadata": {},
   "outputs": [
    {
     "data": {
      "text/plain": [
       "(-0.1210562, -0.11672594, -0.0043302625, -0.04371096)"
      ]
     },
     "execution_count": 54,
     "metadata": {},
     "output_type": "execute_result"
    }
   ],
   "source": [
    "#Google\n",
    "\n",
    "A = [\"мужчина\", \"мужчина\", \"мальчик\", \"брат\", \"он\", \"его\", \"его\", \"сын\"]\n",
    "B = [\"женщина\", \"женщина\", \"девушка\", \"сестра\", \"она\", \"ее\", \"её\", \"дочь\"]\n",
    "X = [\"руководитель\", \"управление\", \"профессионал\", \"корпорация\", \"зарплата\", \"офис\", \"бизнес\", \"карьера\"]\n",
    "Y = [\"дом\", \"родители\", \"дети\", \"семья\", \"двоюродные братья\", \"брак\", \"свадьба\", \"родственники\"]\n",
    "\n",
    "\n",
    "weat_x, weat_y, weat, weat_es = weat_score(X, Y, A, B, model)\n",
    "weat_x, weat_y, weat, weat_es"
   ]
  },
  {
   "cell_type": "code",
   "execution_count": 55,
   "id": "61025bec",
   "metadata": {},
   "outputs": [
    {
     "data": {
      "text/plain": [
       "(-0.04170333, -0.06365808, 0.021954753, 0.51457185)"
      ]
     },
     "execution_count": 55,
     "metadata": {},
     "output_type": "execute_result"
    }
   ],
   "source": [
    "#Google\n",
    "\n",
    "A = [\"мужчина\", \"мужчина\", \"мальчик\", \"брат\", \"он\", \"его\", \"его\", \"сын\"]\n",
    "B = [\"женщина\", \"женщина\", \"девушка\", \"сестра\", \"она\", \"ее\", \"её\", \"дочь\"]\n",
    "X = [\"математика\", \"алгебра\", \"геометрия\", \"исчисление\", \"уравнения\", \"вычисление\", \"числа\", \"сложение\"]\n",
    "Y = [\"поэзия\", \"искусство\", \"танец\", \"литература\", \"роман\", \"симфония\", \"драма\", \"скульптура\"]\n",
    "\n",
    "\n",
    "\n",
    "weat_x, weat_y, weat, weat_es = weat_score(X, Y, A, B, model)\n",
    "weat_x, weat_y, weat, weat_es"
   ]
  },
  {
   "cell_type": "code",
   "execution_count": 56,
   "id": "79fdf080",
   "metadata": {},
   "outputs": [
    {
     "data": {
      "text/plain": [
       "(-0.028962767, -0.046272565, 0.017309798, 0.5223992)"
      ]
     },
     "execution_count": 56,
     "metadata": {},
     "output_type": "execute_result"
    }
   ],
   "source": [
    "#Google\n",
    "\n",
    "A = [\"мужчина\", \"мужчина\", \"мальчик\", \"брат\", \"он\", \"его\", \"его\", \"сын\"]\n",
    "B = [\"женщина\", \"женщина\", \"девушка\", \"сестра\", \"она\", \"ее\", \"её\", \"дочь\"]\n",
    "X = [\"наука\", \"технология\", \"физика\", \"химия\", \"Эйнштейн\", \"НАСА\", \"эксперимент\", \"астрономия\"]\n",
    "Y = [\"поэзия\", \"искусство\", \"Шекспир\", \"танец\", \"литература\", \"роман\", \"симфония\", \"драма\"]\n",
    "\n",
    "\n",
    "weat_x, weat_y, weat, weat_es = weat_score(X, Y, A, B, model)\n",
    "weat_x, weat_y, weat, weat_es"
   ]
  },
  {
   "cell_type": "markdown",
   "id": "c5003ad3",
   "metadata": {},
   "source": [
    "## Serbian, sr "
   ]
  },
  {
   "cell_type": "code",
   "execution_count": 57,
   "id": "c1c68881",
   "metadata": {
    "scrolled": false
   },
   "outputs": [
    {
     "name": "stdout",
     "output_type": "stream",
     "text": [
      "CPU times: user 4 µs, sys: 6 µs, total: 10 µs\n",
      "Wall time: 25 µs\n",
      "Loading model from  /Users/Napp/Desktop/Vectors/wiki.sr.bin\n"
     ]
    },
    {
     "name": "stderr",
     "output_type": "stream",
     "text": [
      "Warning : `load_model` does not return WordVectorModel or SupervisedModel any more, but a `FastText` object which is very similar.\n"
     ]
    }
   ],
   "source": [
    "%time\n",
    "lang = \"sr\"\n",
    "model_name = f\"wiki.{lang}.bin\" # the model file (should be the same, ending by '.bin')\n",
    "model = load_model(model_name)"
   ]
  },
  {
   "cell_type": "code",
   "execution_count": 58,
   "id": "26031293",
   "metadata": {},
   "outputs": [
    {
     "data": {
      "text/plain": [
       "(-0.086632766, -0.07976464, -0.006868124, -0.11419219)"
      ]
     },
     "execution_count": 58,
     "metadata": {},
     "output_type": "execute_result"
    }
   ],
   "source": [
    "#Google\n",
    "\n",
    "A = [\"мушко\", \"мушко\", \"дечак\", \"брат\", \"он\", \"он\", \"његов\", \"син\"]\n",
    "B = [\"женско\", \"жена\", \"девојка\", \"сестра\", \"она\", \"она\", \"њена\", \"ћерка\"]\n",
    "X = [\"извршни\", \"менаџмент\", \"професионалац\", \"корпорација\", \"плата\", \"канцеларија\", \"посао\", \"каријера\"]\n",
    "Y = [\"дом\", \"родитељи\", \"деца\", \"породица\", \"рођаци\", \"брак\", \"венчање\", \"рођаци\"]\n",
    "\n",
    "weat_x, weat_y, weat, weat_es = weat_score(X, Y, A, B, model)\n",
    "weat_x, weat_y, weat, weat_es"
   ]
  },
  {
   "cell_type": "code",
   "execution_count": 59,
   "id": "b46f3491",
   "metadata": {},
   "outputs": [
    {
     "data": {
      "text/plain": [
       "(-0.024712283, -0.03605091, 0.011338625, 0.34575614)"
      ]
     },
     "execution_count": 59,
     "metadata": {},
     "output_type": "execute_result"
    }
   ],
   "source": [
    "#Google\n",
    "A = [\"мушко\", \"мушко\", \"дечак\", \"брат\", \"он\", \"он\", \"његов\", \"син\"]\n",
    "B = [\"женско\", \"жена\", \"девојка\", \"сестра\", \"она\", \"она\", \"њена\", \"ћерка\"]\n",
    "X = [\"математика\", \"алгебра\", \"геометрија\", \"рачун\", \"једначине\", \"рачунање\", \"бројеви\", \"сабирање\"]\n",
    "Y = [\"поезија\", \"уметност\", \"плес\", \"књижевност\", \"роман\", \"симфонија\", \"драма\", \"скулптура\"]\n",
    "\n",
    "\n",
    "\n",
    "weat_x, weat_y, weat, weat_es = weat_score(X, Y, A, B, model)\n",
    "weat_x, weat_y, weat, weat_es"
   ]
  },
  {
   "cell_type": "code",
   "execution_count": 60,
   "id": "06696327",
   "metadata": {},
   "outputs": [
    {
     "data": {
      "text/plain": [
       "(-0.024750642, -0.020717511, -0.0040331315, -0.17652985)"
      ]
     },
     "execution_count": 60,
     "metadata": {},
     "output_type": "execute_result"
    }
   ],
   "source": [
    "#Google\n",
    "\n",
    "A = [\"мушко\", \"мушко\", \"дечак\", \"брат\", \"он\", \"он\", \"његов\", \"син\"]\n",
    "B = [\"женско\", \"жена\", \"девојка\", \"сестра\", \"она\", \"она\", \"њена\", \"ћерка\"]\n",
    "X = [\"наука\", \"технологија\", \"физика\", \"хемија\", \"Ајнштајн\", \"НАСА\", \"експеримент\", \"астрономија\"]\n",
    "Y = [\"поезија\", \"уметност\", \"Шекспир\", \"плес\", \"књижевност\", \"роман\", \"симфонија\", \"драма\"]\n",
    "\n",
    "\n",
    "weat_x, weat_y, weat, weat_es = weat_score(X, Y, A, B, model)\n",
    "weat_x, weat_y, weat, weat_es"
   ]
  },
  {
   "cell_type": "markdown",
   "id": "58fa6275",
   "metadata": {},
   "source": [
    "## Serbo Croatian, sh"
   ]
  },
  {
   "cell_type": "code",
   "execution_count": 282,
   "id": "f40ae989",
   "metadata": {},
   "outputs": [
    {
     "name": "stdout",
     "output_type": "stream",
     "text": [
      "CPU times: user 3 µs, sys: 1e+03 ns, total: 4 µs\n",
      "Wall time: 4.77 µs\n",
      "Loading model from  /Users/Napp/Desktop/Vectors/wiki.sh.bin\n"
     ]
    },
    {
     "name": "stderr",
     "output_type": "stream",
     "text": [
      "Warning : `load_model` does not return WordVectorModel or SupervisedModel any more, but a `FastText` object which is very similar.\n"
     ]
    }
   ],
   "source": [
    "%time\n",
    "lang = \"sh\"\n",
    "model_name = f\"wiki.{lang}.bin\" # the model file (should be the same, ending by '.bin')\n",
    "model = load_model(model_name)"
   ]
  },
  {
   "cell_type": "code",
   "execution_count": 283,
   "id": "e4ffc132",
   "metadata": {},
   "outputs": [
    {
     "data": {
      "text/plain": [
       "(-0.060940865, -0.071212746, 0.010271881, 0.14330305)"
      ]
     },
     "execution_count": 283,
     "metadata": {},
     "output_type": "execute_result"
    }
   ],
   "source": [
    "#ChatGPT\n",
    "A = [\"muški\", \"čovek\", \"dečak\", \"brat\", \"on\", \"njega\", \"njegov\", \"sin\"] \n",
    "B = [\"ženski\", \"žena\", \"devojčica\", \"sestra\", \"ona\", \"nju\", \"njen\", \"ćerka\"] \n",
    "X = [\"izvršni\", \"upravljanje\", \"stručnjak\", \"korporacija\", \"plata\", \"kancelarija\", \"posao\", \"karijera\"] \n",
    "Y = [\"dom\", \"roditelji\", \"deca\", \"porodica\", \"rođaci\", \"brak\", \"venčanje\", \"rodbina\"]\n",
    "\n",
    "\n",
    "\n",
    "weat_x, weat_y, weat, weat_es = weat_score(X, Y, A, B, model)\n",
    "weat_x, weat_y, weat, weat_es"
   ]
  },
  {
   "cell_type": "code",
   "execution_count": 284,
   "id": "2e8fab11",
   "metadata": {},
   "outputs": [
    {
     "data": {
      "text/plain": [
       "(-0.012987649, -0.014923632, 0.0019359831, 0.065303765)"
      ]
     },
     "execution_count": 284,
     "metadata": {},
     "output_type": "execute_result"
    }
   ],
   "source": [
    "#ChatGPT\n",
    "A = [\"muški\", \"čovek\", \"dečak\", \"brat\", \"on\", \"njega\", \"njegov\", \"sin\"] \n",
    "B = [\"ženski\", \"žena\", \"devojčica\", \"sestra\", \"ona\", \"nju\", \"njen\", \"ćerka\"] \n",
    "X = [\"matematika\", \"algebra\", \"geometrija\", \"analitička geometrija\", \"jednačine\", \"računanje\", \"brojevi\", \"sabiranje\"] \n",
    "Y = [\"poezija\", \"umjetnost\", \"ples\", \"književnost\", \"roman\", \"simfonija\", \"drama\", \"skulptura\"]\n",
    "\n",
    "\n",
    "weat_x, weat_y, weat, weat_es = weat_score(X, Y, A, B, model)\n",
    "weat_x, weat_y, weat, weat_es"
   ]
  },
  {
   "cell_type": "code",
   "execution_count": 285,
   "id": "f8944cb2",
   "metadata": {},
   "outputs": [
    {
     "data": {
      "text/plain": [
       "(-0.060940865, -0.071212746, 0.010271881, 0.14330305)"
      ]
     },
     "execution_count": 285,
     "metadata": {},
     "output_type": "execute_result"
    }
   ],
   "source": [
    "#ChatGPT\n",
    "A = [\"muški\", \"čovek\", \"dečak\", \"brat\", \"on\", \"njega\", \"njegov\", \"sin\"] \n",
    "B = [\"ženski\", \"žena\", \"devojčica\", \"sestra\", \"ona\", \"nju\", \"njen\", \"ćerka\"] \n",
    "X = [\"izvršni\", \"upravljanje\", \"stručnjak\", \"korporacija\", \"plata\", \"kancelarija\", \"posao\", \"karijera\"] \n",
    "Y = [\"dom\", \"roditelji\", \"deca\", \"porodica\", \"rođaci\", \"brak\", \"venčanje\", \"rodbina\"]\n",
    "\n",
    "\n",
    "weat_x, weat_y, weat, weat_es = weat_score(X, Y, A, B, model)\n",
    "weat_x, weat_y, weat, weat_es"
   ]
  },
  {
   "cell_type": "markdown",
   "id": "7252c4b1",
   "metadata": {},
   "source": [
    "## Shona, sn"
   ]
  },
  {
   "cell_type": "code",
   "execution_count": 318,
   "id": "1f003403",
   "metadata": {},
   "outputs": [
    {
     "name": "stdout",
     "output_type": "stream",
     "text": [
      "CPU times: user 3 µs, sys: 1e+03 ns, total: 4 µs\n",
      "Wall time: 5.01 µs\n",
      "Loading model from  /Users/Napp/Desktop/Vectors/wiki.sn.bin\n"
     ]
    },
    {
     "name": "stderr",
     "output_type": "stream",
     "text": [
      "Warning : `load_model` does not return WordVectorModel or SupervisedModel any more, but a `FastText` object which is very similar.\n"
     ]
    }
   ],
   "source": [
    "%time\n",
    "lang = \"sn\"\n",
    "model_name = f\"wiki.{lang}.bin\" # the model file (should be the same, ending by '.bin')\n",
    "model = load_model(model_name)"
   ]
  },
  {
   "cell_type": "code",
   "execution_count": 319,
   "id": "2e50d7d4",
   "metadata": {},
   "outputs": [
    {
     "data": {
      "text/plain": [
       "(-0.0804705, -0.10361007, 0.023139566, 0.57308143)"
      ]
     },
     "execution_count": 319,
     "metadata": {},
     "output_type": "execute_result"
    }
   ],
   "source": [
    "#Google\n",
    "A = [\"murume\", \"murume\", \"mukomana\", \"mukoma\", \"iye\", \"iye\", \"wake\", \"mwanakomana\"]\n",
    "B = [\"mukadzi\", \"mukadzi\", \"musikana\", \"hanzvadzi\", \"iye\", \"iye\", \"wake\", \"mwanasikana\"]\n",
    "X = [\"mukuru\", \"management\", \"nyanzvi\", \"corporation\", \"muhoro\", \"hofisi\", \"bhizinesi\", \"basa\"]\n",
    "Y = [\"kumba\", \"vabereki\", \"vana\", \"mhuri\", \"vazukuru\", \"wanano\", \"muchato\", \"hama\"]\n",
    "\n",
    "\n",
    "weat_x, weat_y, weat, weat_es = weat_score(X, Y, A, B, model)\n",
    "weat_x, weat_y, weat, weat_es"
   ]
  },
  {
   "cell_type": "code",
   "execution_count": 320,
   "id": "0ac02b92",
   "metadata": {},
   "outputs": [
    {
     "data": {
      "text/plain": [
       "(-0.158111, -0.16056591, 0.0024549067, 0.11710297)"
      ]
     },
     "execution_count": 320,
     "metadata": {},
     "output_type": "execute_result"
    }
   ],
   "source": [
    "#Google\n",
    "A = [\"murume\", \"murume\", \"mukomana\", \"mukoma\", \"iye\", \"iye\", \"wake\", \"mwanakomana\"]\n",
    "B = [\"mukadzi\", \"mukadzi\", \"musikana\", \"hanzvadzi\", \"iye\", \"iye\", \"wake\", \"mwanasikana\"]\n",
    "X = [\"masvomhu\", \"algebra\", \"geometry\", \"calculus\", \"equations\", \"computation\", \"nhamba\", \"kuwedzera\"]\n",
    "Y = [\"nhetembo\", \"unyanzvi\", \"kutamba\", \"mabhuku\", \"novel\", \"symphony\", \"drama\", \"sculpture\"]\n",
    "\n",
    "weat_x, weat_y, weat, weat_es = weat_score(X, Y, A, B, model)\n",
    "weat_x, weat_y, weat, weat_es"
   ]
  },
  {
   "cell_type": "code",
   "execution_count": 321,
   "id": "4ac59d59",
   "metadata": {},
   "outputs": [
    {
     "data": {
      "text/plain": [
       "(-0.16354099, -0.17634511, 0.012804121, 0.6046374)"
      ]
     },
     "execution_count": 321,
     "metadata": {},
     "output_type": "execute_result"
    }
   ],
   "source": [
    "#Google\n",
    "A = [\"murume\", \"murume\", \"mukomana\", \"mukoma\", \"iye\", \"iye\", \"wake\", \"mwanakomana\"]\n",
    "B = [\"mukadzi\", \"mukadzi\", \"musikana\", \"hanzvadzi\", \"iye\", \"iye\", \"wake\", \"mwanasikana\"]\n",
    "X = [\"sainzi\", \"teknolojia\", \"fizikisi\", \"chemistry\", \"Einstein\", \"NASA\", \"kuedza\", \"kuongorora nyeredzi\"]\n",
    "Y = [\"nhetembo\", \"unyanzvi\", \"Shakespeare\", \"kutamba\", \"mabhuku\", \"novel\", \"symphony\", \"drama\"]\n",
    "\n",
    "weat_x, weat_y, weat, weat_es = weat_score(X, Y, A, B, model)\n",
    "weat_x, weat_y, weat, weat_es"
   ]
  },
  {
   "cell_type": "markdown",
   "id": "ee2cfe81",
   "metadata": {},
   "source": [
    "## Sinhalese, si"
   ]
  },
  {
   "cell_type": "code",
   "execution_count": 266,
   "id": "c9769f5a",
   "metadata": {},
   "outputs": [
    {
     "name": "stdout",
     "output_type": "stream",
     "text": [
      "CPU times: user 3 µs, sys: 6 µs, total: 9 µs\n",
      "Wall time: 25.3 µs\n",
      "Loading model from  /Users/Napp/Desktop/Vectors/wiki.si.bin\n"
     ]
    },
    {
     "name": "stderr",
     "output_type": "stream",
     "text": [
      "Warning : `load_model` does not return WordVectorModel or SupervisedModel any more, but a `FastText` object which is very similar.\n"
     ]
    }
   ],
   "source": [
    "%time\n",
    "lang = \"si\"\n",
    "model_name = f\"wiki.{lang}.bin\" # the model file (should be the same, ending by '.bin')\n",
    "model = load_model(model_name)"
   ]
  },
  {
   "cell_type": "code",
   "execution_count": 267,
   "id": "3ff593f9",
   "metadata": {},
   "outputs": [
    {
     "data": {
      "text/plain": [
       "(-0.10267039, -0.14827597, 0.045605585, 0.6382429)"
      ]
     },
     "execution_count": 267,
     "metadata": {},
     "output_type": "execute_result"
    }
   ],
   "source": [
    "#Google\n",
    "A = [\"පිරිමි\", \"මිනිසා\", \"පිරිමි ළමයා\", \"සහෝදරයා\", \"ඔහු\", \"ඔහු\", \"ඔහුගේ\", \"පුතා\"]\n",
    "B = [\"ගැහැණු\", \"කාන්තාව\", \"ගැහැණු ළමයා\", \"සහෝදරිය\", \"ඇය\", \"ඇය\", \"ඇගේ\", \"දියණිය\"]\n",
    "X = [\"විධායක\", \"කළමනාකරණය\", \"වෘත්තීය\", \"සංස්ථා\", \"වැටුප්\", \"කාර්යාලය\", \"ව්‍යාපාර\", \"වෘත්තිය\"]\n",
    "Y = [\"නිවස\", \"දෙමව්පියන්\", \"දරුවන්\", \"පවුල\", \"ඥාති සහෝදරියන්\", \"විවාහය\", \"විවාහය\", \"ඥාතීන්\"]\n",
    "\n",
    "\n",
    "\n",
    "weat_x, weat_y, weat, weat_es = weat_score(X, Y, A, B, model)\n",
    "weat_x, weat_y, weat, weat_es"
   ]
  },
  {
   "cell_type": "code",
   "execution_count": 268,
   "id": "23c8b4ce",
   "metadata": {},
   "outputs": [
    {
     "data": {
      "text/plain": [
       "(-0.05845545, -0.102751546, 0.044296097, 1.1057762)"
      ]
     },
     "execution_count": 268,
     "metadata": {},
     "output_type": "execute_result"
    }
   ],
   "source": [
    "#Google\n",
    "A = [\"පිරිමි\", \"මිනිසා\", \"පිරිමි ළමයා\", \"සහෝදරයා\", \"ඔහු\", \"ඔහු\", \"ඔහුගේ\", \"පුතා\"]\n",
    "B = [\"ගැහැණු\", \"කාන්තාව\", \"ගැහැණු ළමයා\", \"සහෝදරිය\", \"ඇය\", \"ඇය\", \"ඇගේ\", \"දියණිය\"]\n",
    "X = [\"ගණිතය\", \"වීජ ගණිතය\", \"ජ්‍යාමිතිය\", \"ගණනය\", \"සමීකරණ\", \"ගණනය\", \"සංඛ්‍යා\", \"එකතු කිරීම\"]\n",
    "Y = [\"කවි\", \"කලාව\", \"නර්ථනය\", \"සාහිත්‍යය\", \"නවකතාව\", \"සංධ්‍යව\", \"නාට්‍ය\", \"මුර්ති\"]\n",
    "\n",
    "\n",
    "\n",
    "weat_x, weat_y, weat, weat_es = weat_score(X, Y, A, B, model)\n",
    "weat_x, weat_y, weat, weat_es"
   ]
  },
  {
   "cell_type": "code",
   "execution_count": 269,
   "id": "226596aa",
   "metadata": {},
   "outputs": [
    {
     "data": {
      "text/plain": [
       "(-0.03877986, -0.06861496, 0.029835101, 0.6771141)"
      ]
     },
     "execution_count": 269,
     "metadata": {},
     "output_type": "execute_result"
    }
   ],
   "source": [
    "#Google\n",
    "A = [\"පිරිමි\", \"මිනිසා\", \"පිරිමි ළමයා\", \"සහෝදරයා\", \"ඔහු\", \"ඔහු\", \"ඔහුගේ\", \"පුතා\"]\n",
    "B = [\"ගැහැණු\", \"කාන්තාව\", \"ගැහැණු ළමයා\", \"සහෝදරිය\", \"ඇය\", \"ඇය\", \"ඇගේ\", \"දියණිය\"]\n",
    "X = [\"විද්‍යාව\", \"තාක්‍ෂණය\", \"භෞතික විද්‍යාව\", \"රසායන විද්‍යාව\", \"අයින්ස්ටයින්\", \"නාසා\", \"පරීක්ෂණ\", \"තාරකා විද්‍යාව\"]\n",
    "Y = [\"කවි\", \"කලාව\", \"ෂේක්ස්පියර්\", \"නැටුම්\", \"සාහිත්‍යය\", \"නවකතාව\", \"සංධ්‍යාව\", \"නාට්‍ය\"]\n",
    "\n",
    "\n",
    "weat_x, weat_y, weat, weat_es = weat_score(X, Y, A, B, model)\n",
    "weat_x, weat_y, weat, weat_es"
   ]
  },
  {
   "cell_type": "markdown",
   "id": "762f4f2c",
   "metadata": {},
   "source": [
    "## Slovak, sk"
   ]
  },
  {
   "cell_type": "code",
   "execution_count": 61,
   "id": "c8f4edc3",
   "metadata": {
    "scrolled": false
   },
   "outputs": [
    {
     "name": "stdout",
     "output_type": "stream",
     "text": [
      "CPU times: user 4 µs, sys: 10 µs, total: 14 µs\n",
      "Wall time: 26.2 µs\n",
      "Loading model from  /Users/Napp/Desktop/Vectors/wiki.sk.bin\n"
     ]
    },
    {
     "name": "stderr",
     "output_type": "stream",
     "text": [
      "Warning : `load_model` does not return WordVectorModel or SupervisedModel any more, but a `FastText` object which is very similar.\n"
     ]
    }
   ],
   "source": [
    "%time\n",
    "lang = \"sk\"\n",
    "model_name = f\"wiki.{lang}.bin\" # the model file (should be the same, ending by '.bin')\n",
    "model = load_model(model_name)"
   ]
  },
  {
   "cell_type": "code",
   "execution_count": 62,
   "id": "6a851e4b",
   "metadata": {},
   "outputs": [
    {
     "data": {
      "text/plain": [
       "(-0.0848336, -0.12246777, 0.03763417, 0.58953816)"
      ]
     },
     "execution_count": 62,
     "metadata": {},
     "output_type": "execute_result"
    }
   ],
   "source": [
    "#Google\n",
    "A = [\"muž\", \"muž\", \"chlapec\", \"brat\", \"on\", \"on\", \"jeho\", \"syn\"]\n",
    "B = [\"žena\", \"žena\", \"dievča\", \"sestra\", \"ona\", \"jej\", \"jej\", \"dcéra\"]\n",
    "X = [\"výkonný pracovník\", \"manažment\", \"profesionál\", \"korporácia\", \"plat\", \"kancelária\", \"obchod\", \"kariéra\"]\n",
    "Y = [\"domov\", \"rodičia\", \"deti\", \"rodina\", \"bratranci\", \"manželstvo\", \"svadba\", \"príbuzní\"]\n",
    "\n",
    "\n",
    "weat_x, weat_y, weat, weat_es = weat_score(X, Y, A, B, model)\n",
    "weat_x, weat_y, weat, weat_es"
   ]
  },
  {
   "cell_type": "code",
   "execution_count": 63,
   "id": "42ba3f62",
   "metadata": {},
   "outputs": [
    {
     "data": {
      "text/plain": [
       "(-0.058238856, -0.07570197, 0.01746311, 0.41377112)"
      ]
     },
     "execution_count": 63,
     "metadata": {},
     "output_type": "execute_result"
    }
   ],
   "source": [
    "#Google\n",
    "A = [\"muž\", \"muž\", \"chlapec\", \"brat\", \"on\", \"jeho\", \"jeho\", \"syn\"]\n",
    "B = [\"žena\", \"žena\", \"dievča\", \"sestra\", \"ona\", \"jej\", \"jej\", \"dcéra\"]\n",
    "X = [\"matematika\", \"algebra\", \"geometria\", \"počet\", \"rovnice\", \"výpočet\", \"čísla\", \"sčítanie\"]\n",
    "Y = [\"poézia\", \"umenie\", \"tanec\", \"literatúra\", \"román\", \"symfónia\", \"dráma\", \"socha\"]\n",
    "\n",
    "\n",
    "\n",
    "weat_x, weat_y, weat, weat_es = weat_score(X, Y, A, B, model)\n",
    "weat_x, weat_y, weat, weat_es"
   ]
  },
  {
   "cell_type": "code",
   "execution_count": 64,
   "id": "bc42e243",
   "metadata": {},
   "outputs": [
    {
     "data": {
      "text/plain": [
       "(-0.030635599, -0.042062555, 0.011426955, 0.371712)"
      ]
     },
     "execution_count": 64,
     "metadata": {},
     "output_type": "execute_result"
    }
   ],
   "source": [
    "#Google\n",
    "A = [\"muž\", \"muž\", \"chlapec\", \"brat\", \"on\", \"on\", \"jeho\", \"syn\"]\n",
    "B = [\"žena\", \"žena\", \"dievča\", \"sestra\", \"ona\", \"jej\", \"jej\", \"dcéra\"]\n",
    "X = [\"veda\", \"technológia\", \"fyzika\", \"chémia\", \"Einstein\", \"NASA\", \"experiment\", \"astronómia\"]\n",
    "Y = [\"poézia\", \"umenie\", \"Shakespeare\", \"tanec\", \"literatúra\", \"román\", \"symfónia\", \"dráma\"]\n",
    "\n",
    "\n",
    "weat_x, weat_y, weat, weat_es = weat_score(X, Y, A, B, model)\n",
    "weat_x, weat_y, weat, weat_es"
   ]
  },
  {
   "cell_type": "markdown",
   "id": "63c8fda9",
   "metadata": {},
   "source": [
    "## Slovene, sl"
   ]
  },
  {
   "cell_type": "code",
   "execution_count": 158,
   "id": "ec9b3b3d",
   "metadata": {},
   "outputs": [
    {
     "name": "stdout",
     "output_type": "stream",
     "text": [
      "CPU times: user 3 µs, sys: 0 ns, total: 3 µs\n",
      "Wall time: 5.96 µs\n",
      "Loading model from  /Users/Napp/Desktop/Vectors/wiki.sl.bin\n"
     ]
    },
    {
     "name": "stderr",
     "output_type": "stream",
     "text": [
      "Warning : `load_model` does not return WordVectorModel or SupervisedModel any more, but a `FastText` object which is very similar.\n"
     ]
    }
   ],
   "source": [
    "%time\n",
    "lang = \"sl\"\n",
    "model_name = f\"wiki.{lang}.bin\" # the model file (should be the same, ending by '.bin')\n",
    "model = load_model(model_name)"
   ]
  },
  {
   "cell_type": "code",
   "execution_count": 159,
   "id": "99e20d8d",
   "metadata": {},
   "outputs": [
    {
     "data": {
      "text/plain": [
       "(-0.0862842, -0.0632256, -0.0230586, -0.44909096)"
      ]
     },
     "execution_count": 159,
     "metadata": {},
     "output_type": "execute_result"
    }
   ],
   "source": [
    "#Google\n",
    "A = [\"moški\", \"moški\", \"fant\", \"brat\", \"on\", \"on\", \"njegov\", \"sin\"]\n",
    "B = [\"ženska\", \"ženska\", \"dekle\", \"sestra\", \"ona\", \"njena\", \"njena\", \"hči\"]\n",
    "X = [\"izvršni\", \"uprava\", \"poklicni\", \"družba\", \"plača\", \"pisarna\", \"posel\", \"kariera\"]\n",
    "Y = [\"dom\", \"starši\", \"otroci\", \"družina\", \"bratranci\", \"poroka\", \"poroka\", \"sorodniki\"]\n",
    "\n",
    "\n",
    "weat_x, weat_y, weat, weat_es = weat_score(X, Y, A, B, model)\n",
    "weat_x, weat_y, weat, weat_es"
   ]
  },
  {
   "cell_type": "code",
   "execution_count": 160,
   "id": "d1cc4833",
   "metadata": {},
   "outputs": [
    {
     "data": {
      "text/plain": [
       "(-0.015269211, -0.043909755, 0.028640544, 0.92692477)"
      ]
     },
     "execution_count": 160,
     "metadata": {},
     "output_type": "execute_result"
    }
   ],
   "source": [
    "#Google\n",
    "A = [\"moški\", \"moški\", \"fant\", \"brat\", \"on\", \"on\", \"njegov\", \"sin\"]\n",
    "B = [\"ženska\", \"ženska\", \"dekle\", \"sestra\", \"ona\", \"njena\", \"njena\", \"hči\"]\n",
    "X = [\"matematika\", \"algebra\", \"geometrija\", \"račun\", \"enačbe\", \"računanje\", \"števila\", \"seštevanje\"]\n",
    "Y = [\"poezija\", \"umetnost\", \"ples\", \"literatura\", \"roman\", \"simfonija\", \"drama\", \"kiparstvo\"]\n",
    "\n",
    "\n",
    "\n",
    "weat_x, weat_y, weat, weat_es = weat_score(X, Y, A, B, model)\n",
    "weat_x, weat_y, weat, weat_es"
   ]
  },
  {
   "cell_type": "code",
   "execution_count": 161,
   "id": "029180e5",
   "metadata": {},
   "outputs": [
    {
     "data": {
      "text/plain": [
       "(-0.007204814, -0.029954767, 0.022749953, 0.65878874)"
      ]
     },
     "execution_count": 161,
     "metadata": {},
     "output_type": "execute_result"
    }
   ],
   "source": [
    "#Google\n",
    "A = [\"moški\", \"moški\", \"fant\", \"brat\", \"on\", \"on\", \"njegov\", \"sin\"]\n",
    "B = [\"ženska\", \"ženska\", \"dekle\", \"sestra\", \"ona\", \"njena\", \"njena\", \"hči\"]\n",
    "X = [\"znanost\", \"tehnologija\", \"fizika\", \"kemija\", \"Einstein\", \"NASA\", \"eksperiment\", \"astronomija\"]\n",
    "Y = [\"poezija\", \"umetnost\", \"Shakespeare\", \"ples\", \"literatura\", \"roman\", \"simfonija\", \"drama\"]\n",
    "\n",
    "\n",
    "weat_x, weat_y, weat, weat_es = weat_score(X, Y, A, B, model)\n",
    "weat_x, weat_y, weat, weat_es"
   ]
  },
  {
   "cell_type": "markdown",
   "id": "053ef9b0",
   "metadata": {},
   "source": [
    "## Somali, so"
   ]
  },
  {
   "cell_type": "code",
   "execution_count": 226,
   "id": "a96a580c",
   "metadata": {
    "scrolled": true
   },
   "outputs": [
    {
     "name": "stdout",
     "output_type": "stream",
     "text": [
      "CPU times: user 2 µs, sys: 1e+03 ns, total: 3 µs\n",
      "Wall time: 6.2 µs\n",
      "Loading model from  /Users/Napp/Desktop/Vectors/wiki.so.bin\n"
     ]
    },
    {
     "name": "stderr",
     "output_type": "stream",
     "text": [
      "Warning : `load_model` does not return WordVectorModel or SupervisedModel any more, but a `FastText` object which is very similar.\n"
     ]
    }
   ],
   "source": [
    "%time\n",
    "lang = \"so\"\n",
    "model_name = f\"wiki.{lang}.bin\" # the model file (should be the same, ending by '.bin')\n",
    "model = load_model(model_name)"
   ]
  },
  {
   "cell_type": "code",
   "execution_count": 227,
   "id": "7303fb69",
   "metadata": {},
   "outputs": [
    {
     "data": {
      "text/plain": [
       "(-0.08701974, -0.093848355, 0.0068286136, 0.08454939)"
      ]
     },
     "execution_count": 227,
     "metadata": {},
     "output_type": "execute_result"
    }
   ],
   "source": [
    "#Google\n",
    "A = [\"lab\", \"nin\", \"wiil\", \"walaal\", \"isaga\", \"isaga\", \"isaga\", \"wiil\"]\n",
    "B = [\"dheddig\", \"naag\", \"gabadh\", \"walaashii\", \"iyadu\", \"iyada\", \"iyada\", \"gabadha\"]\n",
    "X = [\"fuliye\", \"maamul\", \"xirfadle\", \"shirkad\", \"mushaar\", \"xafiis\", \"ganacsi\", \"xirfad\"]\n",
    "Y = [\"guri\", \"waalid\", \"carruur\", \"qoys\", \"adeer\", \"guur\", \"aroos\", \"qaraabo\"]\n",
    "\n",
    "\n",
    "\n",
    "weat_x, weat_y, weat, weat_es = weat_score(X, Y, A, B, model)\n",
    "weat_x, weat_y, weat, weat_es"
   ]
  },
  {
   "cell_type": "code",
   "execution_count": 228,
   "id": "7ab29e8c",
   "metadata": {},
   "outputs": [
    {
     "data": {
      "text/plain": [
       "(-0.0738212, -0.08007358, 0.006252378, 0.2258154)"
      ]
     },
     "execution_count": 228,
     "metadata": {},
     "output_type": "execute_result"
    }
   ],
   "source": [
    "#Google\n",
    "A = [\"lab\", \"nin\", \"wiil\", \"walaal\", \"isaga\", \"isaga\", \"isaga\", \"wiil\"]\n",
    "B = [\"dheddig\", \"naag\", \"gabadh\", \"walaashii\", \"iyadu\", \"iyada\", \"iyada\", \"gabadha\"]\n",
    "X = [\"xisaab\", \"aljabra\", \"geometry\", \"calculus\", \"equations\", \"computation\", \"lambarada\", \"ku dar\"]\n",
    "Y = [\"gabayo\", \"farshaxan\", \"dheesha\", \"suugaan\", \"sheeko\", \"simphony\", \"riwaayad\", \"farshaxan\"]\n",
    "\n",
    "\n",
    "\n",
    "weat_x, weat_y, weat, weat_es = weat_score(X, Y, A, B, model)\n",
    "weat_x, weat_y, weat, weat_es"
   ]
  },
  {
   "cell_type": "code",
   "execution_count": 229,
   "id": "0f900355",
   "metadata": {},
   "outputs": [
    {
     "data": {
      "text/plain": [
       "(-0.09220578, -0.071918055, -0.020287722, -0.5129264)"
      ]
     },
     "execution_count": 229,
     "metadata": {},
     "output_type": "execute_result"
    }
   ],
   "source": [
    "#Google\n",
    "A = [\"lab\", \"nin\", \"wiil\", \"walaal\", \"isaga\", \"isaga\", \"isaga\", \"wiil\"]\n",
    "B = [\"dheddig\", \"naag\", \"gabadh\", \"walaashii\", \"iyadu\", \"iyada\", \"iyada\", \"gabadha\"]\n",
    "X = [\"sayniska\", \"technology\", \"fiisigiska\", \"chemistry\", \"Einstein\", \"NASA\", \"tijaabo\", \"astronomy\"]\n",
    "Y = [\"gabayo\", \"farshaxan\", \"Shakespeare\", \"dheesha\", \"suugaan\", \"novel\", \"simphony\", \"riwaayad\"]\n",
    "\n",
    "\n",
    "\n",
    "\n",
    "weat_x, weat_y, weat, weat_es = weat_score(X, Y, A, B, model)\n",
    "weat_x, weat_y, weat, weat_es"
   ]
  },
  {
   "cell_type": "markdown",
   "id": "4f57d589",
   "metadata": {},
   "source": [
    "## Spanish, es"
   ]
  },
  {
   "cell_type": "code",
   "execution_count": 114,
   "id": "ff21ec3c",
   "metadata": {},
   "outputs": [
    {
     "name": "stdout",
     "output_type": "stream",
     "text": [
      "CPU times: user 4 µs, sys: 6 µs, total: 10 µs\n",
      "Wall time: 26.2 µs\n",
      "Loading model from  /Users/Napp/Desktop/Vectors/wiki.es.bin\n"
     ]
    },
    {
     "name": "stderr",
     "output_type": "stream",
     "text": [
      "Warning : `load_model` does not return WordVectorModel or SupervisedModel any more, but a `FastText` object which is very similar.\n"
     ]
    }
   ],
   "source": [
    "%time\n",
    "lang = \"es\"\n",
    "model_name = f\"wiki.{lang}.bin\" # the model file (should be the same, ending by '.bin')\n",
    "model = load_model(model_name)"
   ]
  },
  {
   "cell_type": "code",
   "execution_count": 115,
   "id": "05427f61",
   "metadata": {},
   "outputs": [
    {
     "data": {
      "text/plain": [
       "(-0.11696455, -0.17292035, 0.055955797, 0.54308134)"
      ]
     },
     "execution_count": 115,
     "metadata": {},
     "output_type": "execute_result"
    }
   ],
   "source": [
    "#Google\n",
    "A = [\"masculino\", \"hombre\", \"niño\", \"hermano\", \"él\", \"él\", \"su\", \"hijo\"]\n",
    "B = [\"hembra\", \"mujer\", \"niña\", \"hermana\", \"ella\", \"su\", \"suya\", \"hija\"]\n",
    "X = [\"ejecutivo\", \"gerencia\", \"profesional\", \"corporación\", \"salario\", \"oficina\", \"negocio\", \"carrera\"]\n",
    "Y = [\"casa\", \"padres\", \"hijos\", \"familia\", \"primos\", \"matrimonio\", \"boda\", \"parientes\"]\n",
    "\n",
    "\n",
    "weat_x, weat_y, weat, weat_es = weat_score(X, Y, A, B, model)\n",
    "weat_x, weat_y, weat, weat_es"
   ]
  },
  {
   "cell_type": "code",
   "execution_count": 116,
   "id": "9c48e14d",
   "metadata": {},
   "outputs": [
    {
     "data": {
      "text/plain": [
       "(-0.041886747, -0.07559048, 0.03370373, 0.9368514)"
      ]
     },
     "execution_count": 116,
     "metadata": {},
     "output_type": "execute_result"
    }
   ],
   "source": [
    "#Google\n",
    "A = [\"masculino\", \"hombre\", \"niño\", \"hermano\", \"él\", \"él\", \"su\", \"hijo\"]\n",
    "B = [\"hembra\", \"mujer\", \"niña\", \"hermana\", \"ella\", \"su\", \"suya\", \"hija\"]\n",
    "X = [\"matemáticas\", \"álgebra\", \"geometría\", \"cálculo\", \"ecuaciones\", \"computación\", \"números\", \"suma\"]\n",
    "Y = [\"poesía\", \"arte\", \"danza\", \"literatura\", \"novela\", \"sinfonía\", \"drama\", \"escultura\"]\n",
    "\n",
    "\n",
    "\n",
    "weat_x, weat_y, weat, weat_es = weat_score(X, Y, A, B, model)\n",
    "weat_x, weat_y, weat, weat_es"
   ]
  },
  {
   "cell_type": "code",
   "execution_count": 117,
   "id": "aae7c21d",
   "metadata": {},
   "outputs": [
    {
     "data": {
      "text/plain": [
       "(-0.016287662, -0.039652586, 0.023364924, 0.944774)"
      ]
     },
     "execution_count": 117,
     "metadata": {},
     "output_type": "execute_result"
    }
   ],
   "source": [
    "#Google\n",
    "A = [\"masculino\", \"hombre\", \"niño\", \"hermano\", \"él\", \"él\", \"su\", \"hijo\"]\n",
    "B = [\"hembra\", \"mujer\", \"niña\", \"hermana\", \"ella\", \"su\", \"suya\", \"hija\"]\n",
    "X = [\"ciencia\", \"tecnología\", \"física\", \"química\", \"Einstein\", \"NASA\", \"experimento\", \"astronomía\"]\n",
    "Y = [\"poesía\", \"arte\", \"Shakespeare\", \"danza\", \"literatura\", \"novela\", \"sinfonía\", \"drama\"]\n",
    "\n",
    "\n",
    "weat_x, weat_y, weat, weat_es = weat_score(X, Y, A, B, model)\n",
    "weat_x, weat_y, weat, weat_es"
   ]
  },
  {
   "cell_type": "markdown",
   "id": "06ecb609",
   "metadata": {},
   "source": [
    "## Sundanese, su"
   ]
  },
  {
   "cell_type": "code",
   "execution_count": 39,
   "id": "12d49a95",
   "metadata": {},
   "outputs": [
    {
     "name": "stdout",
     "output_type": "stream",
     "text": [
      "CPU times: user 2 µs, sys: 1e+03 ns, total: 3 µs\n",
      "Wall time: 6.2 µs\n",
      "Loading model from  /Users/Napp/Desktop/Vectors_4/wiki.su.bin\n"
     ]
    },
    {
     "name": "stderr",
     "output_type": "stream",
     "text": [
      "Warning : `load_model` does not return WordVectorModel or SupervisedModel any more, but a `FastText` object which is very similar.\n"
     ]
    }
   ],
   "source": [
    "%time\n",
    "lang = \"su\"\n",
    "model_name = f\"wiki.{lang}.bin\" # the model file (should be the same, ending by '.bin')\n",
    "model = load_model(model_name)"
   ]
  },
  {
   "cell_type": "code",
   "execution_count": 40,
   "id": "f508bf7f",
   "metadata": {},
   "outputs": [
    {
     "data": {
      "text/plain": [
       "(-0.10590025, -0.05933644, -0.04656381, -0.61089)"
      ]
     },
     "execution_count": 40,
     "metadata": {},
     "output_type": "execute_result"
    }
   ],
   "source": [
    "#Google\n",
    "A = [\"lalaki\", \"lalaki\", \"budak\", \"lanceukna\", \"manehna\", \"manehna\", \"nya\", \"anakna\"]\n",
    "B = [\"awéwé\", \"awéwé\", \"mojang\", \"adi\", \"manehna\", \"manehna\", \"milikna\", \"putri\"]\n",
    "X = [\"eksekutif\", \"manajemén\", \"profésional\", \"korporasi\", \"gaji\", \"kantor\", \"bisnis\", \"karir\"]\n",
    "Y = [\"imah\", \"kolot\", \"anak\", \"kulawarga\", \"misan\", \"kawin\", \"kawinan\", \"baraya\"]\n",
    "\n",
    "\n",
    "\n",
    "weat_x, weat_y, weat, weat_es = weat_score(X, Y, A, B, model)\n",
    "weat_x, weat_y, weat, weat_es"
   ]
  },
  {
   "cell_type": "code",
   "execution_count": 40,
   "id": "124a0ff8",
   "metadata": {},
   "outputs": [
    {
     "data": {
      "text/plain": [
       "(-0.037443526, -0.044767834, 0.007324308, 0.17004885)"
      ]
     },
     "execution_count": 40,
     "metadata": {},
     "output_type": "execute_result"
    }
   ],
   "source": [
    "#Google\n",
    "A = [\"lalaki\", \"lalaki\", \"budak\", \"lanceukna\", \"manehna\", \"manehna\", \"nya\", \"anakna\"]\n",
    "B = [\"awéwé\", \"awéwé\", \"mojang\", \"adi\", \"manehna\", \"manehna\", \"milikna\", \"putri\"]\n",
    "X = [\"matematika\", \"aljabar\", \"geométri\", \"kalkulus\", \"persamaan\", \"itung\", \"angka\", \"tambahan\"]\n",
    "Y = [\"puisi\", \"seni\", \"tari\", \"sastra\", \"novel\", \"simfoni\", \"drama\", \"patung\"]\n",
    "\n",
    "\n",
    "\n",
    "weat_x, weat_y, weat, weat_es = weat_score(X, Y, A, B, model)\n",
    "weat_x, weat_y, weat, weat_es"
   ]
  },
  {
   "cell_type": "code",
   "execution_count": 38,
   "id": "7c013007",
   "metadata": {},
   "outputs": [
    {
     "data": {
      "text/plain": [
       "(-0.10765547, -0.11433329, 0.006677814, 0.18764271)"
      ]
     },
     "execution_count": 38,
     "metadata": {},
     "output_type": "execute_result"
    }
   ],
   "source": [
    "#Google\n",
    "A = [\"lalaki\", \"lalaki\", \"budak\", \"lanceukna\", \"manehna\", \"manehna\", \"nya\", \"anakna\"]\n",
    "B = [\"awéwé\", \"awéwé\", \"mojang\", \"adi\", \"manehna\", \"manehna\", \"milikna\", \"putri\"]\n",
    "X = [\"élmu\", \"téhnologi\", \"fisika\", \"kimia\", \"Einstein\", \"NASA\", \"ékspérimén\", \"astronomi\"]\n",
    "Y = [\"puisi\", \"seni\", \"Shakespeare\", \"tari\", \"sastra\", \"novel\", \"simfoni\", \"drama\"]\n",
    "\n",
    "\n",
    "\n",
    "weat_x, weat_y, weat, weat_es = weat_score(X, Y, A, B, model)\n",
    "weat_x, weat_y, weat, weat_es"
   ]
  },
  {
   "cell_type": "markdown",
   "id": "79e3a59a",
   "metadata": {},
   "source": [
    "## Swahili, sw"
   ]
  },
  {
   "cell_type": "code",
   "execution_count": 250,
   "id": "4ce88204",
   "metadata": {},
   "outputs": [
    {
     "name": "stdout",
     "output_type": "stream",
     "text": [
      "CPU times: user 2 µs, sys: 1 µs, total: 3 µs\n",
      "Wall time: 5.25 µs\n",
      "Loading model from  /Users/Napp/Desktop/Vectors/wiki.sw.bin\n"
     ]
    },
    {
     "name": "stderr",
     "output_type": "stream",
     "text": [
      "Warning : `load_model` does not return WordVectorModel or SupervisedModel any more, but a `FastText` object which is very similar.\n"
     ]
    }
   ],
   "source": [
    "%time\n",
    "lang = \"sw\"\n",
    "model_name = f\"wiki.{lang}.bin\" # the model file (should be the same, ending by '.bin')\n",
    "model = load_model(model_name)"
   ]
  },
  {
   "cell_type": "code",
   "execution_count": 251,
   "id": "7909eb72",
   "metadata": {},
   "outputs": [
    {
     "data": {
      "text/plain": [
       "(-0.061080687, -0.080139555, 0.019058868, 0.303072)"
      ]
     },
     "execution_count": 251,
     "metadata": {},
     "output_type": "execute_result"
    }
   ],
   "source": [
    "#Google\n",
    "A = [\"kiume\", \"mtu\", \"mvulana\", \"kaka\", \"yeye\", \"yeye\", \"wake\", \"mwana\"]\n",
    "B = [\"mwanamke\", \"mwanamke\", \"msichana\", \"dada\", \"yeye\", \"yake\", \"yake\", \"binti\"]\n",
    "X = [\"mtendaji\", \"usimamizi\", \"mtaalamu\", \"shirika\", \"mshahara\", \"ofisi\", \"biashara\", \"kazi\"]\n",
    "Y = [\"nyumbani\", \"wazazi\", \"watoto\", \"familia\", \"binamu\", \"ndoa\", \"harusi\", \"jamaa\"]\n",
    "\n",
    "\n",
    "weat_x, weat_y, weat, weat_es = weat_score(X, Y, A, B, model)\n",
    "weat_x, weat_y, weat, weat_es"
   ]
  },
  {
   "cell_type": "code",
   "execution_count": 252,
   "id": "93dffb56",
   "metadata": {},
   "outputs": [
    {
     "data": {
      "text/plain": [
       "(-0.0067052897, -0.013950644, 0.0072453544, 0.21268839)"
      ]
     },
     "execution_count": 252,
     "metadata": {},
     "output_type": "execute_result"
    }
   ],
   "source": [
    "#Google\n",
    "A = [\"kiume\", \"mtu\", \"mvulana\", \"kaka\", \"yeye\", \"yeye\", \"wake\", \"mwana\"]\n",
    "B = [\"mwanamke\", \"mwanamke\", \"msichana\", \"dada\", \"yeye\", \"yake\", \"yake\", \"binti\"]\n",
    "X = [\"hisabati\", \"aljebra\", \"jiometri\", \"calculus\", \"milinganyo\", \"kokotoo\", \"nambari\", \"nyongeza\"]\n",
    "Y = [\"mashairi\", \"sanaa\", \"ngoma\", \"fasihi\", \"riwaya\", \"symphony\", \"drama\", \"mchongo\"]\n",
    "\n",
    "\n",
    "weat_x, weat_y, weat, weat_es = weat_score(X, Y, A, B, model)\n",
    "weat_x, weat_y, weat, weat_es"
   ]
  },
  {
   "cell_type": "code",
   "execution_count": 253,
   "id": "67039518",
   "metadata": {},
   "outputs": [
    {
     "data": {
      "text/plain": [
       "(-0.075222865, -0.10639938, 0.031176515, 0.74788684)"
      ]
     },
     "execution_count": 253,
     "metadata": {},
     "output_type": "execute_result"
    }
   ],
   "source": [
    "#Google\n",
    "A = [\"kiume\", \"mtu\", \"mvulana\", \"kaka\", \"yeye\", \"yeye\", \"wake\", \"mwana\"]\n",
    "B = [\"mwanamke\", \"mwanamke\", \"msichana\", \"dada\", \"yeye\", \"yake\", \"yake\", \"binti\"]\n",
    "X = [\"sayansi\", \"teknolojia\", \"fizikia\", \"kemia\", \"Einstein\", \"NASA\", \"majaribio\", \"astronomia\"]\n",
    "Y = [\"mashairi\", \"sanaa\", \"Shakespeare\", \"ngoma\", \"fasihi\", \"riwaya\", \"symphony\", \"drama\"]\n",
    "\n",
    "\n",
    "weat_x, weat_y, weat, weat_es = weat_score(X, Y, A, B, model)\n",
    "weat_x, weat_y, weat, weat_es"
   ]
  },
  {
   "cell_type": "markdown",
   "id": "e2c8ed8f",
   "metadata": {},
   "source": [
    "## Swedish, sv"
   ]
  },
  {
   "cell_type": "code",
   "execution_count": 118,
   "id": "af4f47be",
   "metadata": {},
   "outputs": [
    {
     "name": "stdout",
     "output_type": "stream",
     "text": [
      "CPU times: user 4 µs, sys: 7 µs, total: 11 µs\n",
      "Wall time: 27.9 µs\n",
      "Loading model from  /Users/Napp/Desktop/Vectors/wiki.sv.bin\n"
     ]
    },
    {
     "name": "stderr",
     "output_type": "stream",
     "text": [
      "Warning : `load_model` does not return WordVectorModel or SupervisedModel any more, but a `FastText` object which is very similar.\n"
     ]
    }
   ],
   "source": [
    "%time\n",
    "lang = \"sv\"\n",
    "model_name = f\"wiki.{lang}.bin\" # the model file (should be the same, ending by '.bin')\n",
    "model = load_model(model_name)"
   ]
  },
  {
   "cell_type": "code",
   "execution_count": 119,
   "id": "b896fa28",
   "metadata": {},
   "outputs": [
    {
     "data": {
      "text/plain": [
       "(-0.06781705, -0.15152092, 0.083703876, 1.0347681)"
      ]
     },
     "execution_count": 119,
     "metadata": {},
     "output_type": "execute_result"
    }
   ],
   "source": [
    "#Google\n",
    "\n",
    "A = [\"man\", \"man\", \"pojke\", \"bror\", \"han\", \"honom\", \"hans\", \"son\"]\n",
    "B = [\"kvinna\", \"kvinna\", \"flicka\", \"syster\", \"hon\", \"henne\", \"hennes\", \"dotter\"]\n",
    "X = [\"verkställande\", \"ledning\", \"professionell\", \"företag\", \"lön\", \"kontor\", \"företag\", \"karriär\"]\n",
    "Y = [\"hem\", \"föräldrar\", \"barn\", \"familj\", \"kusiner\", \"äktenskap\", \"bröllop\", \"släktingar\"]\n",
    "\n",
    "weat_x, weat_y, weat, weat_es = weat_score(X, Y, A, B, model)\n",
    "weat_x, weat_y, weat, weat_es"
   ]
  },
  {
   "cell_type": "code",
   "execution_count": 120,
   "id": "2147257f",
   "metadata": {},
   "outputs": [
    {
     "data": {
      "text/plain": [
       "(9.5672905e-05, -0.08622096, 0.08631663, 1.4423788)"
      ]
     },
     "execution_count": 120,
     "metadata": {},
     "output_type": "execute_result"
    }
   ],
   "source": [
    "#Google\n",
    "\n",
    "A = [\"man\", \"man\", \"pojke\", \"bror\", \"han\", \"honom\", \"hans\", \"son\"]\n",
    "B = [\"kvinna\", \"kvinna\", \"flicka\", \"syster\", \"hon\", \"henne\", \"hennes\", \"dotter\"]\n",
    "X = [\"matte\", \"algebra\", \"geometri\", \"kalkyl\", \"ekvationer\", \"beräkning\", \"tal\", \"tillägg\"]\n",
    "Y = [\"poesi\", \"konst\", \"dans\", \"litteratur\", \"roman\", \"symfoni\", \"drama\", \"skulptur\"]\n",
    "\n",
    "weat_x, weat_y, weat, weat_es = weat_score(X, Y, A, B, model)\n",
    "weat_x, weat_y, weat, weat_es"
   ]
  },
  {
   "cell_type": "code",
   "execution_count": 121,
   "id": "47800274",
   "metadata": {},
   "outputs": [
    {
     "data": {
      "text/plain": [
       "(-0.017892456, -0.08375965, 0.06586719, 1.751389)"
      ]
     },
     "execution_count": 121,
     "metadata": {},
     "output_type": "execute_result"
    }
   ],
   "source": [
    "#Google\n",
    "\n",
    "A = [\"man\", \"man\", \"pojke\", \"bror\", \"han\", \"honom\", \"hans\", \"son\"]\n",
    "B = [\"kvinna\", \"kvinna\", \"flicka\", \"syster\", \"hon\", \"henne\", \"hennes\", \"dotter\"]\n",
    "X = [\"vetenskap\", \"teknik\", \"fysik\", \"kemi\", \"Einstein\", \"NASA\", \"experiment\", \"astronomi\"]\n",
    "Y = [\"poesi\", \"konst\", \"Shakespeare\", \"dans\", \"litteratur\", \"roman\", \"symfoni\", \"drama\"]\n",
    "\n",
    "weat_x, weat_y, weat, weat_es = weat_score(X, Y, A, B, model)\n",
    "weat_x, weat_y, weat, weat_es"
   ]
  },
  {
   "cell_type": "markdown",
   "id": "ff432605",
   "metadata": {},
   "source": [
    "## Tajik, tg"
   ]
  },
  {
   "cell_type": "code",
   "execution_count": 302,
   "id": "4ec4e73d",
   "metadata": {},
   "outputs": [
    {
     "name": "stdout",
     "output_type": "stream",
     "text": [
      "CPU times: user 2 µs, sys: 0 ns, total: 2 µs\n",
      "Wall time: 5.96 µs\n",
      "Loading model from  /Users/Napp/Desktop/Vectors/wiki.tg.bin\n"
     ]
    },
    {
     "name": "stderr",
     "output_type": "stream",
     "text": [
      "Warning : `load_model` does not return WordVectorModel or SupervisedModel any more, but a `FastText` object which is very similar.\n"
     ]
    }
   ],
   "source": [
    "%time\n",
    "lang = \"tg\"\n",
    "model_name = f\"wiki.{lang}.bin\" # the model file (should be the same, ending by '.bin')\n",
    "model = load_model(model_name)"
   ]
  },
  {
   "cell_type": "code",
   "execution_count": 303,
   "id": "ea8919e2",
   "metadata": {},
   "outputs": [
    {
     "data": {
      "text/plain": [
       "(-0.10402849, -0.12363936, 0.019610867, 0.34270588)"
      ]
     },
     "execution_count": 303,
     "metadata": {},
     "output_type": "execute_result"
    }
   ],
   "source": [
    "#Google\n",
    "A = [\"мард\", \"мард\", \"писар\", \"бародар\", \"ӯ\", \"ӯ\", \"ӯ\", \"писар\"]\n",
    "B = [\"зан\", \"зан\", \"духтар\", \"хоҳар\", \"вай\", \"вай\", \"аз они\", \"духтар\"]\n",
    "X = [\"иҷроия\", \"менеҷмент\", \"касбӣ\", \"корпоратсия\", \"маош\", \"офис\", \"бизнес\", \"карьера\"]\n",
    "Y = [\"хона\", \"волидон\", \"фарзандон\", \"оила\", \"амакбачаҳо\", \"никоҳ\", \"туй\", \"хешовандон\"]\n",
    "\n",
    "\n",
    "\n",
    "weat_x, weat_y, weat, weat_es = weat_score(X, Y, A, B, model)\n",
    "weat_x, weat_y, weat, weat_es"
   ]
  },
  {
   "cell_type": "code",
   "execution_count": 304,
   "id": "2e691adb",
   "metadata": {},
   "outputs": [
    {
     "data": {
      "text/plain": [
       "(-0.04775048, -0.06101121, 0.01326073, 0.44307542)"
      ]
     },
     "execution_count": 304,
     "metadata": {},
     "output_type": "execute_result"
    }
   ],
   "source": [
    "#Google\n",
    "A = [\"мард\", \"мард\", \"писар\", \"бародар\", \"ӯ\", \"ӯ\", \"ӯ\", \"писар\"]\n",
    "B = [\"зан\", \"зан\", \"духтар\", \"хоҳар\", \"вай\", \"вай\", \"аз они\", \"духтар\"]\n",
    "X = [\"математика\", \"алгебра\", \"геометрия\", \"ҳисоб\", \"муодилаҳо\", \"ҳисобкунӣ\", \"рақамҳо\", \"илова\"]\n",
    "Y = [\"шеър\", \"санъат\", \"рақс\", \"адабиёт\", \"роман\", \"симфония\", \"драма\", \"муҷассама\"]\n",
    "\n",
    "\n",
    "weat_x, weat_y, weat, weat_es = weat_score(X, Y, A, B, model)\n",
    "weat_x, weat_y, weat, weat_es"
   ]
  },
  {
   "cell_type": "code",
   "execution_count": 305,
   "id": "0b554f87",
   "metadata": {},
   "outputs": [
    {
     "data": {
      "text/plain": [
       "(-0.0742172, -0.07295081, -0.0012663901, -0.055367947)"
      ]
     },
     "execution_count": 305,
     "metadata": {},
     "output_type": "execute_result"
    }
   ],
   "source": [
    "#Google\n",
    "A = [\"мард\", \"мард\", \"писар\", \"бародар\", \"ӯ\", \"ӯ\", \"ӯ\", \"писар\"]\n",
    "B = [\"зан\", \"зан\", \"духтар\", \"хоҳар\", \"вай\", \"вай\", \"аз они\", \"духтар\"]\n",
    "X = [\"илм\", \"технология\", \"физика\", \"химия\", \"Эйнштейн\", \"НАСА\", \"таҷриба\", \"астрономия\"]\n",
    "Y = [\"шеър\", \"санъат\", \"Шекспир\", \"рақс\", \"адабиёт\", \"роман\", \"симфония\", \"драма\"]\n",
    "\n",
    "\n",
    "weat_x, weat_y, weat, weat_es = weat_score(X, Y, A, B, model)\n",
    "weat_x, weat_y, weat, weat_es"
   ]
  },
  {
   "cell_type": "markdown",
   "id": "7a54493c",
   "metadata": {},
   "source": [
    "## Thai, th"
   ]
  },
  {
   "cell_type": "code",
   "execution_count": 138,
   "id": "a2c7b6bb",
   "metadata": {},
   "outputs": [
    {
     "name": "stdout",
     "output_type": "stream",
     "text": [
      "CPU times: user 3 µs, sys: 6 µs, total: 9 µs\n",
      "Wall time: 26.2 µs\n",
      "Loading model from  /Users/Napp/Desktop/Vectors/wiki.th.bin\n"
     ]
    },
    {
     "name": "stderr",
     "output_type": "stream",
     "text": [
      "Warning : `load_model` does not return WordVectorModel or SupervisedModel any more, but a `FastText` object which is very similar.\n"
     ]
    }
   ],
   "source": [
    "%time\n",
    "lang = \"th\"\n",
    "model_name = f\"wiki.{lang}.bin\" # the model file (should be the same, ending by '.bin')\n",
    "model = load_model(model_name)"
   ]
  },
  {
   "cell_type": "code",
   "execution_count": 139,
   "id": "2228cea5",
   "metadata": {},
   "outputs": [
    {
     "data": {
      "text/plain": [
       "(-0.17250247, -0.15212873, -0.020373747, -0.22021975)"
      ]
     },
     "execution_count": 139,
     "metadata": {},
     "output_type": "execute_result"
    }
   ],
   "source": [
    "#Google\n",
    "A = [\"ชาย\", \"ผู้ชาย\", \"เด็กผู้ชาย\", \"พี่ชาย\", \"เขา\", \"เขา\", \"ของเขา\", \"ลูกชาย\"]\n",
    "B = [\"หญิง\", \"หญิง\", \"สาว\", \"น้องสาว\", \"เธอ\", \"ของเธอ\", \"ของเธอ\", \"ลูกสาว\"]\n",
    "X = [\"ผู้บริหาร\", \"ผู้บริหาร\", \"มืออาชีพ\", \"องค์กร\", \"เงินเดือน\", \"สำนักงาน\", \"ธุรกิจ\", \"อาชีพ\"]\n",
    "Y = [\"บ้าน\", \"พ่อแม่\", \"ลูก\", \"ครอบครัว\", \"ลูกพี่ลูกน้อง\", \"แต่งงาน\", \"แต่งงาน\", \"ญาติ\"]\n",
    "\n",
    "\n",
    "\n",
    "weat_x, weat_y, weat, weat_es = weat_score(X, Y, A, B, model)\n",
    "weat_x, weat_y, weat, weat_es"
   ]
  },
  {
   "cell_type": "code",
   "execution_count": 140,
   "id": "7a4b3442",
   "metadata": {},
   "outputs": [
    {
     "data": {
      "text/plain": [
       "(-0.17701013, -0.16677424, -0.010235891, -0.29271412)"
      ]
     },
     "execution_count": 140,
     "metadata": {},
     "output_type": "execute_result"
    }
   ],
   "source": [
    "#Google\n",
    "A = [\"ชาย\", \"ผู้ชาย\", \"เด็กผู้ชาย\", \"พี่ชาย\", \"เขา\", \"เขา\", \"ของเขา\", \"ลูกชาย\"]\n",
    "B = [\"หญิง\", \"หญิง\", \"สาว\", \"น้องสาว\", \"เธอ\", \"ของเธอ\", \"ของเธอ\", \"ลูกสาว\"]\n",
    "X = [\"คณิตศาสตร์\", \"พีชคณิต\", \"เรขาคณิต\", \"แคลคูลัส\", \"สมการ\", \"การคำนวณ\", \"ตัวเลข\", \"การบวก\"]\n",
    "Y = [\"กวีนิพนธ์\" \"ศิลปะ\" \"นาฏศิลป์\" \"วรรณกรรม\" \"นวนิยาย\" \"ซิมโฟนี\" \"ละคร\" \"ประติมากรรม\"]\n",
    "\n",
    "\n",
    "\n",
    "weat_x, weat_y, weat, weat_es = weat_score(X, Y, A, B, model)\n",
    "weat_x, weat_y, weat, weat_es"
   ]
  },
  {
   "cell_type": "code",
   "execution_count": 141,
   "id": "c79ba5e0",
   "metadata": {},
   "outputs": [
    {
     "data": {
      "text/plain": [
       "(-0.072547995, -0.039369814, -0.03317818, -0.5973632)"
      ]
     },
     "execution_count": 141,
     "metadata": {},
     "output_type": "execute_result"
    }
   ],
   "source": [
    "#Google\n",
    "A = [\"ชาย\", \"ผู้ชาย\", \"เด็กผู้ชาย\", \"พี่ชาย\", \"เขา\", \"เขา\", \"ของเขา\", \"ลูกชาย\"]\n",
    "B = [\"หญิง\", \"หญิง\", \"สาว\", \"น้องสาว\", \"เธอ\", \"ของเธอ\", \"ของเธอ\", \"ลูกสาว\"]\n",
    "X = [\"วิทยาศาสตร์\", \"เทคโนโลยี\", \"ฟิสิกส์\", \"เคมี\", \"ไอน์สไตน์\", \"นาซ่า\", \"การทดลอง\", \"ดาราศาสตร์\"]\n",
    "Y = [\"กวีนิพนธ์\", \"ศิลปะ\", \"เช็คสเปียร์\", \"เต้นรำ\", \"วรรณกรรม\", \"นวนิยาย\", \"ซิมโฟนี\", \"ละคร\"]\n",
    "\n",
    "\n",
    "\n",
    "\n",
    "\n",
    "weat_x, weat_y, weat, weat_es = weat_score(X, Y, A, B, model)\n",
    "weat_x, weat_y, weat, weat_es"
   ]
  },
  {
   "cell_type": "markdown",
   "id": "c3cc8269",
   "metadata": {},
   "source": [
    "## Turkish, tr"
   ]
  },
  {
   "cell_type": "code",
   "execution_count": 90,
   "id": "4c99fcf0",
   "metadata": {},
   "outputs": [
    {
     "name": "stdout",
     "output_type": "stream",
     "text": [
      "CPU times: user 3 µs, sys: 5 µs, total: 8 µs\n",
      "Wall time: 26.2 µs\n",
      "Loading model from  /Users/Napp/Desktop/Vectors/wiki.tr.bin\n"
     ]
    },
    {
     "name": "stderr",
     "output_type": "stream",
     "text": [
      "Warning : `load_model` does not return WordVectorModel or SupervisedModel any more, but a `FastText` object which is very similar.\n"
     ]
    }
   ],
   "source": [
    "%time\n",
    "lang = \"tr\"\n",
    "model_name = f\"wiki.{lang}.bin\" # the model file (should be the same, ending by '.bin')\n",
    "model = load_model(model_name)"
   ]
  },
  {
   "cell_type": "code",
   "execution_count": 91,
   "id": "57576c7e",
   "metadata": {},
   "outputs": [
    {
     "data": {
      "text/plain": [
       "(-0.0883503, -0.09251112, 0.004160814, 0.04193879)"
      ]
     },
     "execution_count": 91,
     "metadata": {},
     "output_type": "execute_result"
    }
   ],
   "source": [
    "#Google\n",
    "\n",
    "A = [\"erkek\", \"adam\", \"oğlan\", \"kardeş\", \"o\", \"o\", \"onun\", \"oğlu\"]\n",
    "B = [\"kadın\", \"kadın\", \"kız\", \"kardeş\", \"o\", \"onun\", \"onunki\", \"kızı\"]\n",
    "X = [\"yönetici\", \"yönetim\", \"uzman\", \"şirket\", \"maaş\", \"ofis\", \"iş\", \"kariyer\"]\n",
    "Y = [\"ev\", \"ebeveynler\", \"çocuklar\", \"aile\", \"kuzenler\", \"evlilik\", \"düğün\", \"akrabalar\"]\n",
    "\n",
    "weat_x, weat_y, weat, weat_es = weat_score(X, Y, A, B, model)\n",
    "weat_x, weat_y, weat, weat_es"
   ]
  },
  {
   "cell_type": "code",
   "execution_count": 92,
   "id": "6e887dbb",
   "metadata": {},
   "outputs": [
    {
     "data": {
      "text/plain": [
       "(-0.0310794, -0.03607246, 0.0049930587, 0.12106068)"
      ]
     },
     "execution_count": 92,
     "metadata": {},
     "output_type": "execute_result"
    }
   ],
   "source": [
    "#Google\n",
    "\n",
    "A = [\"erkek\", \"adam\", \"oğlan\", \"kardeş\", \"o\", \"o\", \"onun\", \"oğlu\"]\n",
    "B = [\"kadın\", \"kadın\", \"kız\", \"kardeş\", \"o\", \"onun\", \"onunki\", \"kızı\"]\n",
    "X = [\"matematik\", \"cebir\", \"geometri\", \"kalkülüs\", \"denklemler\", \"hesaplama\", \"sayılar\", \"toplama\"]\n",
    "Y = [\"şiir\", \"sanat\", \"dans\", \"edebiyat\", \"roman\", \"senfoni\", \"drama\", \"heykel\"]\n",
    "\n",
    "\n",
    "weat_x, weat_y, weat, weat_es = weat_score(X, Y, A, B, model)\n",
    "weat_x, weat_y, weat, weat_es"
   ]
  },
  {
   "cell_type": "code",
   "execution_count": 93,
   "id": "f4b40370",
   "metadata": {},
   "outputs": [
    {
     "data": {
      "text/plain": [
       "(-0.03502489, -0.041192967, 0.0061680786, 0.16564265)"
      ]
     },
     "execution_count": 93,
     "metadata": {},
     "output_type": "execute_result"
    }
   ],
   "source": [
    "#Google\n",
    "\n",
    "A = [\"erkek\", \"adam\", \"oğlan\", \"kardeş\", \"o\", \"o\", \"onun\", \"oğlu\"]\n",
    "B = [\"kadın\", \"kadın\", \"kız\", \"kardeş\", \"o\", \"onun\", \"onunki\", \"kızı\"]\n",
    "X = [\"bilim\", \"teknoloji\", \"fizik\", \"kimya\", \"Einstein\", \"NASA\", \"deney\", \"astronomi\"]\n",
    "Y = [\"şiir\", \"sanat\", \"Shakespeare\", \"dans\", \"edebiyat\", \"roman\", \"senfoni\", \"drama\"]\n",
    "\n",
    "weat_x, weat_y, weat, weat_es = weat_score(X, Y, A, B, model)\n",
    "weat_x, weat_y, weat, weat_es"
   ]
  },
  {
   "cell_type": "markdown",
   "id": "d41b06ab",
   "metadata": {},
   "source": [
    "## Turmen tk"
   ]
  },
  {
   "cell_type": "code",
   "execution_count": 254,
   "id": "eceb69d9",
   "metadata": {},
   "outputs": [
    {
     "name": "stdout",
     "output_type": "stream",
     "text": [
      "CPU times: user 3 µs, sys: 6 µs, total: 9 µs\n",
      "Wall time: 23.1 µs\n",
      "Loading model from  /Users/Napp/Desktop/Vectors/wiki.tk.bin\n"
     ]
    },
    {
     "name": "stderr",
     "output_type": "stream",
     "text": [
      "Warning : `load_model` does not return WordVectorModel or SupervisedModel any more, but a `FastText` object which is very similar.\n"
     ]
    }
   ],
   "source": [
    "%time\n",
    "lang = \"tk\"\n",
    "model_name = f\"wiki.{lang}.bin\" # the model file (should be the same, ending by '.bin')\n",
    "model = load_model(model_name)"
   ]
  },
  {
   "cell_type": "code",
   "execution_count": 255,
   "id": "524e9c13",
   "metadata": {},
   "outputs": [
    {
     "data": {
      "text/plain": [
       "(-0.092039146, -0.18996596, 0.09792682, 0.9314171)"
      ]
     },
     "execution_count": 255,
     "metadata": {},
     "output_type": "execute_result"
    }
   ],
   "source": [
    "#Google\n",
    "A = [\"erkek\", \"erkek\", \"oglan\", \"dogan\", \"ol\", \"özi\", \"onuň\", \"ogly\"]\n",
    "B = [\"aýal\", \"aýal\", \"gyz\", \"aýal dogan\", \"ol\", \"gyz\", \"gyz\", \"gyz\"]\n",
    "X = [\"ýerine ýetiriji\", \"dolandyryş\", \"hünärmen\", \"korporasiýa\", \"aýlyk\", \"ofis\", \"iş\", \"karýera\"]\n",
    "Y = [\"öý\", \"ene-atalar\", \"çagalar\", \"maşgala\", \"doganoglanlar\", \"nikalaşmak\", \"toý\", \"garyndaşlar\"]\n",
    "weat_x, weat_y, weat, weat_es = weat_score(X, Y, A, B, model)\n",
    "weat_x, weat_y, weat, weat_es"
   ]
  },
  {
   "cell_type": "code",
   "execution_count": 256,
   "id": "918a92f5",
   "metadata": {},
   "outputs": [
    {
     "data": {
      "text/plain": [
       "(-0.03353253, -0.09149253, 0.057960004, 1.1636026)"
      ]
     },
     "execution_count": 256,
     "metadata": {},
     "output_type": "execute_result"
    }
   ],
   "source": [
    "#Google\n",
    "A = [\"erkek\", \"erkek\", \"oglan\", \"dogan\", \"ol\", \"özi\", \"onuň\", \"ogly\"]\n",
    "B = [\"aýal\", \"aýal\", \"gyz\", \"aýal dogan\", \"ol\", \"gyz\", \"gyz\", \"gyz\"]\n",
    "X = [\"matematika\", \"algebra\", \"geometriýa\", \"hasaplama\", \"deňlemeler\", \"hasaplama\", \"sanlar\", \"goşma\"]\n",
    "Y = [\"poeziýa\", \"sungat\", \"tans\", \"edebiýat\", \"roman\", \"simfoniýa\", \"drama\", \"heýkeltaraşlyk\"]\n",
    "weat_x, weat_y, weat, weat_es = weat_score(X, Y, A, B, model)\n",
    "weat_x, weat_y, weat, weat_es"
   ]
  },
  {
   "cell_type": "code",
   "execution_count": 257,
   "id": "ddf86831",
   "metadata": {},
   "outputs": [
    {
     "data": {
      "text/plain": [
       "(-0.09159288, -0.1721928, 0.08059992, 1.3327852)"
      ]
     },
     "execution_count": 257,
     "metadata": {},
     "output_type": "execute_result"
    }
   ],
   "source": [
    "#Google\n",
    "A = [\"erkek\", \"erkek\", \"oglan\", \"dogan\", \"ol\", \"özi\", \"onuň\", \"ogly\"]\n",
    "B = [\"aýal\", \"aýal\", \"gyz\", \"aýal dogan\", \"ol\", \"gyz\", \"gyz\", \"gyz\"]\n",
    "X = [\"ylym\", \"tehnologiýa\", \"fizika\", \"himiýa\", \"Einşteýn\", \"NASA\", \"synag\", \"astronomiýa\"]\n",
    "Y = [\"poeziýa\", \"sungat\", \"Şekspir\", \"tans\", \"edebiýat\", \"roman\", \"simfoniýa\", \"drama\"]\n",
    "\n",
    "\n",
    "weat_x, weat_y, weat, weat_es = weat_score(X, Y, A, B, model)\n",
    "weat_x, weat_y, weat, weat_es"
   ]
  },
  {
   "cell_type": "markdown",
   "id": "0b811a3b",
   "metadata": {},
   "source": [
    "## Ukrainian, uk"
   ]
  },
  {
   "cell_type": "code",
   "execution_count": 238,
   "id": "7ba5ec91",
   "metadata": {},
   "outputs": [
    {
     "name": "stdout",
     "output_type": "stream",
     "text": [
      "CPU times: user 4 µs, sys: 6 µs, total: 10 µs\n",
      "Wall time: 27.9 µs\n",
      "Loading model from  /Users/Napp/Desktop/Vectors/wiki.uk.bin\n"
     ]
    },
    {
     "name": "stderr",
     "output_type": "stream",
     "text": [
      "Warning : `load_model` does not return WordVectorModel or SupervisedModel any more, but a `FastText` object which is very similar.\n"
     ]
    }
   ],
   "source": [
    "%time\n",
    "lang = \"uk\"\n",
    "model_name = f\"wiki.{lang}.bin\" # the model file (should be the same, ending by '.bin')\n",
    "model = load_model(model_name)"
   ]
  },
  {
   "cell_type": "code",
   "execution_count": 239,
   "id": "dc64ef7a",
   "metadata": {},
   "outputs": [
    {
     "data": {
      "text/plain": [
       "(-0.101906106, -0.08870581, -0.013200298, -0.13988994)"
      ]
     },
     "execution_count": 239,
     "metadata": {},
     "output_type": "execute_result"
    }
   ],
   "source": [
    "#Google\n",
    "\n",
    "A = [\"чоловік\", \"чоловік\", \"хлопчик\", \"брат\", \"він\", \"він\", \"його\", \"син\"]\n",
    "B = [\"жінка\", \"жінка\", \"дівчина\", \"сестра\", \"вона\", \"вона\", \"її\", \"дочка\"]\n",
    "X = [\"виконавча посада\", \"керівництво\", \"професіонал\", \"корпорація\", \"зарплата\", \"офіс\", \"бізнес\", \"кар'єра\"]\n",
    "Y = [\"дім\", \"батьки\", \"діти\", \"сім'я\", \"кузени\", \"шлюб\", \"весілля\", \"родичі\"]\n",
    "\n",
    "weat_x, weat_y, weat, weat_es = weat_score(X, Y, A, B, model)\n",
    "weat_x, weat_y, weat, weat_es"
   ]
  },
  {
   "cell_type": "code",
   "execution_count": 240,
   "id": "2648621e",
   "metadata": {},
   "outputs": [
    {
     "data": {
      "text/plain": [
       "(-0.014509654, -0.065336235, 0.05082658, 0.99464643)"
      ]
     },
     "execution_count": 240,
     "metadata": {},
     "output_type": "execute_result"
    }
   ],
   "source": [
    "#Google\n",
    "\n",
    "A = [\"чоловік\", \"чоловік\", \"хлопчик\", \"брат\", \"він\", \"він\", \"його\", \"син\"]\n",
    "B = [\"жінка\", \"жінка\", \"дівчина\", \"сестра\", \"вона\", \"вона\", \"її\", \"дочка\"]\n",
    "X = [\"математика\", \"алгебра\", \"геометрія\", \"обчислення\", \"рівняння\", \"обчислення\", \"числа\", \"додавання\"]\n",
    "Y = [\"поезія\", \"мистецтво\", \"танець\", \"література\", \"роман\", \"симфонія\", \"драма\", \"скульптура\"]\n",
    "\n",
    "\n",
    "weat_x, weat_y, weat, weat_es = weat_score(X, Y, A, B, model)\n",
    "weat_x, weat_y, weat, weat_es"
   ]
  },
  {
   "cell_type": "code",
   "execution_count": 241,
   "id": "157aabea",
   "metadata": {},
   "outputs": [
    {
     "data": {
      "text/plain": [
       "(-0.051838264, -0.08148188, 0.029643618, 0.85582745)"
      ]
     },
     "execution_count": 241,
     "metadata": {},
     "output_type": "execute_result"
    }
   ],
   "source": [
    "#Google\n",
    "\n",
    "A = [\"чоловік\", \"чоловік\", \"хлопчик\", \"брат\", \"він\", \"він\", \"його\", \"син\"]\n",
    "B = [\"жінка\", \"жінка\", \"дівчина\", \"сестра\", \"вона\", \"вона\", \"її\", \"дочка\"]\n",
    "X = [\"наука\", \"технологія\", \"фізика\", \"хімія\", \"Ейнштейн\", \"НАСА\", \"експеримент\", \"астрономія\"]\n",
    "Y = [\"поезія\", \"мистецтво\", \"Шекспір\", \"танець\", \"література\", \"роман\", \"симфонія\", \"драма\"]\n",
    "\n",
    "weat_x, weat_y, weat, weat_es = weat_score(X, Y, A, B, model)\n",
    "weat_x, weat_y, weat, weat_es"
   ]
  },
  {
   "cell_type": "markdown",
   "id": "53141ff4",
   "metadata": {},
   "source": [
    "## Urdu, ur"
   ]
  },
  {
   "cell_type": "code",
   "execution_count": 65,
   "id": "f573e35e",
   "metadata": {},
   "outputs": [
    {
     "name": "stdout",
     "output_type": "stream",
     "text": [
      "CPU times: user 3 µs, sys: 0 ns, total: 3 µs\n",
      "Wall time: 5.25 µs\n",
      "Loading model from  /Users/Napp/Desktop/Vectors/wiki.ur.bin\n"
     ]
    },
    {
     "name": "stderr",
     "output_type": "stream",
     "text": [
      "Warning : `load_model` does not return WordVectorModel or SupervisedModel any more, but a `FastText` object which is very similar.\n"
     ]
    }
   ],
   "source": [
    "%time\n",
    "lang = \"ur\"\n",
    "model_name = f\"wiki.{lang}.bin\" # the model file (should be the same, ending by '.bin')\n",
    "model = load_model(model_name)"
   ]
  },
  {
   "cell_type": "code",
   "execution_count": 66,
   "id": "71f4850f",
   "metadata": {},
   "outputs": [
    {
     "data": {
      "text/plain": [
       "(-0.08438225, -0.11451369, 0.030131437, 0.45688048)"
      ]
     },
     "execution_count": 66,
     "metadata": {},
     "output_type": "execute_result"
    }
   ],
   "source": [
    "#Google\n",
    "A = [\"مرد\" ,  \"مرد\" ,  \"لڑکا\" ,  \"بھائی\" ,  \"وہ\" ,  \"اسے\" ,  \"اس کا\" ,  \"بیٹا\"]\n",
    "B = [\"عورت\" ,  \"عورت\" ,  \"لڑکی\" ,  \"بہن\" ,  \"وہ\" ,  \"اس\" ,  \"اس کی\" ,  \"بیٹی\"]\n",
    "X = [\"ایگزیکٹو\" ,  \"منیجمنٹ\" ,  \"پیشہ ورانہ\" ,  \"کارپوریشن\" ,  \"تنخواہ\" ,  \"آفس\" ,  \"بزنس\" ,  \"کیرئیر\"]\n",
    "Y = [\"گھر\" ,  \"والدین\" ,  \"بچے\" ,  \"خاندان\" ,  \"کزن\" ,  \"شادی\" ,  \"شادی\" ,  \"رشتہ دار\"]\n",
    "\n",
    "\n",
    "\n",
    "weat_x, weat_y, weat, weat_es = weat_score(X, Y, A, B, model)\n",
    "weat_x, weat_y, weat, weat_es"
   ]
  },
  {
   "cell_type": "code",
   "execution_count": 67,
   "id": "bf679251",
   "metadata": {},
   "outputs": [
    {
     "data": {
      "text/plain": [
       "(-0.030240498, -0.036640696, 0.0064001977, 0.21866532)"
      ]
     },
     "execution_count": 67,
     "metadata": {},
     "output_type": "execute_result"
    }
   ],
   "source": [
    "#Google\n",
    "A = [\"مرد\" ,  \"مرد\" ,  \"لڑکا\" ,  \"بھائی\" ,  \"وہ\" ,  \"اسے\" ,  \"اس کا\" ,  \"بیٹا\"]\n",
    "B = [\"عورت\" ,  \"عورت\" ,  \"لڑکی\" ,  \"بہن\" ,  \"وہ\" ,  \"اس\" ,  \"اس کی\" ,  \"بیٹی\"]\n",
    "X = [\"ریاضی\" ,  \"الجبرا\" ,  \"جیومیٹری\" ,  \"کیلکولس\" ,  \"مساوات\" ,  \"حساب\" ,  \"نمبر\" ,  \"اضافہ\"]\n",
    "Y = [\"شاعری\" ,  \"فن\" ,  \"رقص\" ,  \"ادب\" ,  \"ناول\" ,  \"سمفنی\" ,  \"ڈرامہ\" ,  \"مجسمہ\"]\n",
    "\n",
    "\n",
    "weat_x, weat_y, weat, weat_es = weat_score(X, Y, A, B, model)\n",
    "weat_x, weat_y, weat, weat_es"
   ]
  },
  {
   "cell_type": "code",
   "execution_count": 68,
   "id": "35da3d58",
   "metadata": {},
   "outputs": [
    {
     "data": {
      "text/plain": [
       "(-0.04694801, -0.04606106, -0.0008869469, -0.026838472)"
      ]
     },
     "execution_count": 68,
     "metadata": {},
     "output_type": "execute_result"
    }
   ],
   "source": [
    "#Google\n",
    "A = [\"مرد\" , \"مرد\" , \"لڑکا\" , \"بھائی\" , \"وہ\" , \"اسے\" , \"اس کا\" , \"بیٹا\"]\n",
    "B = [\"عورت\" , \"عورت\" , \"لڑکی\" , \"بہن\" , \"وہ\" , \"اس\" , \"اس کی\" , \"بیٹی\"]\n",
    "X = [\"سائنس\" , \"ٹیکنالوجی\" , \"فزکس\" , \"کیمسٹری\" , \"آئنسٹائن\" , \"ناسا\" , \"تجربہ\" , \"فلکیات\"]\n",
    "Y = [\"شاعری\" , \"آرٹ\" , \"شیکسپیئر\" , \"رقص\" , \"ادب\" , \"ناول\" , \"سمفونی\" , \"ڈرامہ\"]\n",
    "\n",
    "\n",
    "\n",
    "weat_x, weat_y, weat, weat_es = weat_score(X, Y, A, B, model)\n",
    "weat_x, weat_y, weat, weat_es"
   ]
  },
  {
   "cell_type": "markdown",
   "id": "f01b0cc1",
   "metadata": {},
   "source": [
    "## Uzbekh, uz"
   ]
  },
  {
   "cell_type": "code",
   "execution_count": 182,
   "id": "e8f64719",
   "metadata": {
    "scrolled": true
   },
   "outputs": [
    {
     "name": "stdout",
     "output_type": "stream",
     "text": [
      "CPU times: user 3 µs, sys: 1e+03 ns, total: 4 µs\n",
      "Wall time: 6.2 µs\n",
      "Loading model from  /Users/Napp/Desktop/Vectors/wiki.uz.bin\n"
     ]
    },
    {
     "name": "stderr",
     "output_type": "stream",
     "text": [
      "Warning : `load_model` does not return WordVectorModel or SupervisedModel any more, but a `FastText` object which is very similar.\n"
     ]
    }
   ],
   "source": [
    "%time\n",
    "lang = \"uz\"\n",
    "model_name = f\"wiki.{lang}.bin\" # the model file (should be the same, ending by '.bin')\n",
    "model = load_model(model_name)"
   ]
  },
  {
   "cell_type": "code",
   "execution_count": 183,
   "id": "145ecacc",
   "metadata": {},
   "outputs": [
    {
     "data": {
      "text/plain": [
       "(-0.035224482, -0.06695771, 0.03173323, 0.53372437)"
      ]
     },
     "execution_count": 183,
     "metadata": {},
     "output_type": "execute_result"
    }
   ],
   "source": [
    "#Google\n",
    "\n",
    "A = [\"erkak\", \"erkak\", \"o'g'il\", \"aka\", \"u\", \"u\", \"uning\", \"o'g'li\"]\n",
    "B = [\"ayol\", \"ayol\", \"qiz\", \"singil\", \"u\", \"uning\", \"uning\", \"qizi\"]\n",
    "X = [\"ijrochi\", \"menejment\", \"professional\", \"korporatsiya\", \"ish haqi\", \"ofis\", \"biznes\", \"karera\"]\n",
    "Y = [\"uy\", \"ota-ona\", \"bolalar\", \"oila\", \"qarindoshlar\", \"nikoh\", \"to'y\", \"qarindoshlar\"]\n",
    "\n",
    "weat_x, weat_y, weat, weat_es = weat_score(X, Y, A, B, model)\n",
    "weat_x, weat_y, weat, weat_es"
   ]
  },
  {
   "cell_type": "code",
   "execution_count": 184,
   "id": "68cdbc8c",
   "metadata": {},
   "outputs": [
    {
     "data": {
      "text/plain": [
       "(0.0074734855, -0.031148935, 0.03862242, 0.82105446)"
      ]
     },
     "execution_count": 184,
     "metadata": {},
     "output_type": "execute_result"
    }
   ],
   "source": [
    "#Google\n",
    "\n",
    "A = [\"erkak\", \"erkak\", \"o'g'il\", \"aka\", \"u\", \"u\", \"uning\", \"o'g'li\"]\n",
    "B = [\"ayol\", \"ayol\", \"qiz\", \"singil\", \"u\", \"uning\", \"uning\", \"qizi\"]\n",
    "X = [\"matematika\", \"algebra\", \"geometriya\", \"hisoblash\", \"tenglamalar\", \"hisoblash\", \"sonlar\", \"qo'shish\"]\n",
    "Y = [\"she'r\", \"san'at\", \"raqs\", \"adabiyot\", \"roman\", \"simfoniya\", \"drama\", \"haykaltaroshlik\"]\n",
    "\n",
    "\n",
    "weat_x, weat_y, weat, weat_es = weat_score(X, Y, A, B, model)\n",
    "weat_x, weat_y, weat, weat_es"
   ]
  },
  {
   "cell_type": "code",
   "execution_count": 185,
   "id": "9d6f8140",
   "metadata": {},
   "outputs": [
    {
     "data": {
      "text/plain": [
       "(-0.02244962, -0.05920071, 0.03675109, 0.8826042)"
      ]
     },
     "execution_count": 185,
     "metadata": {},
     "output_type": "execute_result"
    }
   ],
   "source": [
    "#Google\n",
    "\n",
    "A = [\"erkak\", \"erkak\", \"o'g'il\", \"aka\", \"u\", \"u\", \"uning\", \"o'g'li\"]\n",
    "B = [\"ayol\", \"ayol\", \"qiz\", \"singil\", \"u\", \"uning\", \"uning\", \"qizi\"]\n",
    "X = [\"fan\", \"texnologiya\", \"fizika\", \"kimyo\", \"Eynshteyn\", \"NASA\", \"tajriba\", \"astronomiya\"]\n",
    "Y = [\"she'r\", \"san'at\", \"Shekspir\", \"raqs\", \"adabiyot\", \"roman\", \"simfoniya\", \"drama\"]\n",
    "\n",
    "weat_x, weat_y, weat, weat_es = weat_score(X, Y, A, B, model)\n",
    "weat_x, weat_y, weat, weat_es"
   ]
  },
  {
   "cell_type": "markdown",
   "id": "065a8fc8",
   "metadata": {},
   "source": [
    "## Vietnamese, vi"
   ]
  },
  {
   "cell_type": "code",
   "execution_count": 142,
   "id": "6bb7bab6",
   "metadata": {
    "scrolled": true
   },
   "outputs": [
    {
     "name": "stdout",
     "output_type": "stream",
     "text": [
      "CPU times: user 3 µs, sys: 1e+03 ns, total: 4 µs\n",
      "Wall time: 5.96 µs\n",
      "Loading model from  /Users/Napp/Desktop/Vectors/wiki.vi.bin\n"
     ]
    },
    {
     "name": "stderr",
     "output_type": "stream",
     "text": [
      "Warning : `load_model` does not return WordVectorModel or SupervisedModel any more, but a `FastText` object which is very similar.\n"
     ]
    }
   ],
   "source": [
    "%time\n",
    "lang = \"vi\"\n",
    "model_name = f\"wiki.{lang}.bin\" # the model file (should be the same, ending by '.bin')\n",
    "model = load_model(model_name)"
   ]
  },
  {
   "cell_type": "code",
   "execution_count": 143,
   "id": "aaa70fd2",
   "metadata": {},
   "outputs": [
    {
     "data": {
      "text/plain": [
       "(0.038619883, -0.008946884, 0.047566768, 1.1069307)"
      ]
     },
     "execution_count": 143,
     "metadata": {},
     "output_type": "execute_result"
    }
   ],
   "source": [
    "#Google\n",
    "A = [\"nam\", \"đàn ông\", \"cậu bé\", \"anh trai\", \"anh ấy\", \"anh ấy\", \"của anh ấy\", \"con trai\"]\n",
    "B = [\"nữ\", \"phụ nữ\", \"cô gái\", \"chị gái\", \"cô ấy\", \"cô ấy\", \"của cô ấy\", \"con gái\"]\n",
    "X = [\"điều hành\", \"quản lý\", \"chuyên nghiệp\", \"tập đoàn\", \"tiền lương\", \"văn phòng\", \"kinh doanh\", \"sự nghiệp\"]\n",
    "Y = [\"nhà\", \"bố mẹ\", \"con cái\", \"gia đình\", \"anh em họ hàng\", \"kết hôn\", \"đám cưới\", \"họ hàng\"]\n",
    "\n",
    "\n",
    "weat_x, weat_y, weat, weat_es = weat_score(X, Y, A, B, model)\n",
    "weat_x, weat_y, weat, weat_es"
   ]
  },
  {
   "cell_type": "code",
   "execution_count": 144,
   "id": "81d50dbb",
   "metadata": {},
   "outputs": [
    {
     "data": {
      "text/plain": [
       "(0.010957871, -0.0022258852, 0.013183756, 0.38573042)"
      ]
     },
     "execution_count": 144,
     "metadata": {},
     "output_type": "execute_result"
    }
   ],
   "source": [
    "#Google\n",
    "A = [\"nam\", \"đàn ông\", \"cậu bé\", \"anh trai\", \"anh ấy\", \"anh ấy\", \"của anh ấy\", \"con trai\"]\n",
    "B = [\"nữ\", \"phụ nữ\", \"cô gái\", \"chị gái\", \"cô ấy\", \"cô ấy\", \"của cô ấy\", \"con gái\"]\n",
    "X = [\"toán\", \"đại số\", \"hình học\", \"giải tích\", \"phương trình\", \"phép tính\", \"số\", \"phép cộng\"]\n",
    "Y = [\"thơ\", \"nghệ thuật\", \"khiêu vũ\", \"văn học\", \"tiểu thuyết\", \"giao hưởng\", \"kịch\", \"điêu khắc\"]\n",
    "\n",
    "\n",
    "\n",
    "weat_x, weat_y, weat, weat_es = weat_score(X, Y, A, B, model)\n",
    "weat_x, weat_y, weat, weat_es"
   ]
  },
  {
   "cell_type": "code",
   "execution_count": 145,
   "id": "dcefd38a",
   "metadata": {},
   "outputs": [
    {
     "data": {
      "text/plain": [
       "(-0.030923236, -0.038400672, 0.007477436, 0.3145061)"
      ]
     },
     "execution_count": 145,
     "metadata": {},
     "output_type": "execute_result"
    }
   ],
   "source": [
    "#Google\n",
    "A = [\"nam\", \"đàn ông\", \"cậu bé\", \"anh trai\", \"anh ấy\", \"anh ấy\", \"của anh ấy\", \"con trai\"]\n",
    "B = [\"nữ\", \"phụ nữ\", \"cô gái\", \"chị gái\", \"cô ấy\", \"cô ấy\", \"của cô ấy\", \"con gái\"]\n",
    "X = [\"khoa học\", \"công nghệ\", \"vật lý\", \"hóa học\", \"Einstein\", \"NASA\", \"thí nghiệm\", \"thiên văn học\"]\n",
    "Y = [\"thơ\", \"nghệ thuật\", \"Shakespeare\", \"khiêu vũ\", \"văn học\", \"tiểu thuyết\", \"giao hưởng\", \"kịch\"]\n",
    "\n",
    "\n",
    "\n",
    "weat_x, weat_y, weat, weat_es = weat_score(X, Y, A, B, model)\n",
    "weat_x, weat_y, weat, weat_es"
   ]
  },
  {
   "cell_type": "code",
   "execution_count": null,
   "id": "f80a7edb",
   "metadata": {},
   "outputs": [],
   "source": []
  }
 ],
 "metadata": {
  "kernelspec": {
   "display_name": "bias_wefe",
   "language": "python",
   "name": "bias_wefe"
  },
  "language_info": {
   "codemirror_mode": {
    "name": "ipython",
    "version": 3
   },
   "file_extension": ".py",
   "mimetype": "text/x-python",
   "name": "python",
   "nbconvert_exporter": "python",
   "pygments_lexer": "ipython3",
   "version": "3.7.15"
  }
 },
 "nbformat": 4,
 "nbformat_minor": 5
}
